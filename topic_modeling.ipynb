{
 "nbformat": 4,
 "nbformat_minor": 2,
 "metadata": {
  "language_info": {
   "name": "python",
   "codemirror_mode": {
    "name": "ipython",
    "version": 3
   },
   "version": "3.7.6-final"
  },
  "orig_nbformat": 2,
  "file_extension": ".py",
  "mimetype": "text/x-python",
  "name": "python",
  "npconvert_exporter": "python",
  "pygments_lexer": "ipython3",
  "version": 3,
  "kernelspec": {
   "name": "python3",
   "display_name": "Python 3"
  }
 },
 "cells": [
  {
   "cell_type": "code",
   "execution_count": 2,
   "metadata": {},
   "outputs": [],
   "source": [
    "import pandas as pd"
   ]
  },
  {
   "cell_type": "code",
   "execution_count": 3,
   "metadata": {},
   "outputs": [],
   "source": [
    "npr =  pd.read_csv('./data/npr.csv')"
   ]
  },
  {
   "cell_type": "code",
   "execution_count": 4,
   "metadata": {},
   "outputs": [
    {
     "data": {
      "text/html": "<div>\n<style scoped>\n    .dataframe tbody tr th:only-of-type {\n        vertical-align: middle;\n    }\n\n    .dataframe tbody tr th {\n        vertical-align: top;\n    }\n\n    .dataframe thead th {\n        text-align: right;\n    }\n</style>\n<table border=\"1\" class=\"dataframe\">\n  <thead>\n    <tr style=\"text-align: right;\">\n      <th></th>\n      <th>Article</th>\n    </tr>\n  </thead>\n  <tbody>\n    <tr>\n      <th>0</th>\n      <td>In the Washington of 2016, even when the polic...</td>\n    </tr>\n    <tr>\n      <th>1</th>\n      <td>Donald Trump has used Twitter  —   his prefe...</td>\n    </tr>\n    <tr>\n      <th>2</th>\n      <td>Donald Trump is unabashedly praising Russian...</td>\n    </tr>\n    <tr>\n      <th>3</th>\n      <td>Updated at 2:50 p. m. ET, Russian President Vl...</td>\n    </tr>\n    <tr>\n      <th>4</th>\n      <td>From photography, illustration and video, to d...</td>\n    </tr>\n  </tbody>\n</table>\n</div>",
      "text/plain": "                                             Article\n0  In the Washington of 2016, even when the polic...\n1    Donald Trump has used Twitter  —   his prefe...\n2    Donald Trump is unabashedly praising Russian...\n3  Updated at 2:50 p. m. ET, Russian President Vl...\n4  From photography, illustration and video, to d..."
     },
     "execution_count": 4,
     "metadata": {},
     "output_type": "execute_result"
    }
   ],
   "source": [
    "npr.head()"
   ]
  },
  {
   "cell_type": "code",
   "execution_count": 5,
   "metadata": {},
   "outputs": [
    {
     "data": {
      "text/plain": "11992"
     },
     "execution_count": 5,
     "metadata": {},
     "output_type": "execute_result"
    }
   ],
   "source": [
    "len(npr)"
   ]
  },
  {
   "cell_type": "markdown",
   "execution_count": null,
   "metadata": {},
   "outputs": [],
   "source": [
    "## Latent Dirichlet Allocation"
   ]
  },
  {
   "cell_type": "code",
   "execution_count": 6,
   "metadata": {},
   "outputs": [],
   "source": [
    "from sklearn.feature_extraction.text import CountVectorizer\n",
    "\n",
    "cv = CountVectorizer(max_df=0.95,min_df=2,stop_words='english')"
   ]
  },
  {
   "cell_type": "code",
   "execution_count": 7,
   "metadata": {},
   "outputs": [
    {
     "data": {
      "text/plain": "<11992x54777 sparse matrix of type '<class 'numpy.int64'>'\n\twith 3033388 stored elements in Compressed Sparse Row format>"
     },
     "execution_count": 7,
     "metadata": {},
     "output_type": "execute_result"
    }
   ],
   "source": [
    "doc_term_matrix = cv.fit_transform(npr['Article'])\n",
    "doc_term_matrix"
   ]
  },
  {
   "cell_type": "code",
   "execution_count": 8,
   "metadata": {},
   "outputs": [],
   "source": [
    "from sklearn.decomposition import LatentDirichletAllocation\n",
    "\n",
    "lda = LatentDirichletAllocation(n_components=7,random_state=42)"
   ]
  },
  {
   "cell_type": "code",
   "execution_count": 9,
   "metadata": {},
   "outputs": [
    {
     "data": {
      "text/plain": "LatentDirichletAllocation(batch_size=128, doc_topic_prior=None,\n             evaluate_every=-1, learning_decay=0.7,\n             learning_method='batch', learning_offset=10.0,\n             max_doc_update_iter=100, max_iter=10, mean_change_tol=0.001,\n             n_components=7, n_jobs=None, n_topics=None, perp_tol=0.1,\n             random_state=42, topic_word_prior=None,\n             total_samples=1000000.0, verbose=0)"
     },
     "execution_count": 9,
     "metadata": {},
     "output_type": "execute_result"
    }
   ],
   "source": [
    "lda.fit(doc_term_matrix)"
   ]
  },
  {
   "cell_type": "code",
   "execution_count": 10,
   "metadata": {},
   "outputs": [
    {
     "data": {
      "text/plain": "7"
     },
     "execution_count": 10,
     "metadata": {},
     "output_type": "execute_result"
    }
   ],
   "source": [
    "len(lda.components_)"
   ]
  },
  {
   "cell_type": "code",
   "execution_count": 11,
   "metadata": {},
   "outputs": [],
   "source": [
    "def print_topwords(n,model,vectorizer):\n",
    "    print(f'The top {n} words\\n----------------')\n",
    "    feature_names = vectorizer.get_feature_names()\n",
    "    for i,topic in enumerate(model.components_):\n",
    "        print(f\"Topic: {i}\")\n",
    "        print(', '.join([feature_names[index] for index in topic.argsort()[-n:]]),'\\n')"
   ]
  },
  {
   "cell_type": "code",
   "execution_count": 12,
   "metadata": {},
   "outputs": [
    {
     "name": "stdout",
     "output_type": "stream",
     "text": "The top 15 words\n----------------\nTopic: 0\ncompanies, money, year, federal, 000, new, percent, government, company, million, care, people, health, said, says \n\nTopic: 1\nmilitary, house, security, russia, government, npr, reports, says, news, people, told, police, president, trump, said \n\nTopic: 2\nway, world, family, home, day, time, water, city, new, years, food, just, people, like, says \n\nTopic: 3\ntime, new, don, years, medical, disease, patients, just, children, study, like, women, health, people, says \n\nTopic: 4\nvoters, vote, election, party, new, obama, court, republican, campaign, people, state, president, clinton, said, trump \n\nTopic: 5\nyears, going, ve, life, don, new, way, music, really, time, know, think, people, just, like \n\nTopic: 6\nstudent, years, data, science, university, people, time, schools, just, education, new, like, students, school, says \n\n"
    }
   ],
   "source": [
    "print_topwords(15, lda, cv)"
   ]
  },
  {
   "cell_type": "code",
   "execution_count": 13,
   "metadata": {},
   "outputs": [],
   "source": [
    "topic_results = lda.transform(doc_term_matrix)"
   ]
  },
  {
   "cell_type": "code",
   "execution_count": 14,
   "metadata": {},
   "outputs": [],
   "source": [
    "npr['Topic LDA'] = topic_results.argmax(axis=1)"
   ]
  },
  {
   "cell_type": "code",
   "execution_count": 15,
   "metadata": {},
   "outputs": [
    {
     "data": {
      "text/html": "<div>\n<style scoped>\n    .dataframe tbody tr th:only-of-type {\n        vertical-align: middle;\n    }\n\n    .dataframe tbody tr th {\n        vertical-align: top;\n    }\n\n    .dataframe thead th {\n        text-align: right;\n    }\n</style>\n<table border=\"1\" class=\"dataframe\">\n  <thead>\n    <tr style=\"text-align: right;\">\n      <th></th>\n      <th>Article</th>\n      <th>Topic LDA</th>\n    </tr>\n  </thead>\n  <tbody>\n    <tr>\n      <th>0</th>\n      <td>In the Washington of 2016, even when the polic...</td>\n      <td>1</td>\n    </tr>\n    <tr>\n      <th>1</th>\n      <td>Donald Trump has used Twitter  —   his prefe...</td>\n      <td>1</td>\n    </tr>\n    <tr>\n      <th>2</th>\n      <td>Donald Trump is unabashedly praising Russian...</td>\n      <td>1</td>\n    </tr>\n    <tr>\n      <th>3</th>\n      <td>Updated at 2:50 p. m. ET, Russian President Vl...</td>\n      <td>1</td>\n    </tr>\n    <tr>\n      <th>4</th>\n      <td>From photography, illustration and video, to d...</td>\n      <td>2</td>\n    </tr>\n    <tr>\n      <th>5</th>\n      <td>I did not want to join yoga class. I hated tho...</td>\n      <td>3</td>\n    </tr>\n    <tr>\n      <th>6</th>\n      <td>With a   who has publicly supported the debunk...</td>\n      <td>3</td>\n    </tr>\n    <tr>\n      <th>7</th>\n      <td>I was standing by the airport exit, debating w...</td>\n      <td>2</td>\n    </tr>\n    <tr>\n      <th>8</th>\n      <td>If movies were trying to be more realistic, pe...</td>\n      <td>3</td>\n    </tr>\n    <tr>\n      <th>9</th>\n      <td>Eighteen years ago, on New Year’s Eve, David F...</td>\n      <td>2</td>\n    </tr>\n  </tbody>\n</table>\n</div>",
      "text/plain": "                                             Article  Topic LDA\n0  In the Washington of 2016, even when the polic...          1\n1    Donald Trump has used Twitter  —   his prefe...          1\n2    Donald Trump is unabashedly praising Russian...          1\n3  Updated at 2:50 p. m. ET, Russian President Vl...          1\n4  From photography, illustration and video, to d...          2\n5  I did not want to join yoga class. I hated tho...          3\n6  With a   who has publicly supported the debunk...          3\n7  I was standing by the airport exit, debating w...          2\n8  If movies were trying to be more realistic, pe...          3\n9  Eighteen years ago, on New Year’s Eve, David F...          2"
     },
     "execution_count": 15,
     "metadata": {},
     "output_type": "execute_result"
    }
   ],
   "source": [
    "npr.head(10)"
   ]
  },
  {
   "cell_type": "markdown",
   "execution_count": null,
   "metadata": {},
   "outputs": [],
   "source": [
    "## Non Negative Matrix Factorization"
   ]
  },
  {
   "cell_type": "code",
   "execution_count": 16,
   "metadata": {},
   "outputs": [],
   "source": [
    "from sklearn.feature_extraction.text import TfidfVectorizer\n",
    "\n",
    "tfidf = TfidfVectorizer(max_df=0.95,min_df=2,stop_words='english')"
   ]
  },
  {
   "cell_type": "code",
   "execution_count": 17,
   "metadata": {},
   "outputs": [],
   "source": [
    "doc_term_matrix = tfidf.fit_transform(npr['Article'])"
   ]
  },
  {
   "cell_type": "code",
   "execution_count": 18,
   "metadata": {},
   "outputs": [
    {
     "data": {
      "text/plain": "<11992x54777 sparse matrix of type '<class 'numpy.float64'>'\n\twith 3033388 stored elements in Compressed Sparse Row format>"
     },
     "execution_count": 18,
     "metadata": {},
     "output_type": "execute_result"
    }
   ],
   "source": [
    "doc_term_matrix"
   ]
  },
  {
   "cell_type": "code",
   "execution_count": 19,
   "metadata": {},
   "outputs": [],
   "source": [
    "from sklearn.decomposition import NMF\n",
    "\n",
    "nmf = NMF(n_components=7,random_state=42)"
   ]
  },
  {
   "cell_type": "code",
   "execution_count": 20,
   "metadata": {},
   "outputs": [
    {
     "data": {
      "text/plain": "NMF(alpha=0.0, beta_loss='frobenius', init=None, l1_ratio=0.0, max_iter=200,\n  n_components=7, random_state=42, shuffle=False, solver='cd', tol=0.0001,\n  verbose=0)"
     },
     "execution_count": 20,
     "metadata": {},
     "output_type": "execute_result"
    }
   ],
   "source": [
    "nmf.fit(doc_term_matrix)"
   ]
  },
  {
   "cell_type": "code",
   "execution_count": 21,
   "metadata": {},
   "outputs": [
    {
     "name": "stdout",
     "output_type": "stream",
     "text": "The top 15 words\n----------------\nTopic: 0\nnew, research, like, patients, health, disease, percent, women, virus, study, water, food, people, zika, says \n\nTopic: 1\ngop, pence, presidential, russia, administration, election, republican, obama, white, house, donald, campaign, said, president, trump \n\nTopic: 2\nsenate, house, people, act, law, tax, plan, republicans, affordable, obamacare, coverage, medicaid, insurance, care, health \n\nTopic: 3\nofficers, syria, security, department, law, isis, russia, government, state, attack, president, reports, court, said, police \n\nTopic: 4\nprimary, cruz, election, democrats, percent, party, delegates, vote, state, democratic, hillary, campaign, voters, sanders, clinton \n\nTopic: 5\nlove, ve, don, album, way, time, song, life, really, know, people, think, just, music, like \n\nTopic: 6\nteacher, state, high, says, parents, devos, children, college, kids, teachers, student, education, schools, school, students \n\n"
    }
   ],
   "source": [
    "print_topwords(15,nmf,tfidf)"
   ]
  },
  {
   "cell_type": "code",
   "execution_count": 22,
   "metadata": {},
   "outputs": [],
   "source": [
    "topic_results = nmf.transform(doc_term_matrix)"
   ]
  },
  {
   "cell_type": "code",
   "execution_count": 23,
   "metadata": {},
   "outputs": [],
   "source": [
    "npr['Topic NMF']=topic_results.argmax(axis=1)"
   ]
  },
  {
   "cell_type": "code",
   "execution_count": 24,
   "metadata": {},
   "outputs": [
    {
     "name": "stdout",
     "output_type": "stream",
     "text": "The top 15 words\n----------------\nTopic: 0\ncompanies, money, year, federal, 000, new, percent, government, company, million, care, people, health, said, says \n\nTopic: 1\nmilitary, house, security, russia, government, npr, reports, says, news, people, told, police, president, trump, said \n\nTopic: 2\nway, world, family, home, day, time, water, city, new, years, food, just, people, like, says \n\nTopic: 3\ntime, new, don, years, medical, disease, patients, just, children, study, like, women, health, people, says \n\nTopic: 4\nvoters, vote, election, party, new, obama, court, republican, campaign, people, state, president, clinton, said, trump \n\nTopic: 5\nyears, going, ve, life, don, new, way, music, really, time, know, think, people, just, like \n\nTopic: 6\nstudent, years, data, science, university, people, time, schools, just, education, new, like, students, school, says \n\n"
    }
   ],
   "source": [
    "print_topwords(15,lda,cv)"
   ]
  },
  {
   "cell_type": "code",
   "execution_count": 25,
   "metadata": {},
   "outputs": [
    {
     "name": "stdout",
     "output_type": "stream",
     "text": "The top 15 words\n----------------\nTopic: 0\nnew, research, like, patients, health, disease, percent, women, virus, study, water, food, people, zika, says \n\nTopic: 1\ngop, pence, presidential, russia, administration, election, republican, obama, white, house, donald, campaign, said, president, trump \n\nTopic: 2\nsenate, house, people, act, law, tax, plan, republicans, affordable, obamacare, coverage, medicaid, insurance, care, health \n\nTopic: 3\nofficers, syria, security, department, law, isis, russia, government, state, attack, president, reports, court, said, police \n\nTopic: 4\nprimary, cruz, election, democrats, percent, party, delegates, vote, state, democratic, hillary, campaign, voters, sanders, clinton \n\nTopic: 5\nlove, ve, don, album, way, time, song, life, really, know, people, think, just, music, like \n\nTopic: 6\nteacher, state, high, says, parents, devos, children, college, kids, teachers, student, education, schools, school, students \n\n"
    }
   ],
   "source": [
    "print_topwords(15,nmf,tfidf)"
   ]
  },
  {
   "cell_type": "code",
   "execution_count": 27,
   "metadata": {},
   "outputs": [
    {
     "data": {
      "text/html": "<div>\n<style scoped>\n    .dataframe tbody tr th:only-of-type {\n        vertical-align: middle;\n    }\n\n    .dataframe tbody tr th {\n        vertical-align: top;\n    }\n\n    .dataframe thead th {\n        text-align: right;\n    }\n</style>\n<table border=\"1\" class=\"dataframe\">\n  <thead>\n    <tr style=\"text-align: right;\">\n      <th></th>\n      <th>Article</th>\n      <th>Topic LDA</th>\n      <th>Topic NMF</th>\n    </tr>\n  </thead>\n  <tbody>\n    <tr>\n      <th>0</th>\n      <td>In the Washington of 2016, even when the polic...</td>\n      <td>1</td>\n      <td>1</td>\n    </tr>\n    <tr>\n      <th>1</th>\n      <td>Donald Trump has used Twitter  —   his prefe...</td>\n      <td>1</td>\n      <td>1</td>\n    </tr>\n    <tr>\n      <th>2</th>\n      <td>Donald Trump is unabashedly praising Russian...</td>\n      <td>1</td>\n      <td>1</td>\n    </tr>\n    <tr>\n      <th>3</th>\n      <td>Updated at 2:50 p. m. ET, Russian President Vl...</td>\n      <td>1</td>\n      <td>3</td>\n    </tr>\n    <tr>\n      <th>4</th>\n      <td>From photography, illustration and video, to d...</td>\n      <td>2</td>\n      <td>6</td>\n    </tr>\n    <tr>\n      <th>5</th>\n      <td>I did not want to join yoga class. I hated tho...</td>\n      <td>3</td>\n      <td>5</td>\n    </tr>\n    <tr>\n      <th>6</th>\n      <td>With a   who has publicly supported the debunk...</td>\n      <td>3</td>\n      <td>0</td>\n    </tr>\n    <tr>\n      <th>7</th>\n      <td>I was standing by the airport exit, debating w...</td>\n      <td>2</td>\n      <td>0</td>\n    </tr>\n    <tr>\n      <th>8</th>\n      <td>If movies were trying to be more realistic, pe...</td>\n      <td>3</td>\n      <td>0</td>\n    </tr>\n    <tr>\n      <th>9</th>\n      <td>Eighteen years ago, on New Year’s Eve, David F...</td>\n      <td>2</td>\n      <td>5</td>\n    </tr>\n    <tr>\n      <th>10</th>\n      <td>For years now, some of the best, wildest, most...</td>\n      <td>5</td>\n      <td>5</td>\n    </tr>\n    <tr>\n      <th>11</th>\n      <td>For years now, some of the best, wildest, most...</td>\n      <td>5</td>\n      <td>5</td>\n    </tr>\n    <tr>\n      <th>12</th>\n      <td>The Colorado River is like a giant bank accoun...</td>\n      <td>2</td>\n      <td>0</td>\n    </tr>\n    <tr>\n      <th>13</th>\n      <td>For the last installment of NPR’s holiday reci...</td>\n      <td>2</td>\n      <td>5</td>\n    </tr>\n    <tr>\n      <th>14</th>\n      <td>Being overweight can raise your blood pressure...</td>\n      <td>3</td>\n      <td>0</td>\n    </tr>\n    <tr>\n      <th>15</th>\n      <td>Who’s the YouTube star of 2016? Adele singing ...</td>\n      <td>5</td>\n      <td>5</td>\n    </tr>\n    <tr>\n      <th>16</th>\n      <td>Here’s a quick roundup of some of the   you ma...</td>\n      <td>2</td>\n      <td>3</td>\n    </tr>\n    <tr>\n      <th>17</th>\n      <td>Ben Johnston doesn’t follow the rules of music...</td>\n      <td>5</td>\n      <td>5</td>\n    </tr>\n    <tr>\n      <th>18</th>\n      <td>David Bowie, Prince and George Michael are all...</td>\n      <td>5</td>\n      <td>5</td>\n    </tr>\n    <tr>\n      <th>19</th>\n      <td>In November, the typically straitlaced Office ...</td>\n      <td>1</td>\n      <td>1</td>\n    </tr>\n  </tbody>\n</table>\n</div>",
      "text/plain": "                                              Article  Topic LDA  Topic NMF\n0   In the Washington of 2016, even when the polic...          1          1\n1     Donald Trump has used Twitter  —   his prefe...          1          1\n2     Donald Trump is unabashedly praising Russian...          1          1\n3   Updated at 2:50 p. m. ET, Russian President Vl...          1          3\n4   From photography, illustration and video, to d...          2          6\n5   I did not want to join yoga class. I hated tho...          3          5\n6   With a   who has publicly supported the debunk...          3          0\n7   I was standing by the airport exit, debating w...          2          0\n8   If movies were trying to be more realistic, pe...          3          0\n9   Eighteen years ago, on New Year’s Eve, David F...          2          5\n10  For years now, some of the best, wildest, most...          5          5\n11  For years now, some of the best, wildest, most...          5          5\n12  The Colorado River is like a giant bank accoun...          2          0\n13  For the last installment of NPR’s holiday reci...          2          5\n14  Being overweight can raise your blood pressure...          3          0\n15  Who’s the YouTube star of 2016? Adele singing ...          5          5\n16  Here’s a quick roundup of some of the   you ma...          2          3\n17  Ben Johnston doesn’t follow the rules of music...          5          5\n18  David Bowie, Prince and George Michael are all...          5          5\n19  In November, the typically straitlaced Office ...          1          1"
     },
     "execution_count": 27,
     "metadata": {},
     "output_type": "execute_result"
    }
   ],
   "source": [
    "npr.head(20)"
   ]
  },
  {
   "cell_type": "code",
   "execution_count": null,
   "metadata": {},
   "outputs": [],
   "source": []
  }
 ]
}