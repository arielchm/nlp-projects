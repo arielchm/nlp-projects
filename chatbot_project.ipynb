{
 "nbformat": 4,
 "nbformat_minor": 2,
 "metadata": {
  "language_info": {
   "name": "python",
   "codemirror_mode": {
    "name": "ipython",
    "version": 3
   },
   "version": "3.7.6-final"
  },
  "orig_nbformat": 2,
  "file_extension": ".py",
  "mimetype": "text/x-python",
  "name": "python",
  "npconvert_exporter": "python",
  "pygments_lexer": "ipython3",
  "version": 3,
  "kernelspec": {
   "name": "python3",
   "display_name": "Python 3"
  }
 },
 "cells": [
  {
   "cell_type": "code",
   "execution_count": 75,
   "metadata": {},
   "outputs": [],
   "source": [
    "import pickle\n",
    "import numpy as np"
   ]
  },
  {
   "cell_type": "code",
   "execution_count": 76,
   "metadata": {},
   "outputs": [],
   "source": [
    "with open('./data/train_qa','rb') as f:\n",
    "    train_data = pickle.load(f)"
   ]
  },
  {
   "cell_type": "code",
   "execution_count": 77,
   "metadata": {},
   "outputs": [],
   "source": [
    "with open('./data/test_qa','rb') as f:\n",
    "    test_data = pickle.load(f)"
   ]
  },
  {
   "cell_type": "code",
   "execution_count": 78,
   "metadata": {},
   "outputs": [
    {
     "data": {
      "text/plain": "'Mary moved to the bathroom . Sandra journeyed to the bedroom .'"
     },
     "execution_count": 78,
     "metadata": {},
     "output_type": "execute_result"
    }
   ],
   "source": [
    "' '.join(train_data[0][0])"
   ]
  },
  {
   "cell_type": "code",
   "execution_count": 79,
   "metadata": {},
   "outputs": [
    {
     "data": {
      "text/plain": "'Is Sandra in the hallway ?'"
     },
     "execution_count": 79,
     "metadata": {},
     "output_type": "execute_result"
    }
   ],
   "source": [
    "' '.join(train_data[0][1])"
   ]
  },
  {
   "cell_type": "code",
   "execution_count": 80,
   "metadata": {},
   "outputs": [
    {
     "data": {
      "text/plain": "'no'"
     },
     "execution_count": 80,
     "metadata": {},
     "output_type": "execute_result"
    }
   ],
   "source": [
    "train_data[0][2]"
   ]
  },
  {
   "cell_type": "code",
   "execution_count": 81,
   "metadata": {},
   "outputs": [],
   "source": [
    "dataset = test_data + train_data"
   ]
  },
  {
   "cell_type": "code",
   "execution_count": 82,
   "metadata": {},
   "outputs": [],
   "source": [
    "vocab =set()\n",
    "\n",
    "for story,question,answer in dataset:\n",
    "    vocab = vocab.union(set(story))\n",
    "    vocab = vocab.union(set(question))\n",
    "\n",
    "vocab.add('no')\n",
    "vocab.add('yes')"
   ]
  },
  {
   "cell_type": "code",
   "execution_count": 83,
   "metadata": {},
   "outputs": [],
   "source": [
    "vocab_len = len(vocab) + 1 "
   ]
  },
  {
   "cell_type": "code",
   "execution_count": 84,
   "metadata": {},
   "outputs": [
    {
     "data": {
      "text/plain": "156"
     },
     "execution_count": 84,
     "metadata": {},
     "output_type": "execute_result"
    }
   ],
   "source": [
    "max_story_len = max([len(data[0]) for data in dataset])\n",
    "max_story_len"
   ]
  },
  {
   "cell_type": "code",
   "execution_count": 85,
   "metadata": {},
   "outputs": [
    {
     "data": {
      "text/plain": "6"
     },
     "execution_count": 85,
     "metadata": {},
     "output_type": "execute_result"
    }
   ],
   "source": [
    "max_question_len = max([len(data[1]) for data in dataset])\n",
    "max_question_len"
   ]
  },
  {
   "cell_type": "code",
   "execution_count": 86,
   "metadata": {},
   "outputs": [
    {
     "data": {
      "text/plain": "{'.',\n '?',\n 'Daniel',\n 'Is',\n 'John',\n 'Mary',\n 'Sandra',\n 'apple',\n 'back',\n 'bathroom',\n 'bedroom',\n 'discarded',\n 'down',\n 'dropped',\n 'football',\n 'garden',\n 'got',\n 'grabbed',\n 'hallway',\n 'in',\n 'journeyed',\n 'kitchen',\n 'left',\n 'milk',\n 'moved',\n 'no',\n 'office',\n 'picked',\n 'put',\n 'the',\n 'there',\n 'to',\n 'took',\n 'travelled',\n 'up',\n 'went',\n 'yes'}"
     },
     "execution_count": 86,
     "metadata": {},
     "output_type": "execute_result"
    }
   ],
   "source": [
    "vocab"
   ]
  },
  {
   "cell_type": "code",
   "execution_count": 87,
   "metadata": {},
   "outputs": [],
   "source": [
    "vocab_size = len(vocab) + 1"
   ]
  },
  {
   "cell_type": "code",
   "execution_count": 88,
   "metadata": {},
   "outputs": [],
   "source": [
    "from keras.preprocessing.sequence import pad_sequences\n",
    "from keras.preprocessing.text import Tokenizer"
   ]
  },
  {
   "cell_type": "code",
   "execution_count": 89,
   "metadata": {},
   "outputs": [],
   "source": [
    "tokenizer = Tokenizer(filters=[])\n",
    "tokenizer.fit_on_texts(vocab)"
   ]
  },
  {
   "cell_type": "code",
   "execution_count": 90,
   "metadata": {},
   "outputs": [
    {
     "data": {
      "text/plain": "{'got': 1,\n 'milk': 2,\n 'up': 3,\n 'picked': 4,\n 'grabbed': 5,\n 'put': 6,\n 'sandra': 7,\n 'mary': 8,\n 'john': 9,\n 'to': 10,\n 'travelled': 11,\n 'took': 12,\n 'went': 13,\n '?': 14,\n 'in': 15,\n 'moved': 16,\n 'discarded': 17,\n 'football': 18,\n 'down': 19,\n 'garden': 20,\n 'the': 21,\n 'there': 22,\n 'dropped': 23,\n 'yes': 24,\n 'daniel': 25,\n 'hallway': 26,\n 'kitchen': 27,\n 'journeyed': 28,\n 'is': 29,\n 'bathroom': 30,\n '.': 31,\n 'left': 32,\n 'no': 33,\n 'back': 34,\n 'apple': 35,\n 'bedroom': 36,\n 'office': 37}"
     },
     "execution_count": 90,
     "metadata": {},
     "output_type": "execute_result"
    }
   ],
   "source": [
    "tokenizer.word_index"
   ]
  },
  {
   "cell_type": "code",
   "execution_count": 91,
   "metadata": {},
   "outputs": [],
   "source": [
    "train_story_text = []\n",
    "train_question_text = []\n",
    "train_answers = []\n",
    "\n",
    "for story,question,answer in train_data:\n",
    "    train_story_text.append(story)\n",
    "    train_question_text.append(question)"
   ]
  },
  {
   "cell_type": "code",
   "execution_count": 92,
   "metadata": {},
   "outputs": [],
   "source": [
    "train_story_seq = tokenizer.texts_to_sequences(train_story_text)"
   ]
  },
  {
   "cell_type": "code",
   "execution_count": 93,
   "metadata": {},
   "outputs": [],
   "source": [
    "def vectorize_stories(data,word_index=tokenizer.word_index,max_story_len=max_story_len,max_question_len=max_question_len):\n",
    "    # Stories\n",
    "    X = []\n",
    "    # Questions\n",
    "    Xq = []\n",
    "    # Y correct answer\n",
    "    Y =[]\n",
    "    \n",
    "    for story,query,answer in data:\n",
    "        x = [word_index[word.lower()] for word in story]\n",
    "        xq = [word_index[word.lower()] for word in query]\n",
    "        y = np.zeros(len(word_index)+1)\n",
    "        \n",
    "        y[word_index[answer]] = 1\n",
    "        \n",
    "        X.append(x)\n",
    "        Xq.append(xq)\n",
    "        Y.append(y)\n",
    "    \n",
    "    return (pad_sequences(X,maxlen=max_story_len),pad_sequences(Xq,maxlen=max_question_len),np.array(Y))"
   ]
  },
  {
   "cell_type": "code",
   "execution_count": 94,
   "metadata": {},
   "outputs": [],
   "source": [
    "inputs_train,queries_train,answers_train = vectorize_stories(train_data)"
   ]
  },
  {
   "cell_type": "code",
   "execution_count": 95,
   "metadata": {},
   "outputs": [],
   "source": [
    "inputs_test, queries_test, answers_test = vectorize_stories(test_data)"
   ]
  },
  {
   "cell_type": "code",
   "execution_count": 96,
   "metadata": {},
   "outputs": [],
   "source": [
    "from keras.models import Sequential,Model\n",
    "from keras.layers.embeddings import Embedding\n",
    "from keras.layers import Input,Activation,Dense,Permute,Dropout,add,dot,concatenate,LSTM"
   ]
  },
  {
   "cell_type": "code",
   "execution_count": 97,
   "metadata": {},
   "outputs": [],
   "source": [
    "input_sequence = Input((max_story_len,))\n",
    "question = Input((max_question_len,))"
   ]
  },
  {
   "cell_type": "code",
   "execution_count": 98,
   "metadata": {},
   "outputs": [],
   "source": [
    "# Input Encoder M\n",
    "input_encoder_m = Sequential()\n",
    "input_encoder_m.add(Embedding(input_dim=vocab_size,output_dim=64))\n",
    "input_encoder_m.add(Dropout(0.3))\n",
    "\n",
    "# Input Encoder C\n",
    "input_encoder_c = Sequential()\n",
    "input_encoder_c.add(Embedding(input_dim=vocab_size,output_dim=max_question_len))\n",
    "input_encoder_c.add(Dropout(0.3))\n",
    "\n",
    "# Question Encoder\n",
    "question_encoder = Sequential()\n",
    "question_encoder.add(Embedding(input_dim=vocab_size,output_dim=64,input_length=max_question_len))\n",
    "question_encoder.add(Dropout(0.3))"
   ]
  },
  {
   "cell_type": "code",
   "execution_count": 99,
   "metadata": {},
   "outputs": [],
   "source": [
    "input_encoded_m = input_encoder_m(input_sequence)\n",
    "input_encoded_c = input_encoder_c(input_sequence)\n",
    "question_encoded = question_encoder(question)"
   ]
  },
  {
   "cell_type": "code",
   "execution_count": 100,
   "metadata": {},
   "outputs": [],
   "source": [
    "match = dot([input_encoded_m,question_encoded],axes=(2,2))\n",
    "match = Activation('softmax')(match)"
   ]
  },
  {
   "cell_type": "code",
   "execution_count": 101,
   "metadata": {},
   "outputs": [],
   "source": [
    "response = add([match,input_encoded_c])\n",
    "response = Permute((2,1))(response)"
   ]
  },
  {
   "cell_type": "code",
   "execution_count": 102,
   "metadata": {},
   "outputs": [
    {
     "data": {
      "text/plain": "<tf.Tensor 'concatenate_2/concat:0' shape=(?, 6, 220) dtype=float32>"
     },
     "execution_count": 102,
     "metadata": {},
     "output_type": "execute_result"
    }
   ],
   "source": [
    "answer = concatenate([response,question_encoded])\n",
    "answer"
   ]
  },
  {
   "cell_type": "code",
   "execution_count": 103,
   "metadata": {},
   "outputs": [],
   "source": [
    "answer = LSTM(32)(answer)\n",
    "answer = Dropout(0.5)(answer)\n",
    "answer = Dense(vocab_size)(answer)\n",
    "answer = Activation('softmax')(answer)"
   ]
  },
  {
   "cell_type": "code",
   "execution_count": 104,
   "metadata": {},
   "outputs": [],
   "source": [
    "model = Model([input_sequence, question], answer)\n",
    "model.compile(optimizer='rmsprop', loss='categorical_crossentropy',\n",
    "              metrics=['accuracy'])"
   ]
  },
  {
   "cell_type": "code",
   "execution_count": 105,
   "metadata": {},
   "outputs": [
    {
     "name": "stdout",
     "output_type": "stream",
     "text": "__________________________________________________________________________________________________\nLayer (type)                    Output Shape         Param #     Connected to                     \n==================================================================================================\ninput_3 (InputLayer)            (None, 156)          0                                            \n__________________________________________________________________________________________________\ninput_4 (InputLayer)            (None, 6)            0                                            \n__________________________________________________________________________________________________\nsequential_4 (Sequential)       multiple             2432        input_3[0][0]                    \n__________________________________________________________________________________________________\nsequential_6 (Sequential)       (None, 6, 64)        2432        input_4[0][0]                    \n__________________________________________________________________________________________________\ndot_2 (Dot)                     (None, 156, 6)       0           sequential_4[1][0]               \n                                                                 sequential_6[1][0]               \n__________________________________________________________________________________________________\nactivation_3 (Activation)       (None, 156, 6)       0           dot_2[0][0]                      \n__________________________________________________________________________________________________\nsequential_5 (Sequential)       multiple             228         input_3[0][0]                    \n__________________________________________________________________________________________________\nadd_2 (Add)                     (None, 156, 6)       0           activation_3[0][0]               \n                                                                 sequential_5[1][0]               \n__________________________________________________________________________________________________\npermute_2 (Permute)             (None, 6, 156)       0           add_2[0][0]                      \n__________________________________________________________________________________________________\nconcatenate_2 (Concatenate)     (None, 6, 220)       0           permute_2[0][0]                  \n                                                                 sequential_6[1][0]               \n__________________________________________________________________________________________________\nlstm_2 (LSTM)                   (None, 32)           32384       concatenate_2[0][0]              \n__________________________________________________________________________________________________\ndropout_8 (Dropout)             (None, 32)           0           lstm_2[0][0]                     \n__________________________________________________________________________________________________\ndense_2 (Dense)                 (None, 38)           1254        dropout_8[0][0]                  \n__________________________________________________________________________________________________\nactivation_4 (Activation)       (None, 38)           0           dense_2[0][0]                    \n==================================================================================================\nTotal params: 38,730\nTrainable params: 38,730\nNon-trainable params: 0\n__________________________________________________________________________________________________\n"
    }
   ],
   "source": [
    "model.summary()"
   ]
  },
  {
   "cell_type": "code",
   "execution_count": 106,
   "metadata": {},
   "outputs": [
    {
     "name": "stdout",
     "output_type": "stream",
     "text": "Train on 10000 samples, validate on 1000 samples\nEpoch 1/120\n10000/10000 [==============================] - 11s 1ms/step - loss: 0.8406 - acc: 0.4950 - val_loss: 0.6946 - val_acc: 0.4970\nEpoch 2/120\n10000/10000 [==============================] - 8s 832us/step - loss: 0.6982 - acc: 0.5034 - val_loss: 0.6934 - val_acc: 0.4970\nEpoch 3/120\n10000/10000 [==============================] - 8s 786us/step - loss: 0.6960 - acc: 0.5024 - val_loss: 0.6933 - val_acc: 0.4970\nEpoch 4/120\n10000/10000 [==============================] - 8s 784us/step - loss: 0.6955 - acc: 0.4908 - val_loss: 0.6948 - val_acc: 0.4970\nEpoch 5/120\n10000/10000 [==============================] - 8s 836us/step - loss: 0.6944 - acc: 0.5068 - val_loss: 0.6940 - val_acc: 0.4970\nEpoch 6/120\n10000/10000 [==============================] - 8s 791us/step - loss: 0.6950 - acc: 0.5049 - val_loss: 0.6941 - val_acc: 0.4970\nEpoch 7/120\n10000/10000 [==============================] - 8s 796us/step - loss: 0.6940 - acc: 0.5075 - val_loss: 0.6954 - val_acc: 0.5030\nEpoch 8/120\n10000/10000 [==============================] - 8s 777us/step - loss: 0.6950 - acc: 0.4986 - val_loss: 0.6943 - val_acc: 0.4970\nEpoch 9/120\n10000/10000 [==============================] - 9s 862us/step - loss: 0.6950 - acc: 0.4952 - val_loss: 0.6933 - val_acc: 0.4970\nEpoch 10/120\n10000/10000 [==============================] - 8s 815us/step - loss: 0.6946 - acc: 0.5009 - val_loss: 0.6940 - val_acc: 0.4970\nEpoch 11/120\n10000/10000 [==============================] - 8s 816us/step - loss: 0.6948 - acc: 0.5006 - val_loss: 0.6933 - val_acc: 0.4970\nEpoch 12/120\n10000/10000 [==============================] - 8s 825us/step - loss: 0.6944 - acc: 0.5006 - val_loss: 0.6947 - val_acc: 0.4970\nEpoch 13/120\n10000/10000 [==============================] - 9s 866us/step - loss: 0.6944 - acc: 0.5025 - val_loss: 0.6933 - val_acc: 0.4950\nEpoch 14/120\n10000/10000 [==============================] - 8s 819us/step - loss: 0.6930 - acc: 0.5074 - val_loss: 0.6925 - val_acc: 0.5310\nEpoch 15/120\n10000/10000 [==============================] - 8s 788us/step - loss: 0.6866 - acc: 0.5343 - val_loss: 0.6779 - val_acc: 0.5900\nEpoch 16/120\n10000/10000 [==============================] - 9s 857us/step - loss: 0.6692 - acc: 0.5665 - val_loss: 0.6532 - val_acc: 0.5960\nEpoch 17/120\n10000/10000 [==============================] - 8s 830us/step - loss: 0.6489 - acc: 0.5957 - val_loss: 0.6316 - val_acc: 0.6090\nEpoch 18/120\n10000/10000 [==============================] - 8s 797us/step - loss: 0.6234 - acc: 0.6350 - val_loss: 0.5966 - val_acc: 0.6700\nEpoch 19/120\n10000/10000 [==============================] - 8s 820us/step - loss: 0.5849 - acc: 0.6948 - val_loss: 0.5625 - val_acc: 0.7250\nEpoch 20/120\n10000/10000 [==============================] - 8s 812us/step - loss: 0.5600 - acc: 0.7170 - val_loss: 0.5322 - val_acc: 0.7420\nEpoch 21/120\n10000/10000 [==============================] - 8s 798us/step - loss: 0.5324 - acc: 0.7339 - val_loss: 0.5209 - val_acc: 0.7380\nEpoch 22/120\n10000/10000 [==============================] - 8s 782us/step - loss: 0.5203 - acc: 0.7438 - val_loss: 0.5187 - val_acc: 0.7280\nEpoch 23/120\n10000/10000 [==============================] - 8s 823us/step - loss: 0.5010 - acc: 0.7591 - val_loss: 0.5025 - val_acc: 0.7570\nEpoch 24/120\n10000/10000 [==============================] - 8s 800us/step - loss: 0.4958 - acc: 0.7600 - val_loss: 0.4938 - val_acc: 0.7540\nEpoch 25/120\n10000/10000 [==============================] - 8s 790us/step - loss: 0.4867 - acc: 0.7668 - val_loss: 0.4952 - val_acc: 0.7610\nEpoch 26/120\n10000/10000 [==============================] - 8s 795us/step - loss: 0.4725 - acc: 0.7764 - val_loss: 0.4745 - val_acc: 0.7750\nEpoch 27/120\n10000/10000 [==============================] - 8s 824us/step - loss: 0.4649 - acc: 0.7824 - val_loss: 0.4620 - val_acc: 0.7880\nEpoch 28/120\n10000/10000 [==============================] - 8s 782us/step - loss: 0.4524 - acc: 0.7922 - val_loss: 0.4455 - val_acc: 0.7930\nEpoch 29/120\n10000/10000 [==============================] - 8s 789us/step - loss: 0.4450 - acc: 0.7932 - val_loss: 0.4512 - val_acc: 0.7920\nEpoch 30/120\n10000/10000 [==============================] - 8s 806us/step - loss: 0.4276 - acc: 0.8058 - val_loss: 0.4217 - val_acc: 0.8130\nEpoch 31/120\n10000/10000 [==============================] - 8s 821us/step - loss: 0.4072 - acc: 0.8230 - val_loss: 0.4184 - val_acc: 0.8050\nEpoch 32/120\n10000/10000 [==============================] - 8s 781us/step - loss: 0.3912 - acc: 0.8292 - val_loss: 0.3885 - val_acc: 0.8170\nEpoch 33/120\n10000/10000 [==============================] - 8s 789us/step - loss: 0.3800 - acc: 0.8357 - val_loss: 0.3797 - val_acc: 0.8260\nEpoch 34/120\n10000/10000 [==============================] - 8s 820us/step - loss: 0.3769 - acc: 0.8320 - val_loss: 0.3765 - val_acc: 0.8300\nEpoch 35/120\n10000/10000 [==============================] - 8s 796us/step - loss: 0.3653 - acc: 0.8394 - val_loss: 0.3904 - val_acc: 0.8140\nEpoch 36/120\n10000/10000 [==============================] - 8s 782us/step - loss: 0.3593 - acc: 0.8453 - val_loss: 0.3705 - val_acc: 0.8300\nEpoch 37/120\n10000/10000 [==============================] - 8s 778us/step - loss: 0.3523 - acc: 0.8441 - val_loss: 0.3751 - val_acc: 0.8310\nEpoch 38/120\n10000/10000 [==============================] - 8s 829us/step - loss: 0.3497 - acc: 0.8481 - val_loss: 0.3650 - val_acc: 0.8350\nEpoch 39/120\n10000/10000 [==============================] - 8s 782us/step - loss: 0.3457 - acc: 0.8443 - val_loss: 0.3705 - val_acc: 0.8350\nEpoch 40/120\n10000/10000 [==============================] - 8s 788us/step - loss: 0.3406 - acc: 0.8507 - val_loss: 0.3806 - val_acc: 0.8260\nEpoch 41/120\n10000/10000 [==============================] - 8s 793us/step - loss: 0.3399 - acc: 0.8532 - val_loss: 0.3799 - val_acc: 0.8340\nEpoch 42/120\n10000/10000 [==============================] - 8s 825us/step - loss: 0.3409 - acc: 0.8540 - val_loss: 0.3949 - val_acc: 0.8220\nEpoch 43/120\n10000/10000 [==============================] - 8s 770us/step - loss: 0.3335 - acc: 0.8546 - val_loss: 0.3705 - val_acc: 0.8370\nEpoch 44/120\n10000/10000 [==============================] - 8s 778us/step - loss: 0.3293 - acc: 0.8567 - val_loss: 0.3891 - val_acc: 0.8300\nEpoch 45/120\n10000/10000 [==============================] - 9s 919us/step - loss: 0.3354 - acc: 0.8559 - val_loss: 0.3722 - val_acc: 0.8350\nEpoch 46/120\n10000/10000 [==============================] - 8s 785us/step - loss: 0.3332 - acc: 0.8543 - val_loss: 0.3790 - val_acc: 0.8220\nEpoch 47/120\n10000/10000 [==============================] - 8s 777us/step - loss: 0.3311 - acc: 0.8581 - val_loss: 0.3596 - val_acc: 0.8470\nEpoch 48/120\n10000/10000 [==============================] - 8s 788us/step - loss: 0.3254 - acc: 0.8610 - val_loss: 0.3819 - val_acc: 0.8370\nEpoch 49/120\n10000/10000 [==============================] - 8s 823us/step - loss: 0.3262 - acc: 0.8588 - val_loss: 0.3558 - val_acc: 0.8390\nEpoch 50/120\n10000/10000 [==============================] - 8s 780us/step - loss: 0.3225 - acc: 0.8589 - val_loss: 0.3611 - val_acc: 0.8410\nEpoch 51/120\n10000/10000 [==============================] - 8s 787us/step - loss: 0.3243 - acc: 0.8578 - val_loss: 0.3566 - val_acc: 0.8330\nEpoch 52/120\n10000/10000 [==============================] - 8s 799us/step - loss: 0.3124 - acc: 0.8628 - val_loss: 0.3946 - val_acc: 0.8330\nEpoch 53/120\n10000/10000 [==============================] - 8s 796us/step - loss: 0.3209 - acc: 0.8617 - val_loss: 0.3650 - val_acc: 0.8380\nEpoch 54/120\n10000/10000 [==============================] - 8s 750us/step - loss: 0.3178 - acc: 0.8628 - val_loss: 0.3728 - val_acc: 0.8390\nEpoch 55/120\n10000/10000 [==============================] - 8s 769us/step - loss: 0.3074 - acc: 0.8662 - val_loss: 0.3591 - val_acc: 0.8440\nEpoch 56/120\n10000/10000 [==============================] - 8s 799us/step - loss: 0.3176 - acc: 0.8580 - val_loss: 0.4191 - val_acc: 0.8260\nEpoch 57/120\n10000/10000 [==============================] - 8s 785us/step - loss: 0.3137 - acc: 0.8671 - val_loss: 0.3688 - val_acc: 0.8390\nEpoch 58/120\n10000/10000 [==============================] - 8s 763us/step - loss: 0.3090 - acc: 0.8664 - val_loss: 0.3840 - val_acc: 0.8350\nEpoch 59/120\n10000/10000 [==============================] - 8s 769us/step - loss: 0.3099 - acc: 0.8657 - val_loss: 0.3571 - val_acc: 0.8390\nEpoch 60/120\n10000/10000 [==============================] - 10s 996us/step - loss: 0.3111 - acc: 0.8637 - val_loss: 0.3497 - val_acc: 0.8390\nEpoch 61/120\n10000/10000 [==============================] - 8s 758us/step - loss: 0.3077 - acc: 0.8634 - val_loss: 0.3623 - val_acc: 0.8360\nEpoch 62/120\n10000/10000 [==============================] - 8s 758us/step - loss: 0.3114 - acc: 0.8636 - val_loss: 0.3716 - val_acc: 0.8440\nEpoch 63/120\n10000/10000 [==============================] - 8s 766us/step - loss: 0.3072 - acc: 0.8656 - val_loss: 0.3619 - val_acc: 0.8360\nEpoch 64/120\n10000/10000 [==============================] - 8s 794us/step - loss: 0.3092 - acc: 0.8651 - val_loss: 0.3685 - val_acc: 0.8360\nEpoch 65/120\n10000/10000 [==============================] - 8s 760us/step - loss: 0.3041 - acc: 0.8677 - val_loss: 0.3667 - val_acc: 0.8400\nEpoch 66/120\n10000/10000 [==============================] - 8s 751us/step - loss: 0.2998 - acc: 0.8695 - val_loss: 0.3972 - val_acc: 0.8340\nEpoch 67/120\n10000/10000 [==============================] - 8s 792us/step - loss: 0.3084 - acc: 0.8665 - val_loss: 0.3645 - val_acc: 0.8390\nEpoch 68/120\n10000/10000 [==============================] - 8s 766us/step - loss: 0.3061 - acc: 0.8685 - val_loss: 0.3698 - val_acc: 0.8340\nEpoch 69/120\n10000/10000 [==============================] - 8s 757us/step - loss: 0.3039 - acc: 0.8684 - val_loss: 0.3599 - val_acc: 0.8320\nEpoch 70/120\n10000/10000 [==============================] - 8s 759us/step - loss: 0.2989 - acc: 0.8685 - val_loss: 0.3814 - val_acc: 0.8340\nEpoch 71/120\n10000/10000 [==============================] - 8s 773us/step - loss: 0.2984 - acc: 0.8712 - val_loss: 0.3923 - val_acc: 0.8360\nEpoch 72/120\n10000/10000 [==============================] - 8s 758us/step - loss: 0.3059 - acc: 0.8670 - val_loss: 0.3646 - val_acc: 0.8300\nEpoch 73/120\n10000/10000 [==============================] - 7s 750us/step - loss: 0.2983 - acc: 0.8718 - val_loss: 0.3647 - val_acc: 0.8380\nEpoch 74/120\n10000/10000 [==============================] - 8s 759us/step - loss: 0.3012 - acc: 0.8691 - val_loss: 0.3823 - val_acc: 0.8350\nEpoch 75/120\n10000/10000 [==============================] - 8s 810us/step - loss: 0.3008 - acc: 0.8710 - val_loss: 0.3480 - val_acc: 0.8340\nEpoch 76/120\n10000/10000 [==============================] - 7s 746us/step - loss: 0.2946 - acc: 0.8704 - val_loss: 0.3731 - val_acc: 0.8300\nEpoch 77/120\n10000/10000 [==============================] - 8s 759us/step - loss: 0.2962 - acc: 0.8705 - val_loss: 0.3661 - val_acc: 0.8300\nEpoch 78/120\n10000/10000 [==============================] - 8s 751us/step - loss: 0.2958 - acc: 0.8701 - val_loss: 0.3774 - val_acc: 0.8380\nEpoch 79/120\n10000/10000 [==============================] - 8s 796us/step - loss: 0.3006 - acc: 0.8698 - val_loss: 0.3767 - val_acc: 0.8390\nEpoch 80/120\n10000/10000 [==============================] - 8s 773us/step - loss: 0.2934 - acc: 0.8703 - val_loss: 0.3630 - val_acc: 0.8360\nEpoch 81/120\n10000/10000 [==============================] - 8s 767us/step - loss: 0.2950 - acc: 0.8717 - val_loss: 0.3873 - val_acc: 0.8420\nEpoch 82/120\n10000/10000 [==============================] - 8s 765us/step - loss: 0.2896 - acc: 0.8740 - val_loss: 0.3962 - val_acc: 0.8270\nEpoch 83/120\n10000/10000 [==============================] - 8s 785us/step - loss: 0.2998 - acc: 0.8678 - val_loss: 0.3704 - val_acc: 0.8360\nEpoch 84/120\n10000/10000 [==============================] - 7s 740us/step - loss: 0.2918 - acc: 0.8742 - val_loss: 0.3980 - val_acc: 0.8300\nEpoch 85/120\n10000/10000 [==============================] - 8s 762us/step - loss: 0.2893 - acc: 0.8726 - val_loss: 0.4513 - val_acc: 0.8330\nEpoch 86/120\n10000/10000 [==============================] - 8s 798us/step - loss: 0.2910 - acc: 0.8759 - val_loss: 0.3731 - val_acc: 0.8350\nEpoch 87/120\n10000/10000 [==============================] - 8s 763us/step - loss: 0.2875 - acc: 0.8747 - val_loss: 0.3755 - val_acc: 0.8350\nEpoch 88/120\n10000/10000 [==============================] - 8s 761us/step - loss: 0.2918 - acc: 0.8748 - val_loss: 0.3670 - val_acc: 0.8410\nEpoch 89/120\n10000/10000 [==============================] - 8s 757us/step - loss: 0.2886 - acc: 0.8744 - val_loss: 0.3846 - val_acc: 0.8370\nEpoch 90/120\n10000/10000 [==============================] - 8s 792us/step - loss: 0.2835 - acc: 0.8768 - val_loss: 0.3945 - val_acc: 0.8410\nEpoch 91/120\n10000/10000 [==============================] - 8s 762us/step - loss: 0.2904 - acc: 0.8731 - val_loss: 0.3858 - val_acc: 0.8240\nEpoch 92/120\n10000/10000 [==============================] - 7s 733us/step - loss: 0.2931 - acc: 0.8704 - val_loss: 0.3674 - val_acc: 0.8340\nEpoch 93/120\n10000/10000 [==============================] - 7s 746us/step - loss: 0.2819 - acc: 0.8787 - val_loss: 0.3823 - val_acc: 0.8350\nEpoch 94/120\n10000/10000 [==============================] - 8s 795us/step - loss: 0.2807 - acc: 0.8742 - val_loss: 0.3843 - val_acc: 0.8260\nEpoch 95/120\n10000/10000 [==============================] - 7s 733us/step - loss: 0.2820 - acc: 0.8788 - val_loss: 0.4090 - val_acc: 0.8250\nEpoch 96/120\n10000/10000 [==============================] - 8s 800us/step - loss: 0.2845 - acc: 0.8779 - val_loss: 0.3997 - val_acc: 0.8370\nEpoch 97/120\n10000/10000 [==============================] - 8s 803us/step - loss: 0.2822 - acc: 0.8768 - val_loss: 0.4123 - val_acc: 0.8250\nEpoch 98/120\n10000/10000 [==============================] - 8s 824us/step - loss: 0.2772 - acc: 0.8809 - val_loss: 0.3935 - val_acc: 0.8340\nEpoch 99/120\n10000/10000 [==============================] - 7s 743us/step - loss: 0.2794 - acc: 0.8790 - val_loss: 0.3883 - val_acc: 0.8340\nEpoch 100/120\n10000/10000 [==============================] - 7s 747us/step - loss: 0.2726 - acc: 0.8805 - val_loss: 0.4248 - val_acc: 0.8280\nEpoch 101/120\n10000/10000 [==============================] - 8s 768us/step - loss: 0.2754 - acc: 0.8821 - val_loss: 0.4161 - val_acc: 0.8300\nEpoch 102/120\n10000/10000 [==============================] - 8s 782us/step - loss: 0.2785 - acc: 0.8782 - val_loss: 0.4042 - val_acc: 0.8280\nEpoch 103/120\n10000/10000 [==============================] - 7s 741us/step - loss: 0.2815 - acc: 0.8795 - val_loss: 0.4209 - val_acc: 0.8370\nEpoch 104/120\n10000/10000 [==============================] - 7s 747us/step - loss: 0.2749 - acc: 0.8816 - val_loss: 0.4006 - val_acc: 0.8380\nEpoch 105/120\n10000/10000 [==============================] - 8s 778us/step - loss: 0.2709 - acc: 0.8807 - val_loss: 0.4236 - val_acc: 0.8400\nEpoch 106/120\n10000/10000 [==============================] - 8s 762us/step - loss: 0.2685 - acc: 0.8850 - val_loss: 0.3953 - val_acc: 0.8300\nEpoch 107/120\n10000/10000 [==============================] - 7s 743us/step - loss: 0.2709 - acc: 0.8834 - val_loss: 0.4446 - val_acc: 0.8280\nEpoch 108/120\n10000/10000 [==============================] - 7s 741us/step - loss: 0.2742 - acc: 0.8813 - val_loss: 0.4126 - val_acc: 0.8330\nEpoch 109/120\n10000/10000 [==============================] - 8s 783us/step - loss: 0.2708 - acc: 0.8808 - val_loss: 0.4750 - val_acc: 0.8260\nEpoch 110/120\n10000/10000 [==============================] - 7s 744us/step - loss: 0.2710 - acc: 0.8800 - val_loss: 0.4648 - val_acc: 0.8320\nEpoch 111/120\n 9920/10000 [============================>.] - ETA: 0s - loss: 0.2659 - acc: 0.88710000/10000 [==============================] - 7s 724us/step - loss: 0.2654 - acc: 0.8880 - val_loss: 0.4565 - val_acc: 0.8280\nEpoch 112/120\n10000/10000 [==============================] - 7s 734us/step - loss: 0.2711 - acc: 0.8855 - val_loss: 0.4273 - val_acc: 0.8300\nEpoch 113/120\n10000/10000 [==============================] - 8s 776us/step - loss: 0.2680 - acc: 0.8854 - val_loss: 0.4456 - val_acc: 0.8280\nEpoch 114/120\n10000/10000 [==============================] - 7s 743us/step - loss: 0.2683 - acc: 0.8821 - val_loss: 0.4140 - val_acc: 0.8340\nEpoch 115/120\n10000/10000 [==============================] - 8s 752us/step - loss: 0.2639 - acc: 0.8822 - val_loss: 0.4397 - val_acc: 0.8240\nEpoch 116/120\n10000/10000 [==============================] - 7s 735us/step - loss: 0.2609 - acc: 0.8872 - val_loss: 0.4610 - val_acc: 0.8290\nEpoch 117/120\n10000/10000 [==============================] - 8s 786us/step - loss: 0.2661 - acc: 0.8843 - val_loss: 0.4550 - val_acc: 0.8260\nEpoch 118/120\n10000/10000 [==============================] - 7s 743us/step - loss: 0.2632 - acc: 0.8849 - val_loss: 0.4735 - val_acc: 0.8280\nEpoch 119/120\n10000/10000 [==============================] - 7s 740us/step - loss: 0.2592 - acc: 0.8862 - val_loss: 0.4651 - val_acc: 0.8240\nEpoch 120/120\n10000/10000 [==============================] - 7s 736us/step - loss: 0.2605 - acc: 0.8870 - val_loss: 0.4369 - val_acc: 0.8280\n"
    }
   ],
   "source": [
    "history = model.fit([inputs_train, queries_train], answers_train,batch_size=32,epochs=120,validation_data=([inputs_test, queries_test], answers_test))"
   ]
  },
  {
   "cell_type": "code",
   "execution_count": 116,
   "metadata": {},
   "outputs": [],
   "source": [
    "model.save('./models/chatbot_120e.h5')"
   ]
  },
  {
   "cell_type": "code",
   "execution_count": 117,
   "metadata": {},
   "outputs": [],
   "source": [
    "pickle.dump(tokenizer,open('./models/chatbot_token','wb'))"
   ]
  },
  {
   "cell_type": "code",
   "execution_count": 109,
   "metadata": {},
   "outputs": [],
   "source": [
    "# from keras.models import load_model\n",
    "\n",
    "# model = model = load_model('./models/chatbot_120e.h5')"
   ]
  },
  {
   "cell_type": "code",
   "execution_count": 118,
   "metadata": {},
   "outputs": [
    {
     "name": "stdout",
     "output_type": "stream",
     "text": "dict_keys(['val_loss', 'val_acc', 'loss', 'acc'])\n"
    },
    {
     "data": {
      "image/png": "[encoded data removed]",
      "image/svg+xml": "<?xml version=\"1.0\" encoding=\"utf-8\" standalone=\"no\"?>\r\n<!DOCTYPE svg PUBLIC \"-//W3C//DTD SVG 1.1//EN\"\r\n  \"http://www.w3.org/Graphics/SVG/1.1/DTD/svg11.dtd\">\r\n<!-- Created with matplotlib (https://matplotlib.org/) -->\r\n<svg height=\"277.314375pt\" version=\"1.1\" viewBox=\"0 0 395.64375 277.314375\" width=\"395.64375pt\" xmlns=\"http://www.w3.org/2000/svg\" xmlns:xlink=\"http://www.w3.org/1999/xlink\">\r\n <defs>\r\n  <style type=\"text/css\">\r\n*{stroke-linecap:butt;stroke-linejoin:round;}\r\n  </style>\r\n </defs>\r\n <g id=\"figure_1\">\r\n  <g id=\"patch_1\">\r\n   <path d=\"M 0 277.314375 \r\nL 395.64375 277.314375 \r\nL 395.64375 0 \r\nL 0 0 \r\nz\r\n\" style=\"fill:none;\"/>\r\n  </g>\r\n  <g id=\"axes_1\">\r\n   <g id=\"patch_2\">\r\n    <path d=\"M 50.14375 239.758125 \r\nL 384.94375 239.758125 \r\nL 384.94375 22.318125 \r\nL 50.14375 22.318125 \r\nz\r\n\" style=\"fill:#ffffff;\"/>\r\n   </g>\r\n   <g id=\"matplotlib.axis_1\">\r\n    <g id=\"xtick_1\">\r\n     <g id=\"line2d_1\">\r\n      <defs>\r\n       <path d=\"M 0 0 \r\nL 0 3.5 \r\n\" id=\"m7418099d6a\" style=\"stroke:#000000;stroke-width:0.8;\"/>\r\n      </defs>\r\n      <g>\r\n       <use style=\"stroke:#000000;stroke-width:0.8;\" x=\"65.361932\" xlink:href=\"#m7418099d6a\" y=\"239.758125\"/>\r\n      </g>\r\n     </g>\r\n     <g id=\"text_1\">\r\n      <!-- 0 -->\r\n      <defs>\r\n       <path d=\"M 31.78125 66.40625 \r\nQ 24.171875 66.40625 20.328125 58.90625 \r\nQ 16.5 51.421875 16.5 36.375 \r\nQ 16.5 21.390625 20.328125 13.890625 \r\nQ 24.171875 6.390625 31.78125 6.390625 \r\nQ 39.453125 6.390625 43.28125 13.890625 \r\nQ 47.125 21.390625 47.125 36.375 \r\nQ 47.125 51.421875 43.28125 58.90625 \r\nQ 39.453125 66.40625 31.78125 66.40625 \r\nz\r\nM 31.78125 74.21875 \r\nQ 44.046875 74.21875 50.515625 64.515625 \r\nQ 56.984375 54.828125 56.984375 36.375 \r\nQ 56.984375 17.96875 50.515625 8.265625 \r\nQ 44.046875 -1.421875 31.78125 -1.421875 \r\nQ 19.53125 -1.421875 13.0625 8.265625 \r\nQ 6.59375 17.96875 6.59375 36.375 \r\nQ 6.59375 54.828125 13.0625 64.515625 \r\nQ 19.53125 74.21875 31.78125 74.21875 \r\nz\r\n\" id=\"DejaVuSans-48\"/>\r\n      </defs>\r\n      <g transform=\"translate(62.180682 254.356562)scale(0.1 -0.1)\">\r\n       <use xlink:href=\"#DejaVuSans-48\"/>\r\n      </g>\r\n     </g>\r\n    </g>\r\n    <g id=\"xtick_2\">\r\n     <g id=\"line2d_2\">\r\n      <g>\r\n       <use style=\"stroke:#000000;stroke-width:0.8;\" x=\"116.515484\" xlink:href=\"#m7418099d6a\" y=\"239.758125\"/>\r\n      </g>\r\n     </g>\r\n     <g id=\"text_2\">\r\n      <!-- 20 -->\r\n      <defs>\r\n       <path d=\"M 19.1875 8.296875 \r\nL 53.609375 8.296875 \r\nL 53.609375 0 \r\nL 7.328125 0 \r\nL 7.328125 8.296875 \r\nQ 12.9375 14.109375 22.625 23.890625 \r\nQ 32.328125 33.6875 34.8125 36.53125 \r\nQ 39.546875 41.84375 41.421875 45.53125 \r\nQ 43.3125 49.21875 43.3125 52.78125 \r\nQ 43.3125 58.59375 39.234375 62.25 \r\nQ 35.15625 65.921875 28.609375 65.921875 \r\nQ 23.96875 65.921875 18.8125 64.3125 \r\nQ 13.671875 62.703125 7.8125 59.421875 \r\nL 7.8125 69.390625 \r\nQ 13.765625 71.78125 18.9375 73 \r\nQ 24.125 74.21875 28.421875 74.21875 \r\nQ 39.75 74.21875 46.484375 68.546875 \r\nQ 53.21875 62.890625 53.21875 53.421875 \r\nQ 53.21875 48.921875 51.53125 44.890625 \r\nQ 49.859375 40.875 45.40625 35.40625 \r\nQ 44.1875 33.984375 37.640625 27.21875 \r\nQ 31.109375 20.453125 19.1875 8.296875 \r\nz\r\n\" id=\"DejaVuSans-50\"/>\r\n      </defs>\r\n      <g transform=\"translate(110.152984 254.356562)scale(0.1 -0.1)\">\r\n       <use xlink:href=\"#DejaVuSans-50\"/>\r\n       <use x=\"63.623047\" xlink:href=\"#DejaVuSans-48\"/>\r\n      </g>\r\n     </g>\r\n    </g>\r\n    <g id=\"xtick_3\">\r\n     <g id=\"line2d_3\">\r\n      <g>\r\n       <use style=\"stroke:#000000;stroke-width:0.8;\" x=\"167.669036\" xlink:href=\"#m7418099d6a\" y=\"239.758125\"/>\r\n      </g>\r\n     </g>\r\n     <g id=\"text_3\">\r\n      <!-- 40 -->\r\n      <defs>\r\n       <path d=\"M 37.796875 64.3125 \r\nL 12.890625 25.390625 \r\nL 37.796875 25.390625 \r\nz\r\nM 35.203125 72.90625 \r\nL 47.609375 72.90625 \r\nL 47.609375 25.390625 \r\nL 58.015625 25.390625 \r\nL 58.015625 17.1875 \r\nL 47.609375 17.1875 \r\nL 47.609375 0 \r\nL 37.796875 0 \r\nL 37.796875 17.1875 \r\nL 4.890625 17.1875 \r\nL 4.890625 26.703125 \r\nz\r\n\" id=\"DejaVuSans-52\"/>\r\n      </defs>\r\n      <g transform=\"translate(161.306536 254.356562)scale(0.1 -0.1)\">\r\n       <use xlink:href=\"#DejaVuSans-52\"/>\r\n       <use x=\"63.623047\" xlink:href=\"#DejaVuSans-48\"/>\r\n      </g>\r\n     </g>\r\n    </g>\r\n    <g id=\"xtick_4\">\r\n     <g id=\"line2d_4\">\r\n      <g>\r\n       <use style=\"stroke:#000000;stroke-width:0.8;\" x=\"218.822589\" xlink:href=\"#m7418099d6a\" y=\"239.758125\"/>\r\n      </g>\r\n     </g>\r\n     <g id=\"text_4\">\r\n      <!-- 60 -->\r\n      <defs>\r\n       <path d=\"M 33.015625 40.375 \r\nQ 26.375 40.375 22.484375 35.828125 \r\nQ 18.609375 31.296875 18.609375 23.390625 \r\nQ 18.609375 15.53125 22.484375 10.953125 \r\nQ 26.375 6.390625 33.015625 6.390625 \r\nQ 39.65625 6.390625 43.53125 10.953125 \r\nQ 47.40625 15.53125 47.40625 23.390625 \r\nQ 47.40625 31.296875 43.53125 35.828125 \r\nQ 39.65625 40.375 33.015625 40.375 \r\nz\r\nM 52.59375 71.296875 \r\nL 52.59375 62.3125 \r\nQ 48.875 64.0625 45.09375 64.984375 \r\nQ 41.3125 65.921875 37.59375 65.921875 \r\nQ 27.828125 65.921875 22.671875 59.328125 \r\nQ 17.53125 52.734375 16.796875 39.40625 \r\nQ 19.671875 43.65625 24.015625 45.921875 \r\nQ 28.375 48.1875 33.59375 48.1875 \r\nQ 44.578125 48.1875 50.953125 41.515625 \r\nQ 57.328125 34.859375 57.328125 23.390625 \r\nQ 57.328125 12.15625 50.6875 5.359375 \r\nQ 44.046875 -1.421875 33.015625 -1.421875 \r\nQ 20.359375 -1.421875 13.671875 8.265625 \r\nQ 6.984375 17.96875 6.984375 36.375 \r\nQ 6.984375 53.65625 15.1875 63.9375 \r\nQ 23.390625 74.21875 37.203125 74.21875 \r\nQ 40.921875 74.21875 44.703125 73.484375 \r\nQ 48.484375 72.75 52.59375 71.296875 \r\nz\r\n\" id=\"DejaVuSans-54\"/>\r\n      </defs>\r\n      <g transform=\"translate(212.460089 254.356562)scale(0.1 -0.1)\">\r\n       <use xlink:href=\"#DejaVuSans-54\"/>\r\n       <use x=\"63.623047\" xlink:href=\"#DejaVuSans-48\"/>\r\n      </g>\r\n     </g>\r\n    </g>\r\n    <g id=\"xtick_5\">\r\n     <g id=\"line2d_5\">\r\n      <g>\r\n       <use style=\"stroke:#000000;stroke-width:0.8;\" x=\"269.976141\" xlink:href=\"#m7418099d6a\" y=\"239.758125\"/>\r\n      </g>\r\n     </g>\r\n     <g id=\"text_5\">\r\n      <!-- 80 -->\r\n      <defs>\r\n       <path d=\"M 31.78125 34.625 \r\nQ 24.75 34.625 20.71875 30.859375 \r\nQ 16.703125 27.09375 16.703125 20.515625 \r\nQ 16.703125 13.921875 20.71875 10.15625 \r\nQ 24.75 6.390625 31.78125 6.390625 \r\nQ 38.8125 6.390625 42.859375 10.171875 \r\nQ 46.921875 13.96875 46.921875 20.515625 \r\nQ 46.921875 27.09375 42.890625 30.859375 \r\nQ 38.875 34.625 31.78125 34.625 \r\nz\r\nM 21.921875 38.8125 \r\nQ 15.578125 40.375 12.03125 44.71875 \r\nQ 8.5 49.078125 8.5 55.328125 \r\nQ 8.5 64.0625 14.71875 69.140625 \r\nQ 20.953125 74.21875 31.78125 74.21875 \r\nQ 42.671875 74.21875 48.875 69.140625 \r\nQ 55.078125 64.0625 55.078125 55.328125 \r\nQ 55.078125 49.078125 51.53125 44.71875 \r\nQ 48 40.375 41.703125 38.8125 \r\nQ 48.828125 37.15625 52.796875 32.3125 \r\nQ 56.78125 27.484375 56.78125 20.515625 \r\nQ 56.78125 9.90625 50.3125 4.234375 \r\nQ 43.84375 -1.421875 31.78125 -1.421875 \r\nQ 19.734375 -1.421875 13.25 4.234375 \r\nQ 6.78125 9.90625 6.78125 20.515625 \r\nQ 6.78125 27.484375 10.78125 32.3125 \r\nQ 14.796875 37.15625 21.921875 38.8125 \r\nz\r\nM 18.3125 54.390625 \r\nQ 18.3125 48.734375 21.84375 45.5625 \r\nQ 25.390625 42.390625 31.78125 42.390625 \r\nQ 38.140625 42.390625 41.71875 45.5625 \r\nQ 45.3125 48.734375 45.3125 54.390625 \r\nQ 45.3125 60.0625 41.71875 63.234375 \r\nQ 38.140625 66.40625 31.78125 66.40625 \r\nQ 25.390625 66.40625 21.84375 63.234375 \r\nQ 18.3125 60.0625 18.3125 54.390625 \r\nz\r\n\" id=\"DejaVuSans-56\"/>\r\n      </defs>\r\n      <g transform=\"translate(263.613641 254.356562)scale(0.1 -0.1)\">\r\n       <use xlink:href=\"#DejaVuSans-56\"/>\r\n       <use x=\"63.623047\" xlink:href=\"#DejaVuSans-48\"/>\r\n      </g>\r\n     </g>\r\n    </g>\r\n    <g id=\"xtick_6\">\r\n     <g id=\"line2d_6\">\r\n      <g>\r\n       <use style=\"stroke:#000000;stroke-width:0.8;\" x=\"321.129693\" xlink:href=\"#m7418099d6a\" y=\"239.758125\"/>\r\n      </g>\r\n     </g>\r\n     <g id=\"text_6\">\r\n      <!-- 100 -->\r\n      <defs>\r\n       <path d=\"M 12.40625 8.296875 \r\nL 28.515625 8.296875 \r\nL 28.515625 63.921875 \r\nL 10.984375 60.40625 \r\nL 10.984375 69.390625 \r\nL 28.421875 72.90625 \r\nL 38.28125 72.90625 \r\nL 38.28125 8.296875 \r\nL 54.390625 8.296875 \r\nL 54.390625 0 \r\nL 12.40625 0 \r\nz\r\n\" id=\"DejaVuSans-49\"/>\r\n      </defs>\r\n      <g transform=\"translate(311.585943 254.356562)scale(0.1 -0.1)\">\r\n       <use xlink:href=\"#DejaVuSans-49\"/>\r\n       <use x=\"63.623047\" xlink:href=\"#DejaVuSans-48\"/>\r\n       <use x=\"127.246094\" xlink:href=\"#DejaVuSans-48\"/>\r\n      </g>\r\n     </g>\r\n    </g>\r\n    <g id=\"xtick_7\">\r\n     <g id=\"line2d_7\">\r\n      <g>\r\n       <use style=\"stroke:#000000;stroke-width:0.8;\" x=\"372.283246\" xlink:href=\"#m7418099d6a\" y=\"239.758125\"/>\r\n      </g>\r\n     </g>\r\n     <g id=\"text_7\">\r\n      <!-- 120 -->\r\n      <g transform=\"translate(362.739496 254.356562)scale(0.1 -0.1)\">\r\n       <use xlink:href=\"#DejaVuSans-49\"/>\r\n       <use x=\"63.623047\" xlink:href=\"#DejaVuSans-50\"/>\r\n       <use x=\"127.246094\" xlink:href=\"#DejaVuSans-48\"/>\r\n      </g>\r\n     </g>\r\n    </g>\r\n    <g id=\"text_8\">\r\n     <!-- epoch -->\r\n     <defs>\r\n      <path d=\"M 56.203125 29.59375 \r\nL 56.203125 25.203125 \r\nL 14.890625 25.203125 \r\nQ 15.484375 15.921875 20.484375 11.0625 \r\nQ 25.484375 6.203125 34.421875 6.203125 \r\nQ 39.59375 6.203125 44.453125 7.46875 \r\nQ 49.3125 8.734375 54.109375 11.28125 \r\nL 54.109375 2.78125 \r\nQ 49.265625 0.734375 44.1875 -0.34375 \r\nQ 39.109375 -1.421875 33.890625 -1.421875 \r\nQ 20.796875 -1.421875 13.15625 6.1875 \r\nQ 5.515625 13.8125 5.515625 26.8125 \r\nQ 5.515625 40.234375 12.765625 48.109375 \r\nQ 20.015625 56 32.328125 56 \r\nQ 43.359375 56 49.78125 48.890625 \r\nQ 56.203125 41.796875 56.203125 29.59375 \r\nz\r\nM 47.21875 32.234375 \r\nQ 47.125 39.59375 43.09375 43.984375 \r\nQ 39.0625 48.390625 32.421875 48.390625 \r\nQ 24.90625 48.390625 20.390625 44.140625 \r\nQ 15.875 39.890625 15.1875 32.171875 \r\nz\r\n\" id=\"DejaVuSans-101\"/>\r\n      <path d=\"M 18.109375 8.203125 \r\nL 18.109375 -20.796875 \r\nL 9.078125 -20.796875 \r\nL 9.078125 54.6875 \r\nL 18.109375 54.6875 \r\nL 18.109375 46.390625 \r\nQ 20.953125 51.265625 25.265625 53.625 \r\nQ 29.59375 56 35.59375 56 \r\nQ 45.5625 56 51.78125 48.09375 \r\nQ 58.015625 40.1875 58.015625 27.296875 \r\nQ 58.015625 14.40625 51.78125 6.484375 \r\nQ 45.5625 -1.421875 35.59375 -1.421875 \r\nQ 29.59375 -1.421875 25.265625 0.953125 \r\nQ 20.953125 3.328125 18.109375 8.203125 \r\nz\r\nM 48.6875 27.296875 \r\nQ 48.6875 37.203125 44.609375 42.84375 \r\nQ 40.53125 48.484375 33.40625 48.484375 \r\nQ 26.265625 48.484375 22.1875 42.84375 \r\nQ 18.109375 37.203125 18.109375 27.296875 \r\nQ 18.109375 17.390625 22.1875 11.75 \r\nQ 26.265625 6.109375 33.40625 6.109375 \r\nQ 40.53125 6.109375 44.609375 11.75 \r\nQ 48.6875 17.390625 48.6875 27.296875 \r\nz\r\n\" id=\"DejaVuSans-112\"/>\r\n      <path d=\"M 30.609375 48.390625 \r\nQ 23.390625 48.390625 19.1875 42.75 \r\nQ 14.984375 37.109375 14.984375 27.296875 \r\nQ 14.984375 17.484375 19.15625 11.84375 \r\nQ 23.34375 6.203125 30.609375 6.203125 \r\nQ 37.796875 6.203125 41.984375 11.859375 \r\nQ 46.1875 17.53125 46.1875 27.296875 \r\nQ 46.1875 37.015625 41.984375 42.703125 \r\nQ 37.796875 48.390625 30.609375 48.390625 \r\nz\r\nM 30.609375 56 \r\nQ 42.328125 56 49.015625 48.375 \r\nQ 55.71875 40.765625 55.71875 27.296875 \r\nQ 55.71875 13.875 49.015625 6.21875 \r\nQ 42.328125 -1.421875 30.609375 -1.421875 \r\nQ 18.84375 -1.421875 12.171875 6.21875 \r\nQ 5.515625 13.875 5.515625 27.296875 \r\nQ 5.515625 40.765625 12.171875 48.375 \r\nQ 18.84375 56 30.609375 56 \r\nz\r\n\" id=\"DejaVuSans-111\"/>\r\n      <path d=\"M 48.78125 52.59375 \r\nL 48.78125 44.1875 \r\nQ 44.96875 46.296875 41.140625 47.34375 \r\nQ 37.3125 48.390625 33.40625 48.390625 \r\nQ 24.65625 48.390625 19.8125 42.84375 \r\nQ 14.984375 37.3125 14.984375 27.296875 \r\nQ 14.984375 17.28125 19.8125 11.734375 \r\nQ 24.65625 6.203125 33.40625 6.203125 \r\nQ 37.3125 6.203125 41.140625 7.25 \r\nQ 44.96875 8.296875 48.78125 10.40625 \r\nL 48.78125 2.09375 \r\nQ 45.015625 0.34375 40.984375 -0.53125 \r\nQ 36.96875 -1.421875 32.421875 -1.421875 \r\nQ 20.0625 -1.421875 12.78125 6.34375 \r\nQ 5.515625 14.109375 5.515625 27.296875 \r\nQ 5.515625 40.671875 12.859375 48.328125 \r\nQ 20.21875 56 33.015625 56 \r\nQ 37.15625 56 41.109375 55.140625 \r\nQ 45.0625 54.296875 48.78125 52.59375 \r\nz\r\n\" id=\"DejaVuSans-99\"/>\r\n      <path d=\"M 54.890625 33.015625 \r\nL 54.890625 0 \r\nL 45.90625 0 \r\nL 45.90625 32.71875 \r\nQ 45.90625 40.484375 42.875 44.328125 \r\nQ 39.84375 48.1875 33.796875 48.1875 \r\nQ 26.515625 48.1875 22.3125 43.546875 \r\nQ 18.109375 38.921875 18.109375 30.90625 \r\nL 18.109375 0 \r\nL 9.078125 0 \r\nL 9.078125 75.984375 \r\nL 18.109375 75.984375 \r\nL 18.109375 46.1875 \r\nQ 21.34375 51.125 25.703125 53.5625 \r\nQ 30.078125 56 35.796875 56 \r\nQ 45.21875 56 50.046875 50.171875 \r\nQ 54.890625 44.34375 54.890625 33.015625 \r\nz\r\n\" id=\"DejaVuSans-104\"/>\r\n     </defs>\r\n     <g transform=\"translate(202.315625 268.034687)scale(0.1 -0.1)\">\r\n      <use xlink:href=\"#DejaVuSans-101\"/>\r\n      <use x=\"61.523438\" xlink:href=\"#DejaVuSans-112\"/>\r\n      <use x=\"125\" xlink:href=\"#DejaVuSans-111\"/>\r\n      <use x=\"186.181641\" xlink:href=\"#DejaVuSans-99\"/>\r\n      <use x=\"241.162109\" xlink:href=\"#DejaVuSans-104\"/>\r\n     </g>\r\n    </g>\r\n   </g>\r\n   <g id=\"matplotlib.axis_2\">\r\n    <g id=\"ytick_1\">\r\n     <g id=\"line2d_8\">\r\n      <defs>\r\n       <path d=\"M 0 0 \r\nL -3.5 0 \r\n\" id=\"m8222661e53\" style=\"stroke:#000000;stroke-width:0.8;\"/>\r\n      </defs>\r\n      <g>\r\n       <use style=\"stroke:#000000;stroke-width:0.8;\" x=\"50.14375\" xlink:href=\"#m8222661e53\" y=\"225.295966\"/>\r\n      </g>\r\n     </g>\r\n     <g id=\"text_9\">\r\n      <!-- 0.50 -->\r\n      <defs>\r\n       <path d=\"M 10.6875 12.40625 \r\nL 21 12.40625 \r\nL 21 0 \r\nL 10.6875 0 \r\nz\r\n\" id=\"DejaVuSans-46\"/>\r\n       <path d=\"M 10.796875 72.90625 \r\nL 49.515625 72.90625 \r\nL 49.515625 64.59375 \r\nL 19.828125 64.59375 \r\nL 19.828125 46.734375 \r\nQ 21.96875 47.46875 24.109375 47.828125 \r\nQ 26.265625 48.1875 28.421875 48.1875 \r\nQ 40.625 48.1875 47.75 41.5 \r\nQ 54.890625 34.8125 54.890625 23.390625 \r\nQ 54.890625 11.625 47.5625 5.09375 \r\nQ 40.234375 -1.421875 26.90625 -1.421875 \r\nQ 22.3125 -1.421875 17.546875 -0.640625 \r\nQ 12.796875 0.140625 7.71875 1.703125 \r\nL 7.71875 11.625 \r\nQ 12.109375 9.234375 16.796875 8.0625 \r\nQ 21.484375 6.890625 26.703125 6.890625 \r\nQ 35.15625 6.890625 40.078125 11.328125 \r\nQ 45.015625 15.765625 45.015625 23.390625 \r\nQ 45.015625 31 40.078125 35.4375 \r\nQ 35.15625 39.890625 26.703125 39.890625 \r\nQ 22.75 39.890625 18.8125 39.015625 \r\nQ 14.890625 38.140625 10.796875 36.28125 \r\nz\r\n\" id=\"DejaVuSans-53\"/>\r\n      </defs>\r\n      <g transform=\"translate(20.878125 229.095185)scale(0.1 -0.1)\">\r\n       <use xlink:href=\"#DejaVuSans-48\"/>\r\n       <use x=\"63.623047\" xlink:href=\"#DejaVuSans-46\"/>\r\n       <use x=\"95.410156\" xlink:href=\"#DejaVuSans-53\"/>\r\n       <use x=\"159.033203\" xlink:href=\"#DejaVuSans-48\"/>\r\n      </g>\r\n     </g>\r\n    </g>\r\n    <g id=\"ytick_2\">\r\n     <g id=\"line2d_9\">\r\n      <g>\r\n       <use style=\"stroke:#000000;stroke-width:0.8;\" x=\"50.14375\" xlink:href=\"#m8222661e53\" y=\"200.412692\"/>\r\n      </g>\r\n     </g>\r\n     <g id=\"text_10\">\r\n      <!-- 0.55 -->\r\n      <g transform=\"translate(20.878125 204.211911)scale(0.1 -0.1)\">\r\n       <use xlink:href=\"#DejaVuSans-48\"/>\r\n       <use x=\"63.623047\" xlink:href=\"#DejaVuSans-46\"/>\r\n       <use x=\"95.410156\" xlink:href=\"#DejaVuSans-53\"/>\r\n       <use x=\"159.033203\" xlink:href=\"#DejaVuSans-53\"/>\r\n      </g>\r\n     </g>\r\n    </g>\r\n    <g id=\"ytick_3\">\r\n     <g id=\"line2d_10\">\r\n      <g>\r\n       <use style=\"stroke:#000000;stroke-width:0.8;\" x=\"50.14375\" xlink:href=\"#m8222661e53\" y=\"175.529419\"/>\r\n      </g>\r\n     </g>\r\n     <g id=\"text_11\">\r\n      <!-- 0.60 -->\r\n      <g transform=\"translate(20.878125 179.328637)scale(0.1 -0.1)\">\r\n       <use xlink:href=\"#DejaVuSans-48\"/>\r\n       <use x=\"63.623047\" xlink:href=\"#DejaVuSans-46\"/>\r\n       <use x=\"95.410156\" xlink:href=\"#DejaVuSans-54\"/>\r\n       <use x=\"159.033203\" xlink:href=\"#DejaVuSans-48\"/>\r\n      </g>\r\n     </g>\r\n    </g>\r\n    <g id=\"ytick_4\">\r\n     <g id=\"line2d_11\">\r\n      <g>\r\n       <use style=\"stroke:#000000;stroke-width:0.8;\" x=\"50.14375\" xlink:href=\"#m8222661e53\" y=\"150.646145\"/>\r\n      </g>\r\n     </g>\r\n     <g id=\"text_12\">\r\n      <!-- 0.65 -->\r\n      <g transform=\"translate(20.878125 154.445364)scale(0.1 -0.1)\">\r\n       <use xlink:href=\"#DejaVuSans-48\"/>\r\n       <use x=\"63.623047\" xlink:href=\"#DejaVuSans-46\"/>\r\n       <use x=\"95.410156\" xlink:href=\"#DejaVuSans-54\"/>\r\n       <use x=\"159.033203\" xlink:href=\"#DejaVuSans-53\"/>\r\n      </g>\r\n     </g>\r\n    </g>\r\n    <g id=\"ytick_5\">\r\n     <g id=\"line2d_12\">\r\n      <g>\r\n       <use style=\"stroke:#000000;stroke-width:0.8;\" x=\"50.14375\" xlink:href=\"#m8222661e53\" y=\"125.762871\"/>\r\n      </g>\r\n     </g>\r\n     <g id=\"text_13\">\r\n      <!-- 0.70 -->\r\n      <defs>\r\n       <path d=\"M 8.203125 72.90625 \r\nL 55.078125 72.90625 \r\nL 55.078125 68.703125 \r\nL 28.609375 0 \r\nL 18.3125 0 \r\nL 43.21875 64.59375 \r\nL 8.203125 64.59375 \r\nz\r\n\" id=\"DejaVuSans-55\"/>\r\n      </defs>\r\n      <g transform=\"translate(20.878125 129.56209)scale(0.1 -0.1)\">\r\n       <use xlink:href=\"#DejaVuSans-48\"/>\r\n       <use x=\"63.623047\" xlink:href=\"#DejaVuSans-46\"/>\r\n       <use x=\"95.410156\" xlink:href=\"#DejaVuSans-55\"/>\r\n       <use x=\"159.033203\" xlink:href=\"#DejaVuSans-48\"/>\r\n      </g>\r\n     </g>\r\n    </g>\r\n    <g id=\"ytick_6\">\r\n     <g id=\"line2d_13\">\r\n      <g>\r\n       <use style=\"stroke:#000000;stroke-width:0.8;\" x=\"50.14375\" xlink:href=\"#m8222661e53\" y=\"100.879597\"/>\r\n      </g>\r\n     </g>\r\n     <g id=\"text_14\">\r\n      <!-- 0.75 -->\r\n      <g transform=\"translate(20.878125 104.678816)scale(0.1 -0.1)\">\r\n       <use xlink:href=\"#DejaVuSans-48\"/>\r\n       <use x=\"63.623047\" xlink:href=\"#DejaVuSans-46\"/>\r\n       <use x=\"95.410156\" xlink:href=\"#DejaVuSans-55\"/>\r\n       <use x=\"159.033203\" xlink:href=\"#DejaVuSans-53\"/>\r\n      </g>\r\n     </g>\r\n    </g>\r\n    <g id=\"ytick_7\">\r\n     <g id=\"line2d_14\">\r\n      <g>\r\n       <use style=\"stroke:#000000;stroke-width:0.8;\" x=\"50.14375\" xlink:href=\"#m8222661e53\" y=\"75.996323\"/>\r\n      </g>\r\n     </g>\r\n     <g id=\"text_15\">\r\n      <!-- 0.80 -->\r\n      <g transform=\"translate(20.878125 79.795542)scale(0.1 -0.1)\">\r\n       <use xlink:href=\"#DejaVuSans-48\"/>\r\n       <use x=\"63.623047\" xlink:href=\"#DejaVuSans-46\"/>\r\n       <use x=\"95.410156\" xlink:href=\"#DejaVuSans-56\"/>\r\n       <use x=\"159.033203\" xlink:href=\"#DejaVuSans-48\"/>\r\n      </g>\r\n     </g>\r\n    </g>\r\n    <g id=\"ytick_8\">\r\n     <g id=\"line2d_15\">\r\n      <g>\r\n       <use style=\"stroke:#000000;stroke-width:0.8;\" x=\"50.14375\" xlink:href=\"#m8222661e53\" y=\"51.113049\"/>\r\n      </g>\r\n     </g>\r\n     <g id=\"text_16\">\r\n      <!-- 0.85 -->\r\n      <g transform=\"translate(20.878125 54.912268)scale(0.1 -0.1)\">\r\n       <use xlink:href=\"#DejaVuSans-48\"/>\r\n       <use x=\"63.623047\" xlink:href=\"#DejaVuSans-46\"/>\r\n       <use x=\"95.410156\" xlink:href=\"#DejaVuSans-56\"/>\r\n       <use x=\"159.033203\" xlink:href=\"#DejaVuSans-53\"/>\r\n      </g>\r\n     </g>\r\n    </g>\r\n    <g id=\"ytick_9\">\r\n     <g id=\"line2d_16\">\r\n      <g>\r\n       <use style=\"stroke:#000000;stroke-width:0.8;\" x=\"50.14375\" xlink:href=\"#m8222661e53\" y=\"26.229776\"/>\r\n      </g>\r\n     </g>\r\n     <g id=\"text_17\">\r\n      <!-- 0.90 -->\r\n      <defs>\r\n       <path d=\"M 10.984375 1.515625 \r\nL 10.984375 10.5 \r\nQ 14.703125 8.734375 18.5 7.8125 \r\nQ 22.3125 6.890625 25.984375 6.890625 \r\nQ 35.75 6.890625 40.890625 13.453125 \r\nQ 46.046875 20.015625 46.78125 33.40625 \r\nQ 43.953125 29.203125 39.59375 26.953125 \r\nQ 35.25 24.703125 29.984375 24.703125 \r\nQ 19.046875 24.703125 12.671875 31.3125 \r\nQ 6.296875 37.9375 6.296875 49.421875 \r\nQ 6.296875 60.640625 12.9375 67.421875 \r\nQ 19.578125 74.21875 30.609375 74.21875 \r\nQ 43.265625 74.21875 49.921875 64.515625 \r\nQ 56.59375 54.828125 56.59375 36.375 \r\nQ 56.59375 19.140625 48.40625 8.859375 \r\nQ 40.234375 -1.421875 26.421875 -1.421875 \r\nQ 22.703125 -1.421875 18.890625 -0.6875 \r\nQ 15.09375 0.046875 10.984375 1.515625 \r\nz\r\nM 30.609375 32.421875 \r\nQ 37.25 32.421875 41.125 36.953125 \r\nQ 45.015625 41.5 45.015625 49.421875 \r\nQ 45.015625 57.28125 41.125 61.84375 \r\nQ 37.25 66.40625 30.609375 66.40625 \r\nQ 23.96875 66.40625 20.09375 61.84375 \r\nQ 16.21875 57.28125 16.21875 49.421875 \r\nQ 16.21875 41.5 20.09375 36.953125 \r\nQ 23.96875 32.421875 30.609375 32.421875 \r\nz\r\n\" id=\"DejaVuSans-57\"/>\r\n      </defs>\r\n      <g transform=\"translate(20.878125 30.028994)scale(0.1 -0.1)\">\r\n       <use xlink:href=\"#DejaVuSans-48\"/>\r\n       <use x=\"63.623047\" xlink:href=\"#DejaVuSans-46\"/>\r\n       <use x=\"95.410156\" xlink:href=\"#DejaVuSans-57\"/>\r\n       <use x=\"159.033203\" xlink:href=\"#DejaVuSans-48\"/>\r\n      </g>\r\n     </g>\r\n    </g>\r\n    <g id=\"text_18\">\r\n     <!-- accuracy -->\r\n     <defs>\r\n      <path d=\"M 34.28125 27.484375 \r\nQ 23.390625 27.484375 19.1875 25 \r\nQ 14.984375 22.515625 14.984375 16.5 \r\nQ 14.984375 11.71875 18.140625 8.90625 \r\nQ 21.296875 6.109375 26.703125 6.109375 \r\nQ 34.1875 6.109375 38.703125 11.40625 \r\nQ 43.21875 16.703125 43.21875 25.484375 \r\nL 43.21875 27.484375 \r\nz\r\nM 52.203125 31.203125 \r\nL 52.203125 0 \r\nL 43.21875 0 \r\nL 43.21875 8.296875 \r\nQ 40.140625 3.328125 35.546875 0.953125 \r\nQ 30.953125 -1.421875 24.3125 -1.421875 \r\nQ 15.921875 -1.421875 10.953125 3.296875 \r\nQ 6 8.015625 6 15.921875 \r\nQ 6 25.140625 12.171875 29.828125 \r\nQ 18.359375 34.515625 30.609375 34.515625 \r\nL 43.21875 34.515625 \r\nL 43.21875 35.40625 \r\nQ 43.21875 41.609375 39.140625 45 \r\nQ 35.0625 48.390625 27.6875 48.390625 \r\nQ 23 48.390625 18.546875 47.265625 \r\nQ 14.109375 46.140625 10.015625 43.890625 \r\nL 10.015625 52.203125 \r\nQ 14.9375 54.109375 19.578125 55.046875 \r\nQ 24.21875 56 28.609375 56 \r\nQ 40.484375 56 46.34375 49.84375 \r\nQ 52.203125 43.703125 52.203125 31.203125 \r\nz\r\n\" id=\"DejaVuSans-97\"/>\r\n      <path d=\"M 8.5 21.578125 \r\nL 8.5 54.6875 \r\nL 17.484375 54.6875 \r\nL 17.484375 21.921875 \r\nQ 17.484375 14.15625 20.5 10.265625 \r\nQ 23.53125 6.390625 29.59375 6.390625 \r\nQ 36.859375 6.390625 41.078125 11.03125 \r\nQ 45.3125 15.671875 45.3125 23.6875 \r\nL 45.3125 54.6875 \r\nL 54.296875 54.6875 \r\nL 54.296875 0 \r\nL 45.3125 0 \r\nL 45.3125 8.40625 \r\nQ 42.046875 3.421875 37.71875 1 \r\nQ 33.40625 -1.421875 27.6875 -1.421875 \r\nQ 18.265625 -1.421875 13.375 4.4375 \r\nQ 8.5 10.296875 8.5 21.578125 \r\nz\r\nM 31.109375 56 \r\nz\r\n\" id=\"DejaVuSans-117\"/>\r\n      <path d=\"M 41.109375 46.296875 \r\nQ 39.59375 47.171875 37.8125 47.578125 \r\nQ 36.03125 48 33.890625 48 \r\nQ 26.265625 48 22.1875 43.046875 \r\nQ 18.109375 38.09375 18.109375 28.8125 \r\nL 18.109375 0 \r\nL 9.078125 0 \r\nL 9.078125 54.6875 \r\nL 18.109375 54.6875 \r\nL 18.109375 46.1875 \r\nQ 20.953125 51.171875 25.484375 53.578125 \r\nQ 30.03125 56 36.53125 56 \r\nQ 37.453125 56 38.578125 55.875 \r\nQ 39.703125 55.765625 41.0625 55.515625 \r\nz\r\n\" id=\"DejaVuSans-114\"/>\r\n      <path d=\"M 32.171875 -5.078125 \r\nQ 28.375 -14.84375 24.75 -17.8125 \r\nQ 21.140625 -20.796875 15.09375 -20.796875 \r\nL 7.90625 -20.796875 \r\nL 7.90625 -13.28125 \r\nL 13.1875 -13.28125 \r\nQ 16.890625 -13.28125 18.9375 -11.515625 \r\nQ 21 -9.765625 23.484375 -3.21875 \r\nL 25.09375 0.875 \r\nL 2.984375 54.6875 \r\nL 12.5 54.6875 \r\nL 29.59375 11.921875 \r\nL 46.6875 54.6875 \r\nL 56.203125 54.6875 \r\nz\r\n\" id=\"DejaVuSans-121\"/>\r\n     </defs>\r\n     <g transform=\"translate(14.798438 153.5975)rotate(-90)scale(0.1 -0.1)\">\r\n      <use xlink:href=\"#DejaVuSans-97\"/>\r\n      <use x=\"61.279297\" xlink:href=\"#DejaVuSans-99\"/>\r\n      <use x=\"116.259766\" xlink:href=\"#DejaVuSans-99\"/>\r\n      <use x=\"171.240234\" xlink:href=\"#DejaVuSans-117\"/>\r\n      <use x=\"234.619141\" xlink:href=\"#DejaVuSans-114\"/>\r\n      <use x=\"275.732422\" xlink:href=\"#DejaVuSans-97\"/>\r\n      <use x=\"337.011719\" xlink:href=\"#DejaVuSans-99\"/>\r\n      <use x=\"391.992188\" xlink:href=\"#DejaVuSans-121\"/>\r\n     </g>\r\n    </g>\r\n   </g>\r\n   <g id=\"line2d_17\">\r\n    <path clip-path=\"url(#pe2ae54dba3)\" d=\"M 65.361932 227.784294 \r\nL 67.919609 223.603904 \r\nL 70.477287 224.101569 \r\nL 73.034965 229.874489 \r\nL 75.592642 221.911841 \r\nL 78.15032 222.857405 \r\nL 80.707998 221.563475 \r\nL 83.265675 225.992698 \r\nL 85.823353 227.684761 \r\nL 88.38103 224.848067 \r\nL 90.938708 224.997367 \r\nL 93.496386 224.997367 \r\nL 96.054063 224.051803 \r\nL 98.611741 221.613242 \r\nL 101.169418 208.22604 \r\nL 103.727096 192.201212 \r\nL 106.284774 177.66938 \r\nL 108.842451 158.111127 \r\nL 111.400129 128.350731 \r\nL 113.957807 117.302558 \r\nL 116.515484 108.892011 \r\nL 119.073162 103.965123 \r\nL 121.630839 96.350841 \r\nL 124.188517 95.902942 \r\nL 126.746195 92.518817 \r\nL 129.303872 87.741229 \r\nL 131.86155 84.755236 \r\nL 134.419227 79.878114 \r\nL 136.976905 79.380449 \r\nL 139.534583 73.109864 \r\nL 142.09226 64.550017 \r\nL 144.649938 61.464491 \r\nL 147.207616 58.229666 \r\nL 149.765293 60.071028 \r\nL 152.322971 56.388304 \r\nL 154.880648 53.452077 \r\nL 157.438326 54.049276 \r\nL 159.996004 52.058614 \r\nL 162.553681 53.949743 \r\nL 165.111359 50.764684 \r\nL 167.669036 49.52052 \r\nL 170.226714 49.122388 \r\nL 172.784392 48.823788 \r\nL 175.342069 47.778691 \r\nL 177.899747 48.176823 \r\nL 180.457425 48.973088 \r\nL 183.015102 47.081959 \r\nL 185.57278 45.638729 \r\nL 188.130457 46.733593 \r\nL 190.688135 46.683827 \r\nL 193.245813 47.231259 \r\nL 195.80349 44.742931 \r\nL 198.361168 45.290363 \r\nL 200.918845 44.742931 \r\nL 203.476523 43.050869 \r\nL 206.034201 47.131726 \r\nL 208.591878 42.60297 \r\nL 211.149556 42.951336 \r\nL 213.707234 43.299701 \r\nL 216.264911 44.295032 \r\nL 218.822589 44.444332 \r\nL 221.380266 44.344799 \r\nL 223.937944 43.349468 \r\nL 226.495622 43.598301 \r\nL 229.053299 42.304371 \r\nL 231.610977 41.408573 \r\nL 234.168655 42.901569 \r\nL 236.726332 41.906238 \r\nL 239.28401 41.956005 \r\nL 241.841687 41.906238 \r\nL 244.399365 40.562541 \r\nL 246.957043 42.652736 \r\nL 249.51472 40.263942 \r\nL 252.072398 41.607639 \r\nL 254.630075 40.662074 \r\nL 257.187753 40.960674 \r\nL 259.745431 40.910907 \r\nL 262.303108 41.109973 \r\nL 264.860786 41.259273 \r\nL 267.418464 41.01044 \r\nL 269.976141 40.313709 \r\nL 272.533819 39.169078 \r\nL 275.091496 42.254604 \r\nL 277.649174 39.069545 \r\nL 280.206852 39.86581 \r\nL 282.764529 38.223514 \r\nL 285.322207 38.820712 \r\nL 287.879884 38.770946 \r\nL 290.437562 38.970012 \r\nL 292.99524 37.775615 \r\nL 295.552917 39.616977 \r\nL 298.110595 40.960674 \r\nL 300.668273 36.83005 \r\nL 303.22595 39.069545 \r\nL 305.783628 36.780284 \r\nL 308.341305 37.228183 \r\nL 310.898983 37.775615 \r\nL 313.456661 35.735186 \r\nL 316.014338 36.680751 \r\nL 318.572016 35.934252 \r\nL 321.129693 35.137988 \r\nL 323.687371 37.078883 \r\nL 326.245049 36.431918 \r\nL 328.802726 35.38682 \r\nL 331.360404 35.834719 \r\nL 333.918082 33.694758 \r\nL 336.475759 34.491023 \r\nL 339.033437 35.53612 \r\nL 341.591114 35.784953 \r\nL 344.148792 36.183085 \r\nL 346.70647 32.201761 \r\nL 349.264147 33.445925 \r\nL 351.821825 33.495692 \r\nL 354.379502 35.137988 \r\nL 356.93718 35.088221 \r\nL 359.494858 32.599894 \r\nL 362.052535 34.043124 \r\nL 364.610213 33.744524 \r\nL 367.167891 33.097559 \r\nL 369.725568 32.699427 \r\n\" style=\"fill:none;stroke:#1f77b4;stroke-linecap:square;stroke-width:1.5;\"/>\r\n   </g>\r\n   <g id=\"line2d_18\">\r\n    <path clip-path=\"url(#pe2ae54dba3)\" d=\"M 65.361932 226.788963 \r\nL 67.919609 226.788963 \r\nL 70.477287 226.788963 \r\nL 73.034965 226.788963 \r\nL 75.592642 226.788963 \r\nL 78.15032 226.788963 \r\nL 80.707998 223.80297 \r\nL 83.265675 226.788963 \r\nL 85.823353 226.788963 \r\nL 88.38103 226.788963 \r\nL 90.938708 226.788963 \r\nL 93.496386 226.788963 \r\nL 96.054063 227.784294 \r\nL 98.611741 209.868336 \r\nL 101.169418 180.506073 \r\nL 103.727096 177.520081 \r\nL 106.284774 171.050429 \r\nL 108.842451 140.692835 \r\nL 111.400129 113.321234 \r\nL 113.957807 104.860921 \r\nL 116.515484 106.851583 \r\nL 119.073162 111.828238 \r\nL 121.630839 97.395939 \r\nL 124.188517 98.888935 \r\nL 126.746195 95.405277 \r\nL 129.303872 88.43796 \r\nL 131.86155 81.968309 \r\nL 134.419227 79.479982 \r\nL 136.976905 79.977647 \r\nL 139.534583 69.526672 \r\nL 142.09226 73.507996 \r\nL 144.649938 67.53601 \r\nL 147.207616 63.057021 \r\nL 149.765293 61.066359 \r\nL 152.322971 69.029007 \r\nL 154.880648 61.066359 \r\nL 157.438326 60.568694 \r\nL 159.996004 58.578032 \r\nL 162.553681 58.578032 \r\nL 165.111359 63.057021 \r\nL 167.669036 59.075697 \r\nL 170.226714 65.047683 \r\nL 172.784392 57.582701 \r\nL 175.342069 61.066359 \r\nL 177.899747 58.578032 \r\nL 180.457425 65.047683 \r\nL 183.015102 52.606046 \r\nL 185.57278 57.582701 \r\nL 188.130457 56.58737 \r\nL 190.688135 55.592039 \r\nL 193.245813 59.573363 \r\nL 195.80349 59.573363 \r\nL 198.361168 57.085035 \r\nL 200.918845 56.58737 \r\nL 203.476523 54.099042 \r\nL 206.034201 63.057021 \r\nL 208.591878 56.58737 \r\nL 211.149556 58.578032 \r\nL 213.707234 56.58737 \r\nL 216.264911 56.58737 \r\nL 218.822589 58.080366 \r\nL 221.380266 54.099042 \r\nL 223.937944 58.080366 \r\nL 226.495622 58.080366 \r\nL 229.053299 56.089704 \r\nL 231.610977 59.075697 \r\nL 234.168655 56.58737 \r\nL 236.726332 59.075697 \r\nL 239.28401 60.071028 \r\nL 241.841687 59.075697 \r\nL 244.399365 58.080366 \r\nL 246.957043 61.066359 \r\nL 249.51472 57.085035 \r\nL 252.072398 58.578032 \r\nL 254.630075 59.075697 \r\nL 257.187753 61.066359 \r\nL 259.745431 61.066359 \r\nL 262.303108 57.085035 \r\nL 264.860786 56.58737 \r\nL 267.418464 58.080366 \r\nL 269.976141 55.094373 \r\nL 272.533819 62.559355 \r\nL 275.091496 58.080366 \r\nL 277.649174 61.066359 \r\nL 280.206852 59.573363 \r\nL 282.764529 58.578032 \r\nL 285.322207 58.578032 \r\nL 287.879884 55.592039 \r\nL 290.437562 57.582701 \r\nL 292.99524 55.592039 \r\nL 295.552917 64.052352 \r\nL 298.110595 59.075697 \r\nL 300.668273 58.578032 \r\nL 303.22595 63.057021 \r\nL 305.783628 63.554686 \r\nL 308.341305 57.582701 \r\nL 310.898983 63.554686 \r\nL 313.456661 59.075697 \r\nL 316.014338 59.075697 \r\nL 318.572016 62.06169 \r\nL 321.129693 61.066359 \r\nL 323.687371 62.06169 \r\nL 326.245049 57.582701 \r\nL 328.802726 57.085035 \r\nL 331.360404 56.089704 \r\nL 333.918082 61.066359 \r\nL 336.475759 62.06169 \r\nL 339.033437 59.573363 \r\nL 341.591114 63.057021 \r\nL 344.148792 60.071028 \r\nL 346.70647 62.06169 \r\nL 349.264147 61.066359 \r\nL 351.821825 62.06169 \r\nL 354.379502 59.075697 \r\nL 356.93718 64.052352 \r\nL 359.494858 61.564024 \r\nL 362.052535 63.057021 \r\nL 364.610213 62.06169 \r\nL 367.167891 64.052352 \r\nL 369.725568 62.06169 \r\n\" style=\"fill:none;stroke:#ff7f0e;stroke-linecap:square;stroke-width:1.5;\"/>\r\n   </g>\r\n   <g id=\"patch_3\">\r\n    <path d=\"M 50.14375 239.758125 \r\nL 50.14375 22.318125 \r\n\" style=\"fill:none;stroke:#000000;stroke-linecap:square;stroke-linejoin:miter;stroke-width:0.8;\"/>\r\n   </g>\r\n   <g id=\"patch_4\">\r\n    <path d=\"M 384.94375 239.758125 \r\nL 384.94375 22.318125 \r\n\" style=\"fill:none;stroke:#000000;stroke-linecap:square;stroke-linejoin:miter;stroke-width:0.8;\"/>\r\n   </g>\r\n   <g id=\"patch_5\">\r\n    <path d=\"M 50.14375 239.758125 \r\nL 384.94375 239.758125 \r\n\" style=\"fill:none;stroke:#000000;stroke-linecap:square;stroke-linejoin:miter;stroke-width:0.8;\"/>\r\n   </g>\r\n   <g id=\"patch_6\">\r\n    <path d=\"M 50.14375 22.318125 \r\nL 384.94375 22.318125 \r\n\" style=\"fill:none;stroke:#000000;stroke-linecap:square;stroke-linejoin:miter;stroke-width:0.8;\"/>\r\n   </g>\r\n   <g id=\"text_19\">\r\n    <!-- model accuracy -->\r\n    <defs>\r\n     <path d=\"M 52 44.1875 \r\nQ 55.375 50.25 60.0625 53.125 \r\nQ 64.75 56 71.09375 56 \r\nQ 79.640625 56 84.28125 50.015625 \r\nQ 88.921875 44.046875 88.921875 33.015625 \r\nL 88.921875 0 \r\nL 79.890625 0 \r\nL 79.890625 32.71875 \r\nQ 79.890625 40.578125 77.09375 44.375 \r\nQ 74.3125 48.1875 68.609375 48.1875 \r\nQ 61.625 48.1875 57.5625 43.546875 \r\nQ 53.515625 38.921875 53.515625 30.90625 \r\nL 53.515625 0 \r\nL 44.484375 0 \r\nL 44.484375 32.71875 \r\nQ 44.484375 40.625 41.703125 44.40625 \r\nQ 38.921875 48.1875 33.109375 48.1875 \r\nQ 26.21875 48.1875 22.15625 43.53125 \r\nQ 18.109375 38.875 18.109375 30.90625 \r\nL 18.109375 0 \r\nL 9.078125 0 \r\nL 9.078125 54.6875 \r\nL 18.109375 54.6875 \r\nL 18.109375 46.1875 \r\nQ 21.1875 51.21875 25.484375 53.609375 \r\nQ 29.78125 56 35.6875 56 \r\nQ 41.65625 56 45.828125 52.96875 \r\nQ 50 49.953125 52 44.1875 \r\nz\r\n\" id=\"DejaVuSans-109\"/>\r\n     <path d=\"M 45.40625 46.390625 \r\nL 45.40625 75.984375 \r\nL 54.390625 75.984375 \r\nL 54.390625 0 \r\nL 45.40625 0 \r\nL 45.40625 8.203125 \r\nQ 42.578125 3.328125 38.25 0.953125 \r\nQ 33.9375 -1.421875 27.875 -1.421875 \r\nQ 17.96875 -1.421875 11.734375 6.484375 \r\nQ 5.515625 14.40625 5.515625 27.296875 \r\nQ 5.515625 40.1875 11.734375 48.09375 \r\nQ 17.96875 56 27.875 56 \r\nQ 33.9375 56 38.25 53.625 \r\nQ 42.578125 51.265625 45.40625 46.390625 \r\nz\r\nM 14.796875 27.296875 \r\nQ 14.796875 17.390625 18.875 11.75 \r\nQ 22.953125 6.109375 30.078125 6.109375 \r\nQ 37.203125 6.109375 41.296875 11.75 \r\nQ 45.40625 17.390625 45.40625 27.296875 \r\nQ 45.40625 37.203125 41.296875 42.84375 \r\nQ 37.203125 48.484375 30.078125 48.484375 \r\nQ 22.953125 48.484375 18.875 42.84375 \r\nQ 14.796875 37.203125 14.796875 27.296875 \r\nz\r\n\" id=\"DejaVuSans-100\"/>\r\n     <path d=\"M 9.421875 75.984375 \r\nL 18.40625 75.984375 \r\nL 18.40625 0 \r\nL 9.421875 0 \r\nz\r\n\" id=\"DejaVuSans-108\"/>\r\n     <path id=\"DejaVuSans-32\"/>\r\n    </defs>\r\n    <g transform=\"translate(169.882188 16.318125)scale(0.12 -0.12)\">\r\n     <use xlink:href=\"#DejaVuSans-109\"/>\r\n     <use x=\"97.412109\" xlink:href=\"#DejaVuSans-111\"/>\r\n     <use x=\"158.59375\" xlink:href=\"#DejaVuSans-100\"/>\r\n     <use x=\"222.070312\" xlink:href=\"#DejaVuSans-101\"/>\r\n     <use x=\"283.59375\" xlink:href=\"#DejaVuSans-108\"/>\r\n     <use x=\"311.376953\" xlink:href=\"#DejaVuSans-32\"/>\r\n     <use x=\"343.164062\" xlink:href=\"#DejaVuSans-97\"/>\r\n     <use x=\"404.443359\" xlink:href=\"#DejaVuSans-99\"/>\r\n     <use x=\"459.423828\" xlink:href=\"#DejaVuSans-99\"/>\r\n     <use x=\"514.404297\" xlink:href=\"#DejaVuSans-117\"/>\r\n     <use x=\"577.783203\" xlink:href=\"#DejaVuSans-114\"/>\r\n     <use x=\"618.896484\" xlink:href=\"#DejaVuSans-97\"/>\r\n     <use x=\"680.175781\" xlink:href=\"#DejaVuSans-99\"/>\r\n     <use x=\"735.15625\" xlink:href=\"#DejaVuSans-121\"/>\r\n    </g>\r\n   </g>\r\n   <g id=\"legend_1\">\r\n    <g id=\"patch_7\">\r\n     <path d=\"M 57.14375 59.674375 \r\nL 112.41875 59.674375 \r\nQ 114.41875 59.674375 114.41875 57.674375 \r\nL 114.41875 29.318125 \r\nQ 114.41875 27.318125 112.41875 27.318125 \r\nL 57.14375 27.318125 \r\nQ 55.14375 27.318125 55.14375 29.318125 \r\nL 55.14375 57.674375 \r\nQ 55.14375 59.674375 57.14375 59.674375 \r\nz\r\n\" style=\"fill:#ffffff;opacity:0.8;stroke:#cccccc;stroke-linejoin:miter;\"/>\r\n    </g>\r\n    <g id=\"line2d_19\">\r\n     <path d=\"M 59.14375 35.416562 \r\nL 79.14375 35.416562 \r\n\" style=\"fill:none;stroke:#1f77b4;stroke-linecap:square;stroke-width:1.5;\"/>\r\n    </g>\r\n    <g id=\"line2d_20\"/>\r\n    <g id=\"text_20\">\r\n     <!-- train -->\r\n     <defs>\r\n      <path d=\"M 18.3125 70.21875 \r\nL 18.3125 54.6875 \r\nL 36.8125 54.6875 \r\nL 36.8125 47.703125 \r\nL 18.3125 47.703125 \r\nL 18.3125 18.015625 \r\nQ 18.3125 11.328125 20.140625 9.421875 \r\nQ 21.96875 7.515625 27.59375 7.515625 \r\nL 36.8125 7.515625 \r\nL 36.8125 0 \r\nL 27.59375 0 \r\nQ 17.1875 0 13.234375 3.875 \r\nQ 9.28125 7.765625 9.28125 18.015625 \r\nL 9.28125 47.703125 \r\nL 2.6875 47.703125 \r\nL 2.6875 54.6875 \r\nL 9.28125 54.6875 \r\nL 9.28125 70.21875 \r\nz\r\n\" id=\"DejaVuSans-116\"/>\r\n      <path d=\"M 9.421875 54.6875 \r\nL 18.40625 54.6875 \r\nL 18.40625 0 \r\nL 9.421875 0 \r\nz\r\nM 9.421875 75.984375 \r\nL 18.40625 75.984375 \r\nL 18.40625 64.59375 \r\nL 9.421875 64.59375 \r\nz\r\n\" id=\"DejaVuSans-105\"/>\r\n      <path d=\"M 54.890625 33.015625 \r\nL 54.890625 0 \r\nL 45.90625 0 \r\nL 45.90625 32.71875 \r\nQ 45.90625 40.484375 42.875 44.328125 \r\nQ 39.84375 48.1875 33.796875 48.1875 \r\nQ 26.515625 48.1875 22.3125 43.546875 \r\nQ 18.109375 38.921875 18.109375 30.90625 \r\nL 18.109375 0 \r\nL 9.078125 0 \r\nL 9.078125 54.6875 \r\nL 18.109375 54.6875 \r\nL 18.109375 46.1875 \r\nQ 21.34375 51.125 25.703125 53.5625 \r\nQ 30.078125 56 35.796875 56 \r\nQ 45.21875 56 50.046875 50.171875 \r\nQ 54.890625 44.34375 54.890625 33.015625 \r\nz\r\n\" id=\"DejaVuSans-110\"/>\r\n     </defs>\r\n     <g transform=\"translate(87.14375 38.916562)scale(0.1 -0.1)\">\r\n      <use xlink:href=\"#DejaVuSans-116\"/>\r\n      <use x=\"39.208984\" xlink:href=\"#DejaVuSans-114\"/>\r\n      <use x=\"80.322266\" xlink:href=\"#DejaVuSans-97\"/>\r\n      <use x=\"141.601562\" xlink:href=\"#DejaVuSans-105\"/>\r\n      <use x=\"169.384766\" xlink:href=\"#DejaVuSans-110\"/>\r\n     </g>\r\n    </g>\r\n    <g id=\"line2d_21\">\r\n     <path d=\"M 59.14375 50.094687 \r\nL 79.14375 50.094687 \r\n\" style=\"fill:none;stroke:#ff7f0e;stroke-linecap:square;stroke-width:1.5;\"/>\r\n    </g>\r\n    <g id=\"line2d_22\"/>\r\n    <g id=\"text_21\">\r\n     <!-- test -->\r\n     <defs>\r\n      <path d=\"M 44.28125 53.078125 \r\nL 44.28125 44.578125 \r\nQ 40.484375 46.53125 36.375 47.5 \r\nQ 32.28125 48.484375 27.875 48.484375 \r\nQ 21.1875 48.484375 17.84375 46.4375 \r\nQ 14.5 44.390625 14.5 40.28125 \r\nQ 14.5 37.15625 16.890625 35.375 \r\nQ 19.28125 33.59375 26.515625 31.984375 \r\nL 29.59375 31.296875 \r\nQ 39.15625 29.25 43.1875 25.515625 \r\nQ 47.21875 21.78125 47.21875 15.09375 \r\nQ 47.21875 7.46875 41.1875 3.015625 \r\nQ 35.15625 -1.421875 24.609375 -1.421875 \r\nQ 20.21875 -1.421875 15.453125 -0.5625 \r\nQ 10.6875 0.296875 5.421875 2 \r\nL 5.421875 11.28125 \r\nQ 10.40625 8.6875 15.234375 7.390625 \r\nQ 20.0625 6.109375 24.8125 6.109375 \r\nQ 31.15625 6.109375 34.5625 8.28125 \r\nQ 37.984375 10.453125 37.984375 14.40625 \r\nQ 37.984375 18.0625 35.515625 20.015625 \r\nQ 33.0625 21.96875 24.703125 23.78125 \r\nL 21.578125 24.515625 \r\nQ 13.234375 26.265625 9.515625 29.90625 \r\nQ 5.8125 33.546875 5.8125 39.890625 \r\nQ 5.8125 47.609375 11.28125 51.796875 \r\nQ 16.75 56 26.8125 56 \r\nQ 31.78125 56 36.171875 55.265625 \r\nQ 40.578125 54.546875 44.28125 53.078125 \r\nz\r\n\" id=\"DejaVuSans-115\"/>\r\n     </defs>\r\n     <g transform=\"translate(87.14375 53.594687)scale(0.1 -0.1)\">\r\n      <use xlink:href=\"#DejaVuSans-116\"/>\r\n      <use x=\"39.208984\" xlink:href=\"#DejaVuSans-101\"/>\r\n      <use x=\"100.732422\" xlink:href=\"#DejaVuSans-115\"/>\r\n      <use x=\"152.832031\" xlink:href=\"#DejaVuSans-116\"/>\r\n     </g>\r\n    </g>\r\n   </g>\r\n  </g>\r\n </g>\r\n <defs>\r\n  <clipPath id=\"pe2ae54dba3\">\r\n   <rect height=\"217.44\" width=\"334.8\" x=\"50.14375\" y=\"22.318125\"/>\r\n  </clipPath>\r\n </defs>\r\n</svg>\r\n",
      "text/plain": "<Figure size 432x288 with 1 Axes>"
     },
     "metadata": {
      "needs_background": "light"
     },
     "output_type": "display_data"
    }
   ],
   "source": [
    "import matplotlib.pyplot as plt\n",
    "%matplotlib inline\n",
    "print(history.history.keys())\n",
    "\n",
    "plt.plot(history.history['acc'])\n",
    "plt.plot(history.history['val_acc'])\n",
    "plt.title('model accuracy')\n",
    "plt.ylabel('accuracy')\n",
    "plt.xlabel('epoch')\n",
    "plt.legend(['train', 'test'], loc='upper left')\n",
    "plt.show()"
   ]
  },
  {
   "cell_type": "code",
   "execution_count": 119,
   "metadata": {},
   "outputs": [],
   "source": [
    "pred_results = model.predict(([inputs_test,queries_test]))"
   ]
  },
  {
   "cell_type": "code",
   "execution_count": 120,
   "metadata": {},
   "outputs": [],
   "source": [
    "my_story = \"John left the kitchen . Sandra dropped the football in the bedroom .\"\n",
    "my_question = \"Is the football in the hallway ?\""
   ]
  },
  {
   "cell_type": "code",
   "execution_count": 121,
   "metadata": {},
   "outputs": [],
   "source": [
    "def get_answer(story,question):\n",
    "    my_data = [(story.split(),question.split(),'yes')]\n",
    "    story, question, my_answer = vectorize_stories(my_data)\n",
    "    pred_results = model.predict(([story, question]))\n",
    "    print(pred_results)\n",
    "    val_max = np.argmax(pred_results[0])\n",
    "    print(val_max)\n",
    "    for key,val in tokenizer.word_index.items():\n",
    "        if val == val_max:\n",
    "            k = key\n",
    "    return k"
   ]
  },
  {
   "cell_type": "code",
   "execution_count": 114,
   "metadata": {},
   "outputs": [
    {
     "name": "stdout",
     "output_type": "stream",
     "text": "[[1.28909464e-17 1.05900187e-17 1.31151943e-17 1.18204655e-17\n  1.25079726e-17 1.28765949e-17 1.15838803e-17 1.44449988e-17\n  9.92402992e-18 1.50549535e-17 1.54232639e-17 1.20636773e-17\n  1.66676844e-17 1.03606158e-17 1.01945436e-17 1.52534653e-17\n  1.31747662e-17 1.03575338e-17 1.35568326e-17 1.07381328e-17\n  1.31001942e-17 9.84105543e-18 1.33105537e-17 9.92501426e-18\n  1.86562873e-02 1.07748977e-17 1.50124579e-17 1.25846448e-17\n  1.13133823e-17 1.29162954e-17 1.13363217e-17 1.17592558e-17\n  1.28677068e-17 9.81343627e-01 1.22558967e-17 1.17428934e-17\n  1.12081823e-17 1.32566372e-17]]\n33\n"
    },
    {
     "data": {
      "text/plain": "'no'"
     },
     "execution_count": 114,
     "metadata": {},
     "output_type": "execute_result"
    }
   ],
   "source": [
    "get_answer(my_story,my_question)"
   ]
  }
 ]
}