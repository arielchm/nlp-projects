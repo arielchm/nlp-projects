{
 "nbformat": 4,
 "nbformat_minor": 2,
 "metadata": {
  "language_info": {
   "name": "python",
   "codemirror_mode": {
    "name": "ipython",
    "version": 3
   },
   "version": "3.7.6-final"
  },
  "orig_nbformat": 2,
  "file_extension": ".py",
  "mimetype": "text/x-python",
  "name": "python",
  "npconvert_exporter": "python",
  "pygments_lexer": "ipython3",
  "version": 3,
  "kernelspec": {
   "name": "python3",
   "display_name": "Python 3"
  }
 },
 "cells": [
  {
   "cell_type": "code",
   "execution_count": 1,
   "metadata": {},
   "outputs": [],
   "source": [
    "import pickle\n",
    "import numpy as np"
   ]
  },
  {
   "cell_type": "code",
   "execution_count": 2,
   "metadata": {},
   "outputs": [],
   "source": [
    "with open('./data/train_qa','rb') as f:\n",
    "    train_data = pickle.load(f)"
   ]
  },
  {
   "cell_type": "code",
   "execution_count": 3,
   "metadata": {},
   "outputs": [],
   "source": [
    "with open('./data/test_qa','rb') as f:\n",
    "    test_data = pickle.load(f)"
   ]
  },
  {
   "cell_type": "code",
   "execution_count": 4,
   "metadata": {},
   "outputs": [
    {
     "data": {
      "text/plain": "'Mary moved to the bathroom . Sandra journeyed to the bedroom .'"
     },
     "execution_count": 4,
     "metadata": {},
     "output_type": "execute_result"
    }
   ],
   "source": [
    "' '.join(train_data[0][0])"
   ]
  },
  {
   "cell_type": "code",
   "execution_count": 5,
   "metadata": {},
   "outputs": [
    {
     "data": {
      "text/plain": "'Is Sandra in the hallway ?'"
     },
     "execution_count": 5,
     "metadata": {},
     "output_type": "execute_result"
    }
   ],
   "source": [
    "' '.join(train_data[0][1])"
   ]
  },
  {
   "cell_type": "code",
   "execution_count": 6,
   "metadata": {},
   "outputs": [
    {
     "data": {
      "text/plain": "'no'"
     },
     "execution_count": 6,
     "metadata": {},
     "output_type": "execute_result"
    }
   ],
   "source": [
    "train_data[0][2]"
   ]
  },
  {
   "cell_type": "code",
   "execution_count": 7,
   "metadata": {},
   "outputs": [],
   "source": [
    "dataset = test_data + train_data"
   ]
  },
  {
   "cell_type": "code",
   "execution_count": 8,
   "metadata": {},
   "outputs": [],
   "source": [
    "vocab =set()\n",
    "\n",
    "for story,question,answer in dataset:\n",
    "    vocab = vocab.union(set(story))\n",
    "    vocab = vocab.union(set(question))\n",
    "\n",
    "vocab.add('no')\n",
    "vocab.add('yes')"
   ]
  },
  {
   "cell_type": "code",
   "execution_count": 9,
   "metadata": {},
   "outputs": [],
   "source": [
    "vocab_len = len(vocab) + 1 "
   ]
  },
  {
   "cell_type": "code",
   "execution_count": 11,
   "metadata": {},
   "outputs": [
    {
     "data": {
      "text/plain": "156"
     },
     "execution_count": 11,
     "metadata": {},
     "output_type": "execute_result"
    }
   ],
   "source": [
    "max_story_len = max([len(data[0]) for data in dataset])\n",
    "max_story_len"
   ]
  },
  {
   "cell_type": "code",
   "execution_count": 12,
   "metadata": {},
   "outputs": [
    {
     "data": {
      "text/plain": "6"
     },
     "execution_count": 12,
     "metadata": {},
     "output_type": "execute_result"
    }
   ],
   "source": [
    "max_question_len = max([len(data[1]) for data in dataset])\n",
    "max_question_len"
   ]
  },
  {
   "cell_type": "code",
   "execution_count": 13,
   "metadata": {},
   "outputs": [
    {
     "data": {
      "text/plain": "{'.',\n '?',\n 'Daniel',\n 'Is',\n 'John',\n 'Mary',\n 'Sandra',\n 'apple',\n 'back',\n 'bathroom',\n 'bedroom',\n 'discarded',\n 'down',\n 'dropped',\n 'football',\n 'garden',\n 'got',\n 'grabbed',\n 'hallway',\n 'in',\n 'journeyed',\n 'kitchen',\n 'left',\n 'milk',\n 'moved',\n 'no',\n 'office',\n 'picked',\n 'put',\n 'the',\n 'there',\n 'to',\n 'took',\n 'travelled',\n 'up',\n 'went',\n 'yes'}"
     },
     "execution_count": 13,
     "metadata": {},
     "output_type": "execute_result"
    }
   ],
   "source": [
    "vocab"
   ]
  },
  {
   "cell_type": "code",
   "execution_count": 14,
   "metadata": {},
   "outputs": [],
   "source": [
    "vocab_size = len(vocab) + 1"
   ]
  },
  {
   "cell_type": "code",
   "execution_count": 15,
   "metadata": {},
   "outputs": [
    {
     "name": "stderr",
     "output_type": "stream",
     "text": "Using TensorFlow backend.\n"
    }
   ],
   "source": [
    "from keras.preprocessing.sequence import pad_sequences\n",
    "from keras.preprocessing.text import Tokenizer"
   ]
  },
  {
   "cell_type": "code",
   "execution_count": 16,
   "metadata": {},
   "outputs": [],
   "source": [
    "tokenizer = Tokenizer(filters=[])\n",
    "tokenizer.fit_on_texts(vocab)"
   ]
  },
  {
   "cell_type": "code",
   "execution_count": 17,
   "metadata": {},
   "outputs": [
    {
     "data": {
      "text/plain": "{'?': 1,\n 'hallway': 2,\n 'up': 3,\n 'down': 4,\n 'in': 5,\n 'dropped': 6,\n 'got': 7,\n '.': 8,\n 'kitchen': 9,\n 'bedroom': 10,\n 'sandra': 11,\n 'no': 12,\n 'went': 13,\n 'football': 14,\n 'john': 15,\n 'daniel': 16,\n 'back': 17,\n 'put': 18,\n 'mary': 19,\n 'took': 20,\n 'picked': 21,\n 'to': 22,\n 'is': 23,\n 'left': 24,\n 'travelled': 25,\n 'yes': 26,\n 'there': 27,\n 'moved': 28,\n 'garden': 29,\n 'apple': 30,\n 'grabbed': 31,\n 'discarded': 32,\n 'journeyed': 33,\n 'bathroom': 34,\n 'milk': 35,\n 'the': 36,\n 'office': 37}"
     },
     "execution_count": 17,
     "metadata": {},
     "output_type": "execute_result"
    }
   ],
   "source": [
    "tokenizer.word_index"
   ]
  },
  {
   "cell_type": "code",
   "execution_count": 18,
   "metadata": {},
   "outputs": [],
   "source": [
    "train_story_text = []\n",
    "train_question_text = []\n",
    "train_answers = []\n",
    "\n",
    "for story,question,answer in train_data:\n",
    "    train_story_text.append(story)\n",
    "    train_question_text.append(question)"
   ]
  },
  {
   "cell_type": "code",
   "execution_count": 19,
   "metadata": {},
   "outputs": [],
   "source": [
    "train_story_seq = tokenizer.texts_to_sequences(train_story_text)"
   ]
  },
  {
   "cell_type": "code",
   "execution_count": 20,
   "metadata": {},
   "outputs": [],
   "source": [
    "def vectorize_stories(data,word_index=tokenizer.word_index,max_story_len=max_story_len,max_question_len=max_question_len):\n",
    "    # Stories\n",
    "    X = []\n",
    "    # Questions\n",
    "    Xq = []\n",
    "    # Y correct answer\n",
    "    Y =[]\n",
    "    \n",
    "    for story,query,answer in data:\n",
    "        x = [word_index[word.lower()] for word in story]\n",
    "        xq = [word_index[word.lower()] for word in query]\n",
    "        y = np.zeros(len(word_index)+1)\n",
    "        \n",
    "        y[word_index[answer]] = 1\n",
    "        \n",
    "        X.append(x)\n",
    "        Xq.append(xq)\n",
    "        Y.append(y)\n",
    "    \n",
    "    return (pad_sequences(X,maxlen=max_story_len),pad_sequences(Xq,maxlen=max_question_len),np.array(Y))"
   ]
  },
  {
   "cell_type": "code",
   "execution_count": 21,
   "metadata": {},
   "outputs": [],
   "source": [
    "inputs_train,queries_train,answers_train = vectorize_stories(train_data)"
   ]
  },
  {
   "cell_type": "code",
   "execution_count": 41,
   "metadata": {},
   "outputs": [],
   "source": [
    "inputs_test, queries_test, answers_test = vectorize_stories(test_data)"
   ]
  },
  {
   "cell_type": "code",
   "execution_count": 23,
   "metadata": {},
   "outputs": [],
   "source": [
    "from keras.models import Sequential,Model\n",
    "from keras.layers.embeddings import Embedding\n",
    "from keras.layers import Input,Activation,Dense,Permute,Dropout,add,dot,concatenate,LSTM"
   ]
  },
  {
   "cell_type": "code",
   "execution_count": 24,
   "metadata": {},
   "outputs": [],
   "source": [
    "input_sequence = Input((max_story_len,))\n",
    "question = Input((max_question_len,))"
   ]
  },
  {
   "cell_type": "code",
   "execution_count": 25,
   "metadata": {},
   "outputs": [
    {
     "name": "stdout",
     "output_type": "stream",
     "text": "WARNING:tensorflow:From C:\\Users\\Ariel\\Anaconda3\\envs\\nlp\\lib\\site-packages\\tensorflow\\python\\framework\\op_def_library.py:263: colocate_with (from tensorflow.python.framework.ops) is deprecated and will be removed in a future version.\nInstructions for updating:\nColocations handled automatically by placer.\nWARNING:tensorflow:From C:\\Users\\Ariel\\Anaconda3\\envs\\nlp\\lib\\site-packages\\keras\\backend\\tensorflow_backend.py:3445: calling dropout (from tensorflow.python.ops.nn_ops) with keep_prob is deprecated and will be removed in a future version.\nInstructions for updating:\nPlease use `rate` instead of `keep_prob`. Rate should be set to `rate = 1 - keep_prob`.\n"
    }
   ],
   "source": [
    "# Input Encoder M\n",
    "input_encoder_m = Sequential()\n",
    "input_encoder_m.add(Embedding(input_dim=vocab_size,output_dim=64))\n",
    "input_encoder_m.add(Dropout(0.3))\n",
    "\n",
    "# Input Encoder C\n",
    "input_encoder_c = Sequential()\n",
    "input_encoder_c.add(Embedding(input_dim=vocab_size,output_dim=max_question_len))\n",
    "input_encoder_c.add(Dropout(0.3))\n",
    "\n",
    "# Question Encoder\n",
    "question_encoder = Sequential()\n",
    "question_encoder.add(Embedding(input_dim=vocab_size,output_dim=64,input_length=max_question_len))\n",
    "question_encoder.add(Dropout(0.3))"
   ]
  },
  {
   "cell_type": "code",
   "execution_count": 26,
   "metadata": {},
   "outputs": [],
   "source": [
    "input_encoded_m = input_encoder_m(input_sequence)\n",
    "input_encoded_c = input_encoder_c(input_sequence)\n",
    "question_encoded = question_encoder(question)"
   ]
  },
  {
   "cell_type": "code",
   "execution_count": 27,
   "metadata": {},
   "outputs": [],
   "source": [
    "match = dot([input_encoded_m,question_encoded],axes=(2,2))\n",
    "match = Activation('softmax')(match)"
   ]
  },
  {
   "cell_type": "code",
   "execution_count": 28,
   "metadata": {},
   "outputs": [],
   "source": [
    "response = add([match,input_encoded_c])\n",
    "response = Permute((2,1))(response)"
   ]
  },
  {
   "cell_type": "code",
   "execution_count": 36,
   "metadata": {},
   "outputs": [
    {
     "data": {
      "text/plain": "<tf.Tensor 'concatenate_4/concat:0' shape=(?, 6, 220) dtype=float32>"
     },
     "execution_count": 36,
     "metadata": {},
     "output_type": "execute_result"
    }
   ],
   "source": [
    "answer = concatenate([response,question_encoded])\n",
    "answer"
   ]
  },
  {
   "cell_type": "code",
   "execution_count": 37,
   "metadata": {},
   "outputs": [],
   "source": [
    "answer = LSTM(32)(answer)\n",
    "answer = Dropout(0.5)(answer)\n",
    "answer = Dense(vocab_size)(answer)\n",
    "answer = Activation('softmax')(answer)"
   ]
  },
  {
   "cell_type": "code",
   "execution_count": 38,
   "metadata": {},
   "outputs": [],
   "source": [
    "model = Model([input_sequence, question], answer)\n",
    "model.compile(optimizer='rmsprop', loss='categorical_crossentropy',\n",
    "              metrics=['accuracy'])"
   ]
  },
  {
   "cell_type": "code",
   "execution_count": 39,
   "metadata": {},
   "outputs": [
    {
     "name": "stdout",
     "output_type": "stream",
     "text": "__________________________________________________________________________________________________\nLayer (type)                    Output Shape         Param #     Connected to                     \n==================================================================================================\ninput_1 (InputLayer)            (None, 156)          0                                            \n__________________________________________________________________________________________________\ninput_2 (InputLayer)            (None, 6)            0                                            \n__________________________________________________________________________________________________\nsequential_1 (Sequential)       multiple             2432        input_1[0][0]                    \n__________________________________________________________________________________________________\nsequential_3 (Sequential)       (None, 6, 64)        2432        input_2[0][0]                    \n__________________________________________________________________________________________________\ndot_1 (Dot)                     (None, 156, 6)       0           sequential_1[1][0]               \n                                                                 sequential_3[1][0]               \n__________________________________________________________________________________________________\nactivation_1 (Activation)       (None, 156, 6)       0           dot_1[0][0]                      \n__________________________________________________________________________________________________\nsequential_2 (Sequential)       multiple             228         input_1[0][0]                    \n__________________________________________________________________________________________________\nadd_1 (Add)                     (None, 156, 6)       0           activation_1[0][0]               \n                                                                 sequential_2[1][0]               \n__________________________________________________________________________________________________\npermute_1 (Permute)             (None, 6, 156)       0           add_1[0][0]                      \n__________________________________________________________________________________________________\nconcatenate_4 (Concatenate)     (None, 6, 220)       0           permute_1[0][0]                  \n                                                                 sequential_3[1][0]               \n__________________________________________________________________________________________________\nlstm_5 (LSTM)                   (None, 32)           32384       concatenate_4[0][0]              \n__________________________________________________________________________________________________\ndropout_6 (Dropout)             (None, 32)           0           lstm_5[0][0]                     \n__________________________________________________________________________________________________\ndense_3 (Dense)                 (None, 38)           1254        dropout_6[0][0]                  \n__________________________________________________________________________________________________\nactivation_2 (Activation)       (None, 38)           0           dense_3[0][0]                    \n==================================================================================================\nTotal params: 38,730\nTrainable params: 38,730\nNon-trainable params: 0\n__________________________________________________________________________________________________\n"
    }
   ],
   "source": [
    "model.summary()"
   ]
  },
  {
   "cell_type": "code",
   "execution_count": 42,
   "metadata": {},
   "outputs": [
    {
     "name": "stdout",
     "output_type": "stream",
     "text": "WARNING:tensorflow:From C:\\Users\\Ariel\\Anaconda3\\envs\\nlp\\lib\\site-packages\\tensorflow\\python\\ops\\math_ops.py:3066: to_int32 (from tensorflow.python.ops.math_ops) is deprecated and will be removed in a future version.\nInstructions for updating:\nUse tf.cast instead.\nWARNING:tensorflow:From C:\\Users\\Ariel\\Anaconda3\\envs\\nlp\\lib\\site-packages\\tensorflow\\python\\ops\\math_grad.py:102: div (from tensorflow.python.ops.math_ops) is deprecated and will be removed in a future version.\nInstructions for updating:\nDeprecated in favor of operator or tf.math.divide.\nTrain on 10000 samples, validate on 1000 samples\nEpoch 1/120\n10000/10000 [==============================] - 13s 1ms/step - loss: 0.8804 - acc: 0.4965 - val_loss: 0.6942 - val_acc: 0.5030\nEpoch 2/120\n10000/10000 [==============================] - 11s 1ms/step - loss: 0.7024 - acc: 0.5003 - val_loss: 0.6938 - val_acc: 0.4970\nEpoch 3/120\n10000/10000 [==============================] - 10s 973us/step - loss: 0.6961 - acc: 0.4976 - val_loss: 0.6948 - val_acc: 0.4970\nEpoch 4/120\n10000/10000 [==============================] - 9s 924us/step - loss: 0.6950 - acc: 0.5041 - val_loss: 0.6931 - val_acc: 0.5030\nEpoch 5/120\n10000/10000 [==============================] - 10s 971us/step - loss: 0.6946 - acc: 0.4905 - val_loss: 0.6934 - val_acc: 0.5030\nEpoch 6/120\n10000/10000 [==============================] - 9s 902us/step - loss: 0.6953 - acc: 0.5008 - val_loss: 0.6934 - val_acc: 0.5030\nEpoch 7/120\n10000/10000 [==============================] - 9s 916us/step - loss: 0.6942 - acc: 0.5011 - val_loss: 0.6936 - val_acc: 0.5030\nEpoch 8/120\n10000/10000 [==============================] - 10s 950us/step - loss: 0.6946 - acc: 0.5038 - val_loss: 0.6953 - val_acc: 0.4970\nEpoch 9/120\n10000/10000 [==============================] - 9s 933us/step - loss: 0.6944 - acc: 0.5038 - val_loss: 0.6934 - val_acc: 0.5030\nEpoch 10/120\n10000/10000 [==============================] - 9s 905us/step - loss: 0.6940 - acc: 0.5041 - val_loss: 0.6960 - val_acc: 0.4970\nEpoch 11/120\n10000/10000 [==============================] - 9s 931us/step - loss: 0.6937 - acc: 0.5127 - val_loss: 0.6942 - val_acc: 0.4980\nEpoch 12/120\n10000/10000 [==============================] - 9s 925us/step - loss: 0.6939 - acc: 0.5035 - val_loss: 0.6946 - val_acc: 0.5080\nEpoch 13/120\n10000/10000 [==============================] - 9s 887us/step - loss: 0.6938 - acc: 0.5061 - val_loss: 0.6941 - val_acc: 0.4750\nEpoch 14/120\n10000/10000 [==============================] - 9s 912us/step - loss: 0.6916 - acc: 0.5196 - val_loss: 0.6922 - val_acc: 0.4970\nEpoch 15/120\n10000/10000 [==============================] - 10s 953us/step - loss: 0.6816 - acc: 0.5438 - val_loss: 0.6835 - val_acc: 0.5530\nEpoch 16/120\n10000/10000 [==============================] - 9s 913us/step - loss: 0.6579 - acc: 0.5916 - val_loss: 0.6452 - val_acc: 0.6270\nEpoch 17/120\n10000/10000 [==============================] - 9s 915us/step - loss: 0.6377 - acc: 0.6294 - val_loss: 0.6330 - val_acc: 0.6510\nEpoch 18/120\n10000/10000 [==============================] - 10s 960us/step - loss: 0.6235 - acc: 0.6584 - val_loss: 0.6210 - val_acc: 0.6610\nEpoch 19/120\n10000/10000 [==============================] - 9s 907us/step - loss: 0.6125 - acc: 0.6711 - val_loss: 0.6160 - val_acc: 0.6700\nEpoch 20/120\n10000/10000 [==============================] - 9s 925us/step - loss: 0.6069 - acc: 0.6810 - val_loss: 0.6071 - val_acc: 0.6820\nEpoch 21/120\n10000/10000 [==============================] - 10s 958us/step - loss: 0.5989 - acc: 0.6852 - val_loss: 0.6045 - val_acc: 0.6830\nEpoch 22/120\n10000/10000 [==============================] - 9s 922us/step - loss: 0.5917 - acc: 0.6949 - val_loss: 0.5971 - val_acc: 0.6890\nEpoch 23/120\n10000/10000 [==============================] - 9s 896us/step - loss: 0.5878 - acc: 0.6982 - val_loss: 0.5916 - val_acc: 0.6910\nEpoch 24/120\n10000/10000 [==============================] - 9s 947us/step - loss: 0.5773 - acc: 0.7081 - val_loss: 0.5896 - val_acc: 0.6910\nEpoch 25/120\n10000/10000 [==============================] - 9s 938us/step - loss: 0.5674 - acc: 0.7145 - val_loss: 0.5804 - val_acc: 0.7040\nEpoch 26/120\n10000/10000 [==============================] - 9s 897us/step - loss: 0.5517 - acc: 0.7304 - val_loss: 0.5663 - val_acc: 0.7080\nEpoch 27/120\n10000/10000 [==============================] - 9s 943us/step - loss: 0.5375 - acc: 0.7358 - val_loss: 0.5271 - val_acc: 0.7530\nEpoch 28/120\n10000/10000 [==============================] - 9s 934us/step - loss: 0.5202 - acc: 0.7526 - val_loss: 0.5139 - val_acc: 0.7560\nEpoch 29/120\n10000/10000 [==============================] - 9s 913us/step - loss: 0.5042 - acc: 0.7629 - val_loss: 0.4968 - val_acc: 0.7640\nEpoch 30/120\n10000/10000 [==============================] - 9s 851us/step - loss: 0.4881 - acc: 0.7742 - val_loss: 0.5010 - val_acc: 0.7600\nEpoch 31/120\n10000/10000 [==============================] - 9s 885us/step - loss: 0.4705 - acc: 0.7813 - val_loss: 0.4629 - val_acc: 0.7840\nEpoch 32/120\n10000/10000 [==============================] - 10s 981us/step - loss: 0.4465 - acc: 0.7977 - val_loss: 0.4455 - val_acc: 0.7910\nEpoch 33/120\n10000/10000 [==============================] - 8s 813us/step - loss: 0.4349 - acc: 0.8030 - val_loss: 0.4313 - val_acc: 0.8020\nEpoch 34/120\n10000/10000 [==============================] - 9s 873us/step - loss: 0.4225 - acc: 0.8095 - val_loss: 0.4283 - val_acc: 0.7980\nEpoch 35/120\n10000/10000 [==============================] - 8s 843us/step - loss: 0.4065 - acc: 0.8174 - val_loss: 0.4200 - val_acc: 0.8010\nEpoch 36/120\n10000/10000 [==============================] - 8s 841us/step - loss: 0.3928 - acc: 0.8296 - val_loss: 0.4349 - val_acc: 0.8080\nEpoch 37/120\n10000/10000 [==============================] - 9s 851us/step - loss: 0.3779 - acc: 0.8380 - val_loss: 0.3911 - val_acc: 0.8270\nEpoch 38/120\n10000/10000 [==============================] - 9s 856us/step - loss: 0.3640 - acc: 0.8410 - val_loss: 0.4174 - val_acc: 0.8070\nEpoch 39/120\n10000/10000 [==============================] - 8s 814us/step - loss: 0.3651 - acc: 0.8390 - val_loss: 0.3888 - val_acc: 0.8090\nEpoch 40/120\n10000/10000 [==============================] - 8s 814us/step - loss: 0.3519 - acc: 0.8482 - val_loss: 0.3879 - val_acc: 0.8230\nEpoch 41/120\n10000/10000 [==============================] - 9s 871us/step - loss: 0.3414 - acc: 0.8469 - val_loss: 0.3911 - val_acc: 0.8140\nEpoch 42/120\n10000/10000 [==============================] - 8s 833us/step - loss: 0.3444 - acc: 0.8509 - val_loss: 0.3715 - val_acc: 0.8170\nEpoch 43/120\n10000/10000 [==============================] - 8s 812us/step - loss: 0.3380 - acc: 0.8518 - val_loss: 0.3741 - val_acc: 0.8250\nEpoch 44/120\n10000/10000 [==============================] - 8s 833us/step - loss: 0.3418 - acc: 0.8520 - val_loss: 0.3686 - val_acc: 0.8270\nEpoch 45/120\n10000/10000 [==============================] - 9s 853us/step - loss: 0.3292 - acc: 0.8530 - val_loss: 0.3848 - val_acc: 0.8220\nEpoch 46/120\n10000/10000 [==============================] - 8s 808us/step - loss: 0.3307 - acc: 0.8526 - val_loss: 0.3734 - val_acc: 0.8270\nEpoch 47/120\n10000/10000 [==============================] - 8s 819us/step - loss: 0.3245 - acc: 0.8581 - val_loss: 0.3731 - val_acc: 0.8250\nEpoch 48/120\n10000/10000 [==============================] - 9s 860us/step - loss: 0.3174 - acc: 0.8634 - val_loss: 0.3727 - val_acc: 0.8300\nEpoch 49/120\n10000/10000 [==============================] - 8s 845us/step - loss: 0.3178 - acc: 0.8626 - val_loss: 0.3702 - val_acc: 0.8240\nEpoch 50/120\n10000/10000 [==============================] - 8s 805us/step - loss: 0.3158 - acc: 0.8612 - val_loss: 0.3682 - val_acc: 0.8260\nEpoch 51/120\n10000/10000 [==============================] - 8s 822us/step - loss: 0.3140 - acc: 0.8664 - val_loss: 0.3860 - val_acc: 0.8230\nEpoch 52/120\n10000/10000 [==============================] - 9s 868us/step - loss: 0.3076 - acc: 0.8641 - val_loss: 0.3839 - val_acc: 0.8270\nEpoch 53/120\n10000/10000 [==============================] - 8s 812us/step - loss: 0.3078 - acc: 0.8631 - val_loss: 0.3688 - val_acc: 0.8270\nEpoch 54/120\n10000/10000 [==============================] - 8s 814us/step - loss: 0.3070 - acc: 0.8678 - val_loss: 0.3787 - val_acc: 0.8290\nEpoch 55/120\n10000/10000 [==============================] - 9s 875us/step - loss: 0.2979 - acc: 0.8686 - val_loss: 0.3887 - val_acc: 0.8190\nEpoch 56/120\n10000/10000 [==============================] - 8s 829us/step - loss: 0.3080 - acc: 0.8659 - val_loss: 0.3794 - val_acc: 0.8290\nEpoch 57/120\n10000/10000 [==============================] - 8s 800us/step - loss: 0.2944 - acc: 0.8704 - val_loss: 0.4019 - val_acc: 0.8220\nEpoch 58/120\n10000/10000 [==============================] - 8s 826us/step - loss: 0.2959 - acc: 0.8739 - val_loss: 0.3832 - val_acc: 0.8220\nEpoch 59/120\n10000/10000 [==============================] - 9s 872us/step - loss: 0.2952 - acc: 0.8733 - val_loss: 0.3828 - val_acc: 0.8290\nEpoch 60/120\n10000/10000 [==============================] - 8s 830us/step - loss: 0.2926 - acc: 0.8698 - val_loss: 0.3900 - val_acc: 0.8180\nEpoch 61/120\n10000/10000 [==============================] - 8s 802us/step - loss: 0.2938 - acc: 0.8737 - val_loss: 0.3679 - val_acc: 0.8290\nEpoch 62/120\n10000/10000 [==============================] - 9s 857us/step - loss: 0.2912 - acc: 0.8723 - val_loss: 0.3764 - val_acc: 0.8300\nEpoch 63/120\n10000/10000 [==============================] - 8s 825us/step - loss: 0.2902 - acc: 0.8773 - val_loss: 0.3894 - val_acc: 0.8280\nEpoch 64/120\n10000/10000 [==============================] - 8s 812us/step - loss: 0.2847 - acc: 0.8795 - val_loss: 0.4173 - val_acc: 0.8220\nEpoch 65/120\n10000/10000 [==============================] - 8s 833us/step - loss: 0.2920 - acc: 0.8768 - val_loss: 0.3933 - val_acc: 0.8190\nEpoch 66/120\n10000/10000 [==============================] - 9s 877us/step - loss: 0.2820 - acc: 0.8794 - val_loss: 0.3904 - val_acc: 0.8320\nEpoch 67/120\n10000/10000 [==============================] - 8s 836us/step - loss: 0.2855 - acc: 0.8794 - val_loss: 0.4116 - val_acc: 0.8260\nEpoch 68/120\n10000/10000 [==============================] - 8s 819us/step - loss: 0.2805 - acc: 0.8796 - val_loss: 0.3860 - val_acc: 0.8320\nEpoch 69/120\n10000/10000 [==============================] - 9s 876us/step - loss: 0.2816 - acc: 0.8803 - val_loss: 0.4129 - val_acc: 0.8300\nEpoch 70/120\n10000/10000 [==============================] - 9s 853us/step - loss: 0.2780 - acc: 0.8798 - val_loss: 0.4096 - val_acc: 0.8340\nEpoch 71/120\n10000/10000 [==============================] - 8s 844us/step - loss: 0.2785 - acc: 0.8799 - val_loss: 0.3879 - val_acc: 0.8330\nEpoch 72/120\n10000/10000 [==============================] - 8s 828us/step - loss: 0.2746 - acc: 0.8808 - val_loss: 0.4053 - val_acc: 0.8240\nEpoch 73/120\n10000/10000 [==============================] - 9s 887us/step - loss: 0.2746 - acc: 0.8831 - val_loss: 0.3929 - val_acc: 0.8230\nEpoch 74/120\n10000/10000 [==============================] - 8s 843us/step - loss: 0.2762 - acc: 0.8801 - val_loss: 0.4039 - val_acc: 0.8310\nEpoch 75/120\n10000/10000 [==============================] - 8s 825us/step - loss: 0.2706 - acc: 0.8825 - val_loss: 0.4060 - val_acc: 0.8270\nEpoch 76/120\n10000/10000 [==============================] - 9s 857us/step - loss: 0.2762 - acc: 0.8818 - val_loss: 0.4427 - val_acc: 0.8240\nEpoch 77/120\n10000/10000 [==============================] - 8s 836us/step - loss: 0.2638 - acc: 0.8864 - val_loss: 0.4367 - val_acc: 0.8290\nEpoch 78/120\n10000/10000 [==============================] - 8s 828us/step - loss: 0.2693 - acc: 0.8843 - val_loss: 0.4231 - val_acc: 0.8310\nEpoch 79/120\n10000/10000 [==============================] - 8s 821us/step - loss: 0.2653 - acc: 0.8889 - val_loss: 0.4025 - val_acc: 0.8330\nEpoch 80/120\n10000/10000 [==============================] - 9s 877us/step - loss: 0.2701 - acc: 0.8838 - val_loss: 0.4280 - val_acc: 0.8230\nEpoch 81/120\n10000/10000 [==============================] - 8s 833us/step - loss: 0.2636 - acc: 0.8873 - val_loss: 0.4268 - val_acc: 0.8260\nEpoch 82/120\n10000/10000 [==============================] - 9s 867us/step - loss: 0.2618 - acc: 0.8871 - val_loss: 0.4178 - val_acc: 0.8280\nEpoch 83/120\n10000/10000 [==============================] - 9s 880us/step - loss: 0.2657 - acc: 0.8844 - val_loss: 0.4034 - val_acc: 0.8320\nEpoch 84/120\n10000/10000 [==============================] - 9s 854us/step - loss: 0.2629 - acc: 0.8877 - val_loss: 0.4079 - val_acc: 0.8260\nEpoch 85/120\n10000/10000 [==============================] - 8s 836us/step - loss: 0.2635 - acc: 0.8892 - val_loss: 0.4342 - val_acc: 0.8290\nEpoch 86/120\n10000/10000 [==============================] - 8s 826us/step - loss: 0.2496 - acc: 0.8915 - val_loss: 0.3993 - val_acc: 0.8290\nEpoch 87/120\n10000/10000 [==============================] - 9s 880us/step - loss: 0.2542 - acc: 0.8930 - val_loss: 0.4508 - val_acc: 0.8220\nEpoch 88/120\n10000/10000 [==============================] - 8s 834us/step - loss: 0.2553 - acc: 0.8946 - val_loss: 0.4419 - val_acc: 0.8180\nEpoch 89/120\n10000/10000 [==============================] - 8s 840us/step - loss: 0.2557 - acc: 0.8937 - val_loss: 0.4281 - val_acc: 0.8310\nEpoch 90/120\n10000/10000 [==============================] - 9s 884us/step - loss: 0.2526 - acc: 0.8942 - val_loss: 0.4598 - val_acc: 0.8340\nEpoch 91/120\n10000/10000 [==============================] - 8s 845us/step - loss: 0.2543 - acc: 0.8925 - val_loss: 0.3987 - val_acc: 0.8350\nEpoch 92/120\n10000/10000 [==============================] - 8s 824us/step - loss: 0.2474 - acc: 0.8952 - val_loss: 0.4083 - val_acc: 0.8410\nEpoch 93/120\n10000/10000 [==============================] - 8s 833us/step - loss: 0.2435 - acc: 0.8976 - val_loss: 0.4810 - val_acc: 0.8280\nEpoch 94/120\n10000/10000 [==============================] - 9s 871us/step - loss: 0.2429 - acc: 0.8942 - val_loss: 0.4291 - val_acc: 0.8340\nEpoch 95/120\n10000/10000 [==============================] - 8s 847us/step - loss: 0.2475 - acc: 0.8968 - val_loss: 0.4485 - val_acc: 0.8300\nEpoch 96/120\n10000/10000 [==============================] - 8s 831us/step - loss: 0.2412 - acc: 0.8978 - val_loss: 0.4612 - val_acc: 0.8280\nEpoch 97/120\n10000/10000 [==============================] - 9s 877us/step - loss: 0.2387 - acc: 0.8971 - val_loss: 0.4669 - val_acc: 0.8230\nEpoch 98/120\n10000/10000 [==============================] - 8s 827us/step - loss: 0.2441 - acc: 0.8953 - val_loss: 0.4713 - val_acc: 0.8320\nEpoch 99/120\n10000/10000 [==============================] - 8s 819us/step - loss: 0.2484 - acc: 0.8975 - val_loss: 0.4397 - val_acc: 0.8280\nEpoch 100/120\n10000/10000 [==============================] - 8s 848us/step - loss: 0.2375 - acc: 0.8991 - val_loss: 0.4534 - val_acc: 0.8340\nEpoch 101/120\n10000/10000 [==============================] - 9s 874us/step - loss: 0.2375 - acc: 0.8999 - val_loss: 0.4413 - val_acc: 0.8270\nEpoch 102/120\n10000/10000 [==============================] - 8s 841us/step - loss: 0.2402 - acc: 0.8992 - val_loss: 0.4551 - val_acc: 0.8260\nEpoch 103/120\n10000/10000 [==============================] - 10s 978us/step - loss: 0.2359 - acc: 0.8983 - val_loss: 0.4470 - val_acc: 0.8320\nEpoch 104/120\n10000/10000 [==============================] - 9s 885us/step - loss: 0.2313 - acc: 0.9000 - val_loss: 0.5235 - val_acc: 0.8190\nEpoch 105/120\n10000/10000 [==============================] - 8s 832us/step - loss: 0.2413 - acc: 0.8995 - val_loss: 0.4463 - val_acc: 0.8310\nEpoch 106/120\n10000/10000 [==============================] - 8s 847us/step - loss: 0.2335 - acc: 0.9021 - val_loss: 0.4962 - val_acc: 0.8180\nEpoch 107/120\n10000/10000 [==============================] - 9s 862us/step - loss: 0.2371 - acc: 0.9021 - val_loss: 0.4868 - val_acc: 0.8250\nEpoch 108/120\n10000/10000 [==============================] - 8s 839us/step - loss: 0.2406 - acc: 0.9001 - val_loss: 0.4497 - val_acc: 0.8300\nEpoch 109/120\n10000/10000 [==============================] - 8s 830us/step - loss: 0.2306 - acc: 0.9027 - val_loss: 0.4782 - val_acc: 0.8240\nEpoch 110/120\n10000/10000 [==============================] - 8s 827us/step - loss: 0.2238 - acc: 0.9055 - val_loss: 0.4761 - val_acc: 0.8260\nEpoch 111/120\n10000/10000 [==============================] - 9s 890us/step - loss: 0.2345 - acc: 0.9032 - val_loss: 0.4482 - val_acc: 0.8320\nEpoch 112/120\n10000/10000 [==============================] - 8s 832us/step - loss: 0.2388 - acc: 0.9015 - val_loss: 0.4506 - val_acc: 0.8330\nEpoch 113/120\n10000/10000 [==============================] - 8s 821us/step - loss: 0.2309 - acc: 0.9044 - val_loss: 0.4945 - val_acc: 0.8290\nEpoch 114/120\n10000/10000 [==============================] - 9s 878us/step - loss: 0.2247 - acc: 0.9075 - val_loss: 0.4681 - val_acc: 0.8320\nEpoch 115/120\n10000/10000 [==============================] - 8s 821us/step - loss: 0.2266 - acc: 0.9071 - val_loss: 0.4533 - val_acc: 0.8410\nEpoch 116/120\n10000/10000 [==============================] - 8s 805us/step - loss: 0.2261 - acc: 0.9068 - val_loss: 0.4851 - val_acc: 0.8320\nEpoch 117/120\n10000/10000 [==============================] - 8s 822us/step - loss: 0.2198 - acc: 0.9069 - val_loss: 0.4513 - val_acc: 0.8380\nEpoch 118/120\n10000/10000 [==============================] - 9s 880us/step - loss: 0.2263 - acc: 0.9046 - val_loss: 0.4987 - val_acc: 0.8310\nEpoch 119/120\n10000/10000 [==============================] - 8s 825us/step - loss: 0.2206 - acc: 0.9059 - val_loss: 0.4798 - val_acc: 0.8280\nEpoch 120/120\n10000/10000 [==============================] - 8s 801us/step - loss: 0.2208 - acc: 0.9066 - val_loss: 0.4740 - val_acc: 0.8310\n"
    }
   ],
   "source": [
    "history = model.fit([inputs_train, queries_train], answers_train,batch_size=32,epochs=120,validation_data=([inputs_test, queries_test], answers_test))"
   ]
  },
  {
   "cell_type": "code",
   "execution_count": 43,
   "metadata": {},
   "outputs": [],
   "source": [
    "model.save('./models/chatbot_120e.h5')"
   ]
  },
  {
   "cell_type": "code",
   "execution_count": 44,
   "metadata": {},
   "outputs": [
    {
     "name": "stdout",
     "output_type": "stream",
     "text": "dict_keys(['val_loss', 'val_acc', 'loss', 'acc'])\n"
    },
    {
     "data": {
      "image/png": "[encoded data removed]",
      "image/svg+xml": "<?xml version=\"1.0\" encoding=\"utf-8\" standalone=\"no\"?>\r\n<!DOCTYPE svg PUBLIC \"-//W3C//DTD SVG 1.1//EN\"\r\n  \"http://www.w3.org/Graphics/SVG/1.1/DTD/svg11.dtd\">\r\n<!-- Created with matplotlib (https://matplotlib.org/) -->\r\n<svg height=\"277.314375pt\" version=\"1.1\" viewBox=\"0 0 389.28125 277.314375\" width=\"389.28125pt\" xmlns=\"http://www.w3.org/2000/svg\" xmlns:xlink=\"http://www.w3.org/1999/xlink\">\r\n <defs>\r\n  <style type=\"text/css\">\r\n*{stroke-linecap:butt;stroke-linejoin:round;}\r\n  </style>\r\n </defs>\r\n <g id=\"figure_1\">\r\n  <g id=\"patch_1\">\r\n   <path d=\"M 0 277.314375 \r\nL 389.28125 277.314375 \r\nL 389.28125 0 \r\nL 0 0 \r\nz\r\n\" style=\"fill:none;\"/>\r\n  </g>\r\n  <g id=\"axes_1\">\r\n   <g id=\"patch_2\">\r\n    <path d=\"M 43.78125 239.758125 \r\nL 378.58125 239.758125 \r\nL 378.58125 22.318125 \r\nL 43.78125 22.318125 \r\nz\r\n\" style=\"fill:#ffffff;\"/>\r\n   </g>\r\n   <g id=\"matplotlib.axis_1\">\r\n    <g id=\"xtick_1\">\r\n     <g id=\"line2d_1\">\r\n      <defs>\r\n       <path d=\"M 0 0 \r\nL 0 3.5 \r\n\" id=\"me6c38eb7d4\" style=\"stroke:#000000;stroke-width:0.8;\"/>\r\n      </defs>\r\n      <g>\r\n       <use style=\"stroke:#000000;stroke-width:0.8;\" x=\"58.999432\" xlink:href=\"#me6c38eb7d4\" y=\"239.758125\"/>\r\n      </g>\r\n     </g>\r\n     <g id=\"text_1\">\r\n      <!-- 0 -->\r\n      <defs>\r\n       <path d=\"M 31.78125 66.40625 \r\nQ 24.171875 66.40625 20.328125 58.90625 \r\nQ 16.5 51.421875 16.5 36.375 \r\nQ 16.5 21.390625 20.328125 13.890625 \r\nQ 24.171875 6.390625 31.78125 6.390625 \r\nQ 39.453125 6.390625 43.28125 13.890625 \r\nQ 47.125 21.390625 47.125 36.375 \r\nQ 47.125 51.421875 43.28125 58.90625 \r\nQ 39.453125 66.40625 31.78125 66.40625 \r\nz\r\nM 31.78125 74.21875 \r\nQ 44.046875 74.21875 50.515625 64.515625 \r\nQ 56.984375 54.828125 56.984375 36.375 \r\nQ 56.984375 17.96875 50.515625 8.265625 \r\nQ 44.046875 -1.421875 31.78125 -1.421875 \r\nQ 19.53125 -1.421875 13.0625 8.265625 \r\nQ 6.59375 17.96875 6.59375 36.375 \r\nQ 6.59375 54.828125 13.0625 64.515625 \r\nQ 19.53125 74.21875 31.78125 74.21875 \r\nz\r\n\" id=\"DejaVuSans-48\"/>\r\n      </defs>\r\n      <g transform=\"translate(55.818182 254.356562)scale(0.1 -0.1)\">\r\n       <use xlink:href=\"#DejaVuSans-48\"/>\r\n      </g>\r\n     </g>\r\n    </g>\r\n    <g id=\"xtick_2\">\r\n     <g id=\"line2d_2\">\r\n      <g>\r\n       <use style=\"stroke:#000000;stroke-width:0.8;\" x=\"110.152984\" xlink:href=\"#me6c38eb7d4\" y=\"239.758125\"/>\r\n      </g>\r\n     </g>\r\n     <g id=\"text_2\">\r\n      <!-- 20 -->\r\n      <defs>\r\n       <path d=\"M 19.1875 8.296875 \r\nL 53.609375 8.296875 \r\nL 53.609375 0 \r\nL 7.328125 0 \r\nL 7.328125 8.296875 \r\nQ 12.9375 14.109375 22.625 23.890625 \r\nQ 32.328125 33.6875 34.8125 36.53125 \r\nQ 39.546875 41.84375 41.421875 45.53125 \r\nQ 43.3125 49.21875 43.3125 52.78125 \r\nQ 43.3125 58.59375 39.234375 62.25 \r\nQ 35.15625 65.921875 28.609375 65.921875 \r\nQ 23.96875 65.921875 18.8125 64.3125 \r\nQ 13.671875 62.703125 7.8125 59.421875 \r\nL 7.8125 69.390625 \r\nQ 13.765625 71.78125 18.9375 73 \r\nQ 24.125 74.21875 28.421875 74.21875 \r\nQ 39.75 74.21875 46.484375 68.546875 \r\nQ 53.21875 62.890625 53.21875 53.421875 \r\nQ 53.21875 48.921875 51.53125 44.890625 \r\nQ 49.859375 40.875 45.40625 35.40625 \r\nQ 44.1875 33.984375 37.640625 27.21875 \r\nQ 31.109375 20.453125 19.1875 8.296875 \r\nz\r\n\" id=\"DejaVuSans-50\"/>\r\n      </defs>\r\n      <g transform=\"translate(103.790484 254.356562)scale(0.1 -0.1)\">\r\n       <use xlink:href=\"#DejaVuSans-50\"/>\r\n       <use x=\"63.623047\" xlink:href=\"#DejaVuSans-48\"/>\r\n      </g>\r\n     </g>\r\n    </g>\r\n    <g id=\"xtick_3\">\r\n     <g id=\"line2d_3\">\r\n      <g>\r\n       <use style=\"stroke:#000000;stroke-width:0.8;\" x=\"161.306536\" xlink:href=\"#me6c38eb7d4\" y=\"239.758125\"/>\r\n      </g>\r\n     </g>\r\n     <g id=\"text_3\">\r\n      <!-- 40 -->\r\n      <defs>\r\n       <path d=\"M 37.796875 64.3125 \r\nL 12.890625 25.390625 \r\nL 37.796875 25.390625 \r\nz\r\nM 35.203125 72.90625 \r\nL 47.609375 72.90625 \r\nL 47.609375 25.390625 \r\nL 58.015625 25.390625 \r\nL 58.015625 17.1875 \r\nL 47.609375 17.1875 \r\nL 47.609375 0 \r\nL 37.796875 0 \r\nL 37.796875 17.1875 \r\nL 4.890625 17.1875 \r\nL 4.890625 26.703125 \r\nz\r\n\" id=\"DejaVuSans-52\"/>\r\n      </defs>\r\n      <g transform=\"translate(154.944036 254.356562)scale(0.1 -0.1)\">\r\n       <use xlink:href=\"#DejaVuSans-52\"/>\r\n       <use x=\"63.623047\" xlink:href=\"#DejaVuSans-48\"/>\r\n      </g>\r\n     </g>\r\n    </g>\r\n    <g id=\"xtick_4\">\r\n     <g id=\"line2d_4\">\r\n      <g>\r\n       <use style=\"stroke:#000000;stroke-width:0.8;\" x=\"212.460089\" xlink:href=\"#me6c38eb7d4\" y=\"239.758125\"/>\r\n      </g>\r\n     </g>\r\n     <g id=\"text_4\">\r\n      <!-- 60 -->\r\n      <defs>\r\n       <path d=\"M 33.015625 40.375 \r\nQ 26.375 40.375 22.484375 35.828125 \r\nQ 18.609375 31.296875 18.609375 23.390625 \r\nQ 18.609375 15.53125 22.484375 10.953125 \r\nQ 26.375 6.390625 33.015625 6.390625 \r\nQ 39.65625 6.390625 43.53125 10.953125 \r\nQ 47.40625 15.53125 47.40625 23.390625 \r\nQ 47.40625 31.296875 43.53125 35.828125 \r\nQ 39.65625 40.375 33.015625 40.375 \r\nz\r\nM 52.59375 71.296875 \r\nL 52.59375 62.3125 \r\nQ 48.875 64.0625 45.09375 64.984375 \r\nQ 41.3125 65.921875 37.59375 65.921875 \r\nQ 27.828125 65.921875 22.671875 59.328125 \r\nQ 17.53125 52.734375 16.796875 39.40625 \r\nQ 19.671875 43.65625 24.015625 45.921875 \r\nQ 28.375 48.1875 33.59375 48.1875 \r\nQ 44.578125 48.1875 50.953125 41.515625 \r\nQ 57.328125 34.859375 57.328125 23.390625 \r\nQ 57.328125 12.15625 50.6875 5.359375 \r\nQ 44.046875 -1.421875 33.015625 -1.421875 \r\nQ 20.359375 -1.421875 13.671875 8.265625 \r\nQ 6.984375 17.96875 6.984375 36.375 \r\nQ 6.984375 53.65625 15.1875 63.9375 \r\nQ 23.390625 74.21875 37.203125 74.21875 \r\nQ 40.921875 74.21875 44.703125 73.484375 \r\nQ 48.484375 72.75 52.59375 71.296875 \r\nz\r\n\" id=\"DejaVuSans-54\"/>\r\n      </defs>\r\n      <g transform=\"translate(206.097589 254.356562)scale(0.1 -0.1)\">\r\n       <use xlink:href=\"#DejaVuSans-54\"/>\r\n       <use x=\"63.623047\" xlink:href=\"#DejaVuSans-48\"/>\r\n      </g>\r\n     </g>\r\n    </g>\r\n    <g id=\"xtick_5\">\r\n     <g id=\"line2d_5\">\r\n      <g>\r\n       <use style=\"stroke:#000000;stroke-width:0.8;\" x=\"263.613641\" xlink:href=\"#me6c38eb7d4\" y=\"239.758125\"/>\r\n      </g>\r\n     </g>\r\n     <g id=\"text_5\">\r\n      <!-- 80 -->\r\n      <defs>\r\n       <path d=\"M 31.78125 34.625 \r\nQ 24.75 34.625 20.71875 30.859375 \r\nQ 16.703125 27.09375 16.703125 20.515625 \r\nQ 16.703125 13.921875 20.71875 10.15625 \r\nQ 24.75 6.390625 31.78125 6.390625 \r\nQ 38.8125 6.390625 42.859375 10.171875 \r\nQ 46.921875 13.96875 46.921875 20.515625 \r\nQ 46.921875 27.09375 42.890625 30.859375 \r\nQ 38.875 34.625 31.78125 34.625 \r\nz\r\nM 21.921875 38.8125 \r\nQ 15.578125 40.375 12.03125 44.71875 \r\nQ 8.5 49.078125 8.5 55.328125 \r\nQ 8.5 64.0625 14.71875 69.140625 \r\nQ 20.953125 74.21875 31.78125 74.21875 \r\nQ 42.671875 74.21875 48.875 69.140625 \r\nQ 55.078125 64.0625 55.078125 55.328125 \r\nQ 55.078125 49.078125 51.53125 44.71875 \r\nQ 48 40.375 41.703125 38.8125 \r\nQ 48.828125 37.15625 52.796875 32.3125 \r\nQ 56.78125 27.484375 56.78125 20.515625 \r\nQ 56.78125 9.90625 50.3125 4.234375 \r\nQ 43.84375 -1.421875 31.78125 -1.421875 \r\nQ 19.734375 -1.421875 13.25 4.234375 \r\nQ 6.78125 9.90625 6.78125 20.515625 \r\nQ 6.78125 27.484375 10.78125 32.3125 \r\nQ 14.796875 37.15625 21.921875 38.8125 \r\nz\r\nM 18.3125 54.390625 \r\nQ 18.3125 48.734375 21.84375 45.5625 \r\nQ 25.390625 42.390625 31.78125 42.390625 \r\nQ 38.140625 42.390625 41.71875 45.5625 \r\nQ 45.3125 48.734375 45.3125 54.390625 \r\nQ 45.3125 60.0625 41.71875 63.234375 \r\nQ 38.140625 66.40625 31.78125 66.40625 \r\nQ 25.390625 66.40625 21.84375 63.234375 \r\nQ 18.3125 60.0625 18.3125 54.390625 \r\nz\r\n\" id=\"DejaVuSans-56\"/>\r\n      </defs>\r\n      <g transform=\"translate(257.251141 254.356562)scale(0.1 -0.1)\">\r\n       <use xlink:href=\"#DejaVuSans-56\"/>\r\n       <use x=\"63.623047\" xlink:href=\"#DejaVuSans-48\"/>\r\n      </g>\r\n     </g>\r\n    </g>\r\n    <g id=\"xtick_6\">\r\n     <g id=\"line2d_6\">\r\n      <g>\r\n       <use style=\"stroke:#000000;stroke-width:0.8;\" x=\"314.767193\" xlink:href=\"#me6c38eb7d4\" y=\"239.758125\"/>\r\n      </g>\r\n     </g>\r\n     <g id=\"text_6\">\r\n      <!-- 100 -->\r\n      <defs>\r\n       <path d=\"M 12.40625 8.296875 \r\nL 28.515625 8.296875 \r\nL 28.515625 63.921875 \r\nL 10.984375 60.40625 \r\nL 10.984375 69.390625 \r\nL 28.421875 72.90625 \r\nL 38.28125 72.90625 \r\nL 38.28125 8.296875 \r\nL 54.390625 8.296875 \r\nL 54.390625 0 \r\nL 12.40625 0 \r\nz\r\n\" id=\"DejaVuSans-49\"/>\r\n      </defs>\r\n      <g transform=\"translate(305.223443 254.356562)scale(0.1 -0.1)\">\r\n       <use xlink:href=\"#DejaVuSans-49\"/>\r\n       <use x=\"63.623047\" xlink:href=\"#DejaVuSans-48\"/>\r\n       <use x=\"127.246094\" xlink:href=\"#DejaVuSans-48\"/>\r\n      </g>\r\n     </g>\r\n    </g>\r\n    <g id=\"xtick_7\">\r\n     <g id=\"line2d_7\">\r\n      <g>\r\n       <use style=\"stroke:#000000;stroke-width:0.8;\" x=\"365.920746\" xlink:href=\"#me6c38eb7d4\" y=\"239.758125\"/>\r\n      </g>\r\n     </g>\r\n     <g id=\"text_7\">\r\n      <!-- 120 -->\r\n      <g transform=\"translate(356.376996 254.356562)scale(0.1 -0.1)\">\r\n       <use xlink:href=\"#DejaVuSans-49\"/>\r\n       <use x=\"63.623047\" xlink:href=\"#DejaVuSans-50\"/>\r\n       <use x=\"127.246094\" xlink:href=\"#DejaVuSans-48\"/>\r\n      </g>\r\n     </g>\r\n    </g>\r\n    <g id=\"text_8\">\r\n     <!-- epoch -->\r\n     <defs>\r\n      <path d=\"M 56.203125 29.59375 \r\nL 56.203125 25.203125 \r\nL 14.890625 25.203125 \r\nQ 15.484375 15.921875 20.484375 11.0625 \r\nQ 25.484375 6.203125 34.421875 6.203125 \r\nQ 39.59375 6.203125 44.453125 7.46875 \r\nQ 49.3125 8.734375 54.109375 11.28125 \r\nL 54.109375 2.78125 \r\nQ 49.265625 0.734375 44.1875 -0.34375 \r\nQ 39.109375 -1.421875 33.890625 -1.421875 \r\nQ 20.796875 -1.421875 13.15625 6.1875 \r\nQ 5.515625 13.8125 5.515625 26.8125 \r\nQ 5.515625 40.234375 12.765625 48.109375 \r\nQ 20.015625 56 32.328125 56 \r\nQ 43.359375 56 49.78125 48.890625 \r\nQ 56.203125 41.796875 56.203125 29.59375 \r\nz\r\nM 47.21875 32.234375 \r\nQ 47.125 39.59375 43.09375 43.984375 \r\nQ 39.0625 48.390625 32.421875 48.390625 \r\nQ 24.90625 48.390625 20.390625 44.140625 \r\nQ 15.875 39.890625 15.1875 32.171875 \r\nz\r\n\" id=\"DejaVuSans-101\"/>\r\n      <path d=\"M 18.109375 8.203125 \r\nL 18.109375 -20.796875 \r\nL 9.078125 -20.796875 \r\nL 9.078125 54.6875 \r\nL 18.109375 54.6875 \r\nL 18.109375 46.390625 \r\nQ 20.953125 51.265625 25.265625 53.625 \r\nQ 29.59375 56 35.59375 56 \r\nQ 45.5625 56 51.78125 48.09375 \r\nQ 58.015625 40.1875 58.015625 27.296875 \r\nQ 58.015625 14.40625 51.78125 6.484375 \r\nQ 45.5625 -1.421875 35.59375 -1.421875 \r\nQ 29.59375 -1.421875 25.265625 0.953125 \r\nQ 20.953125 3.328125 18.109375 8.203125 \r\nz\r\nM 48.6875 27.296875 \r\nQ 48.6875 37.203125 44.609375 42.84375 \r\nQ 40.53125 48.484375 33.40625 48.484375 \r\nQ 26.265625 48.484375 22.1875 42.84375 \r\nQ 18.109375 37.203125 18.109375 27.296875 \r\nQ 18.109375 17.390625 22.1875 11.75 \r\nQ 26.265625 6.109375 33.40625 6.109375 \r\nQ 40.53125 6.109375 44.609375 11.75 \r\nQ 48.6875 17.390625 48.6875 27.296875 \r\nz\r\n\" id=\"DejaVuSans-112\"/>\r\n      <path d=\"M 30.609375 48.390625 \r\nQ 23.390625 48.390625 19.1875 42.75 \r\nQ 14.984375 37.109375 14.984375 27.296875 \r\nQ 14.984375 17.484375 19.15625 11.84375 \r\nQ 23.34375 6.203125 30.609375 6.203125 \r\nQ 37.796875 6.203125 41.984375 11.859375 \r\nQ 46.1875 17.53125 46.1875 27.296875 \r\nQ 46.1875 37.015625 41.984375 42.703125 \r\nQ 37.796875 48.390625 30.609375 48.390625 \r\nz\r\nM 30.609375 56 \r\nQ 42.328125 56 49.015625 48.375 \r\nQ 55.71875 40.765625 55.71875 27.296875 \r\nQ 55.71875 13.875 49.015625 6.21875 \r\nQ 42.328125 -1.421875 30.609375 -1.421875 \r\nQ 18.84375 -1.421875 12.171875 6.21875 \r\nQ 5.515625 13.875 5.515625 27.296875 \r\nQ 5.515625 40.765625 12.171875 48.375 \r\nQ 18.84375 56 30.609375 56 \r\nz\r\n\" id=\"DejaVuSans-111\"/>\r\n      <path d=\"M 48.78125 52.59375 \r\nL 48.78125 44.1875 \r\nQ 44.96875 46.296875 41.140625 47.34375 \r\nQ 37.3125 48.390625 33.40625 48.390625 \r\nQ 24.65625 48.390625 19.8125 42.84375 \r\nQ 14.984375 37.3125 14.984375 27.296875 \r\nQ 14.984375 17.28125 19.8125 11.734375 \r\nQ 24.65625 6.203125 33.40625 6.203125 \r\nQ 37.3125 6.203125 41.140625 7.25 \r\nQ 44.96875 8.296875 48.78125 10.40625 \r\nL 48.78125 2.09375 \r\nQ 45.015625 0.34375 40.984375 -0.53125 \r\nQ 36.96875 -1.421875 32.421875 -1.421875 \r\nQ 20.0625 -1.421875 12.78125 6.34375 \r\nQ 5.515625 14.109375 5.515625 27.296875 \r\nQ 5.515625 40.671875 12.859375 48.328125 \r\nQ 20.21875 56 33.015625 56 \r\nQ 37.15625 56 41.109375 55.140625 \r\nQ 45.0625 54.296875 48.78125 52.59375 \r\nz\r\n\" id=\"DejaVuSans-99\"/>\r\n      <path d=\"M 54.890625 33.015625 \r\nL 54.890625 0 \r\nL 45.90625 0 \r\nL 45.90625 32.71875 \r\nQ 45.90625 40.484375 42.875 44.328125 \r\nQ 39.84375 48.1875 33.796875 48.1875 \r\nQ 26.515625 48.1875 22.3125 43.546875 \r\nQ 18.109375 38.921875 18.109375 30.90625 \r\nL 18.109375 0 \r\nL 9.078125 0 \r\nL 9.078125 75.984375 \r\nL 18.109375 75.984375 \r\nL 18.109375 46.1875 \r\nQ 21.34375 51.125 25.703125 53.5625 \r\nQ 30.078125 56 35.796875 56 \r\nQ 45.21875 56 50.046875 50.171875 \r\nQ 54.890625 44.34375 54.890625 33.015625 \r\nz\r\n\" id=\"DejaVuSans-104\"/>\r\n     </defs>\r\n     <g transform=\"translate(195.953125 268.034687)scale(0.1 -0.1)\">\r\n      <use xlink:href=\"#DejaVuSans-101\"/>\r\n      <use x=\"61.523438\" xlink:href=\"#DejaVuSans-112\"/>\r\n      <use x=\"125\" xlink:href=\"#DejaVuSans-111\"/>\r\n      <use x=\"186.181641\" xlink:href=\"#DejaVuSans-99\"/>\r\n      <use x=\"241.162109\" xlink:href=\"#DejaVuSans-104\"/>\r\n     </g>\r\n    </g>\r\n   </g>\r\n   <g id=\"matplotlib.axis_2\">\r\n    <g id=\"ytick_1\">\r\n     <g id=\"line2d_8\">\r\n      <defs>\r\n       <path d=\"M 0 0 \r\nL -3.5 0 \r\n\" id=\"mafb983ded2\" style=\"stroke:#000000;stroke-width:0.8;\"/>\r\n      </defs>\r\n      <g>\r\n       <use style=\"stroke:#000000;stroke-width:0.8;\" x=\"43.78125\" xlink:href=\"#mafb983ded2\" y=\"218.448319\"/>\r\n      </g>\r\n     </g>\r\n     <g id=\"text_9\">\r\n      <!-- 0.5 -->\r\n      <defs>\r\n       <path d=\"M 10.6875 12.40625 \r\nL 21 12.40625 \r\nL 21 0 \r\nL 10.6875 0 \r\nz\r\n\" id=\"DejaVuSans-46\"/>\r\n       <path d=\"M 10.796875 72.90625 \r\nL 49.515625 72.90625 \r\nL 49.515625 64.59375 \r\nL 19.828125 64.59375 \r\nL 19.828125 46.734375 \r\nQ 21.96875 47.46875 24.109375 47.828125 \r\nQ 26.265625 48.1875 28.421875 48.1875 \r\nQ 40.625 48.1875 47.75 41.5 \r\nQ 54.890625 34.8125 54.890625 23.390625 \r\nQ 54.890625 11.625 47.5625 5.09375 \r\nQ 40.234375 -1.421875 26.90625 -1.421875 \r\nQ 22.3125 -1.421875 17.546875 -0.640625 \r\nQ 12.796875 0.140625 7.71875 1.703125 \r\nL 7.71875 11.625 \r\nQ 12.109375 9.234375 16.796875 8.0625 \r\nQ 21.484375 6.890625 26.703125 6.890625 \r\nQ 35.15625 6.890625 40.078125 11.328125 \r\nQ 45.015625 15.765625 45.015625 23.390625 \r\nQ 45.015625 31 40.078125 35.4375 \r\nQ 35.15625 39.890625 26.703125 39.890625 \r\nQ 22.75 39.890625 18.8125 39.015625 \r\nQ 14.890625 38.140625 10.796875 36.28125 \r\nz\r\n\" id=\"DejaVuSans-53\"/>\r\n      </defs>\r\n      <g transform=\"translate(20.878125 222.247538)scale(0.1 -0.1)\">\r\n       <use xlink:href=\"#DejaVuSans-48\"/>\r\n       <use x=\"63.623047\" xlink:href=\"#DejaVuSans-46\"/>\r\n       <use x=\"95.410156\" xlink:href=\"#DejaVuSans-53\"/>\r\n      </g>\r\n     </g>\r\n    </g>\r\n    <g id=\"ytick_2\">\r\n     <g id=\"line2d_9\">\r\n      <g>\r\n       <use style=\"stroke:#000000;stroke-width:0.8;\" x=\"43.78125\" xlink:href=\"#mafb983ded2\" y=\"172.743643\"/>\r\n      </g>\r\n     </g>\r\n     <g id=\"text_10\">\r\n      <!-- 0.6 -->\r\n      <g transform=\"translate(20.878125 176.542861)scale(0.1 -0.1)\">\r\n       <use xlink:href=\"#DejaVuSans-48\"/>\r\n       <use x=\"63.623047\" xlink:href=\"#DejaVuSans-46\"/>\r\n       <use x=\"95.410156\" xlink:href=\"#DejaVuSans-54\"/>\r\n      </g>\r\n     </g>\r\n    </g>\r\n    <g id=\"ytick_3\">\r\n     <g id=\"line2d_10\">\r\n      <g>\r\n       <use style=\"stroke:#000000;stroke-width:0.8;\" x=\"43.78125\" xlink:href=\"#mafb983ded2\" y=\"127.038966\"/>\r\n      </g>\r\n     </g>\r\n     <g id=\"text_11\">\r\n      <!-- 0.7 -->\r\n      <defs>\r\n       <path d=\"M 8.203125 72.90625 \r\nL 55.078125 72.90625 \r\nL 55.078125 68.703125 \r\nL 28.609375 0 \r\nL 18.3125 0 \r\nL 43.21875 64.59375 \r\nL 8.203125 64.59375 \r\nz\r\n\" id=\"DejaVuSans-55\"/>\r\n      </defs>\r\n      <g transform=\"translate(20.878125 130.838185)scale(0.1 -0.1)\">\r\n       <use xlink:href=\"#DejaVuSans-48\"/>\r\n       <use x=\"63.623047\" xlink:href=\"#DejaVuSans-46\"/>\r\n       <use x=\"95.410156\" xlink:href=\"#DejaVuSans-55\"/>\r\n      </g>\r\n     </g>\r\n    </g>\r\n    <g id=\"ytick_4\">\r\n     <g id=\"line2d_11\">\r\n      <g>\r\n       <use style=\"stroke:#000000;stroke-width:0.8;\" x=\"43.78125\" xlink:href=\"#mafb983ded2\" y=\"81.334289\"/>\r\n      </g>\r\n     </g>\r\n     <g id=\"text_12\">\r\n      <!-- 0.8 -->\r\n      <g transform=\"translate(20.878125 85.133508)scale(0.1 -0.1)\">\r\n       <use xlink:href=\"#DejaVuSans-48\"/>\r\n       <use x=\"63.623047\" xlink:href=\"#DejaVuSans-46\"/>\r\n       <use x=\"95.410156\" xlink:href=\"#DejaVuSans-56\"/>\r\n      </g>\r\n     </g>\r\n    </g>\r\n    <g id=\"ytick_5\">\r\n     <g id=\"line2d_12\">\r\n      <g>\r\n       <use style=\"stroke:#000000;stroke-width:0.8;\" x=\"43.78125\" xlink:href=\"#mafb983ded2\" y=\"35.629612\"/>\r\n      </g>\r\n     </g>\r\n     <g id=\"text_13\">\r\n      <!-- 0.9 -->\r\n      <defs>\r\n       <path d=\"M 10.984375 1.515625 \r\nL 10.984375 10.5 \r\nQ 14.703125 8.734375 18.5 7.8125 \r\nQ 22.3125 6.890625 25.984375 6.890625 \r\nQ 35.75 6.890625 40.890625 13.453125 \r\nQ 46.046875 20.015625 46.78125 33.40625 \r\nQ 43.953125 29.203125 39.59375 26.953125 \r\nQ 35.25 24.703125 29.984375 24.703125 \r\nQ 19.046875 24.703125 12.671875 31.3125 \r\nQ 6.296875 37.9375 6.296875 49.421875 \r\nQ 6.296875 60.640625 12.9375 67.421875 \r\nQ 19.578125 74.21875 30.609375 74.21875 \r\nQ 43.265625 74.21875 49.921875 64.515625 \r\nQ 56.59375 54.828125 56.59375 36.375 \r\nQ 56.59375 19.140625 48.40625 8.859375 \r\nQ 40.234375 -1.421875 26.421875 -1.421875 \r\nQ 22.703125 -1.421875 18.890625 -0.6875 \r\nQ 15.09375 0.046875 10.984375 1.515625 \r\nz\r\nM 30.609375 32.421875 \r\nQ 37.25 32.421875 41.125 36.953125 \r\nQ 45.015625 41.5 45.015625 49.421875 \r\nQ 45.015625 57.28125 41.125 61.84375 \r\nQ 37.25 66.40625 30.609375 66.40625 \r\nQ 23.96875 66.40625 20.09375 61.84375 \r\nQ 16.21875 57.28125 16.21875 49.421875 \r\nQ 16.21875 41.5 20.09375 36.953125 \r\nQ 23.96875 32.421875 30.609375 32.421875 \r\nz\r\n\" id=\"DejaVuSans-57\"/>\r\n      </defs>\r\n      <g transform=\"translate(20.878125 39.428831)scale(0.1 -0.1)\">\r\n       <use xlink:href=\"#DejaVuSans-48\"/>\r\n       <use x=\"63.623047\" xlink:href=\"#DejaVuSans-46\"/>\r\n       <use x=\"95.410156\" xlink:href=\"#DejaVuSans-57\"/>\r\n      </g>\r\n     </g>\r\n    </g>\r\n    <g id=\"text_14\">\r\n     <!-- accuracy -->\r\n     <defs>\r\n      <path d=\"M 34.28125 27.484375 \r\nQ 23.390625 27.484375 19.1875 25 \r\nQ 14.984375 22.515625 14.984375 16.5 \r\nQ 14.984375 11.71875 18.140625 8.90625 \r\nQ 21.296875 6.109375 26.703125 6.109375 \r\nQ 34.1875 6.109375 38.703125 11.40625 \r\nQ 43.21875 16.703125 43.21875 25.484375 \r\nL 43.21875 27.484375 \r\nz\r\nM 52.203125 31.203125 \r\nL 52.203125 0 \r\nL 43.21875 0 \r\nL 43.21875 8.296875 \r\nQ 40.140625 3.328125 35.546875 0.953125 \r\nQ 30.953125 -1.421875 24.3125 -1.421875 \r\nQ 15.921875 -1.421875 10.953125 3.296875 \r\nQ 6 8.015625 6 15.921875 \r\nQ 6 25.140625 12.171875 29.828125 \r\nQ 18.359375 34.515625 30.609375 34.515625 \r\nL 43.21875 34.515625 \r\nL 43.21875 35.40625 \r\nQ 43.21875 41.609375 39.140625 45 \r\nQ 35.0625 48.390625 27.6875 48.390625 \r\nQ 23 48.390625 18.546875 47.265625 \r\nQ 14.109375 46.140625 10.015625 43.890625 \r\nL 10.015625 52.203125 \r\nQ 14.9375 54.109375 19.578125 55.046875 \r\nQ 24.21875 56 28.609375 56 \r\nQ 40.484375 56 46.34375 49.84375 \r\nQ 52.203125 43.703125 52.203125 31.203125 \r\nz\r\n\" id=\"DejaVuSans-97\"/>\r\n      <path d=\"M 8.5 21.578125 \r\nL 8.5 54.6875 \r\nL 17.484375 54.6875 \r\nL 17.484375 21.921875 \r\nQ 17.484375 14.15625 20.5 10.265625 \r\nQ 23.53125 6.390625 29.59375 6.390625 \r\nQ 36.859375 6.390625 41.078125 11.03125 \r\nQ 45.3125 15.671875 45.3125 23.6875 \r\nL 45.3125 54.6875 \r\nL 54.296875 54.6875 \r\nL 54.296875 0 \r\nL 45.3125 0 \r\nL 45.3125 8.40625 \r\nQ 42.046875 3.421875 37.71875 1 \r\nQ 33.40625 -1.421875 27.6875 -1.421875 \r\nQ 18.265625 -1.421875 13.375 4.4375 \r\nQ 8.5 10.296875 8.5 21.578125 \r\nz\r\nM 31.109375 56 \r\nz\r\n\" id=\"DejaVuSans-117\"/>\r\n      <path d=\"M 41.109375 46.296875 \r\nQ 39.59375 47.171875 37.8125 47.578125 \r\nQ 36.03125 48 33.890625 48 \r\nQ 26.265625 48 22.1875 43.046875 \r\nQ 18.109375 38.09375 18.109375 28.8125 \r\nL 18.109375 0 \r\nL 9.078125 0 \r\nL 9.078125 54.6875 \r\nL 18.109375 54.6875 \r\nL 18.109375 46.1875 \r\nQ 20.953125 51.171875 25.484375 53.578125 \r\nQ 30.03125 56 36.53125 56 \r\nQ 37.453125 56 38.578125 55.875 \r\nQ 39.703125 55.765625 41.0625 55.515625 \r\nz\r\n\" id=\"DejaVuSans-114\"/>\r\n      <path d=\"M 32.171875 -5.078125 \r\nQ 28.375 -14.84375 24.75 -17.8125 \r\nQ 21.140625 -20.796875 15.09375 -20.796875 \r\nL 7.90625 -20.796875 \r\nL 7.90625 -13.28125 \r\nL 13.1875 -13.28125 \r\nQ 16.890625 -13.28125 18.9375 -11.515625 \r\nQ 21 -9.765625 23.484375 -3.21875 \r\nL 25.09375 0.875 \r\nL 2.984375 54.6875 \r\nL 12.5 54.6875 \r\nL 29.59375 11.921875 \r\nL 46.6875 54.6875 \r\nL 56.203125 54.6875 \r\nz\r\n\" id=\"DejaVuSans-121\"/>\r\n     </defs>\r\n     <g transform=\"translate(14.798438 153.5975)rotate(-90)scale(0.1 -0.1)\">\r\n      <use xlink:href=\"#DejaVuSans-97\"/>\r\n      <use x=\"61.279297\" xlink:href=\"#DejaVuSans-99\"/>\r\n      <use x=\"116.259766\" xlink:href=\"#DejaVuSans-99\"/>\r\n      <use x=\"171.240234\" xlink:href=\"#DejaVuSans-117\"/>\r\n      <use x=\"234.619141\" xlink:href=\"#DejaVuSans-114\"/>\r\n      <use x=\"275.732422\" xlink:href=\"#DejaVuSans-97\"/>\r\n      <use x=\"337.011719\" xlink:href=\"#DejaVuSans-99\"/>\r\n      <use x=\"391.992188\" xlink:href=\"#DejaVuSans-121\"/>\r\n     </g>\r\n    </g>\r\n   </g>\r\n   <g id=\"line2d_13\">\r\n    <path clip-path=\"url(#p2030124e9e)\" d=\"M 58.999432 220.047983 \r\nL 61.557109 218.311205 \r\nL 64.114787 219.545232 \r\nL 66.672465 216.574428 \r\nL 69.230142 222.790264 \r\nL 71.78782 218.082682 \r\nL 74.345498 217.945568 \r\nL 76.903175 216.711542 \r\nL 79.460853 216.711542 \r\nL 82.01853 216.574428 \r\nL 84.576208 212.643825 \r\nL 87.133886 216.848656 \r\nL 89.691563 215.660334 \r\nL 92.249241 209.490203 \r\nL 94.806918 198.429671 \r\nL 97.364596 176.582835 \r\nL 99.922274 159.306468 \r\nL 102.479951 146.052111 \r\nL 105.037629 140.247617 \r\nL 107.595307 135.722854 \r\nL 110.152984 133.803258 \r\nL 112.710662 129.369904 \r\nL 115.268339 127.86165 \r\nL 117.826017 123.336887 \r\nL 120.383695 120.411788 \r\nL 122.941372 113.144744 \r\nL 125.49905 110.676691 \r\nL 128.056727 102.998306 \r\nL 130.614405 98.290724 \r\nL 133.172083 93.126096 \r\nL 135.72976 89.881064 \r\nL 138.287438 82.385497 \r\nL 140.845116 79.963149 \r\nL 143.402793 76.992345 \r\nL 145.960471 73.381675 \r\nL 148.518148 67.805705 \r\nL 151.075826 63.966512 \r\nL 153.633504 62.595371 \r\nL 156.191181 63.509465 \r\nL 158.748859 59.304635 \r\nL 161.306536 59.898796 \r\nL 163.864214 58.070608 \r\nL 166.421892 57.659266 \r\nL 168.979569 57.567857 \r\nL 171.537247 57.11081 \r\nL 174.094925 57.293629 \r\nL 176.652602 54.779872 \r\nL 179.21028 52.357524 \r\nL 181.767957 52.723161 \r\nL 184.325635 53.363027 \r\nL 186.883313 50.986384 \r\nL 189.44099 52.037591 \r\nL 191.998668 52.494638 \r\nL 194.556345 50.346518 \r\nL 197.114023 49.980881 \r\nL 199.671701 51.214907 \r\nL 202.229378 49.158196 \r\nL 204.787056 47.558533 \r\nL 207.344734 47.832761 \r\nL 209.902411 49.432425 \r\nL 212.460089 47.649942 \r\nL 215.017766 48.289808 \r\nL 217.575444 46.004574 \r\nL 220.133122 44.999071 \r\nL 222.690799 46.233097 \r\nL 225.248477 45.044776 \r\nL 227.806155 45.044776 \r\nL 230.363832 44.953366 \r\nL 232.92151 44.633433 \r\nL 235.479187 44.861957 \r\nL 238.036865 44.816252 \r\nL 240.594543 44.40491 \r\nL 243.15222 43.353703 \r\nL 245.709898 44.724843 \r\nL 248.267575 43.627931 \r\nL 250.825253 43.947863 \r\nL 253.382931 41.845448 \r\nL 255.940608 42.805246 \r\nL 258.498286 40.702831 \r\nL 261.055964 43.03377 \r\nL 263.613641 41.434106 \r\nL 266.171319 41.525515 \r\nL 268.728996 42.759542 \r\nL 271.286674 41.251287 \r\nL 273.844352 40.565717 \r\nL 276.402029 39.51451 \r\nL 278.959707 38.82894 \r\nL 281.517384 38.097665 \r\nL 284.075062 38.509007 \r\nL 286.63274 38.280483 \r\nL 289.190417 39.057463 \r\nL 291.748095 37.823437 \r\nL 294.305773 36.726524 \r\nL 296.86345 38.280483 \r\nL 299.421128 37.092162 \r\nL 301.978805 36.635115 \r\nL 304.536483 36.955048 \r\nL 307.094161 37.777732 \r\nL 309.651838 36.772229 \r\nL 312.209516 36.040954 \r\nL 314.767193 35.675317 \r\nL 317.324871 35.99525 \r\nL 319.882549 36.406592 \r\nL 322.440226 35.629612 \r\nL 324.997904 35.858136 \r\nL 327.555582 34.669814 \r\nL 330.113259 34.669814 \r\nL 332.670937 35.583907 \r\nL 335.228614 34.395586 \r\nL 337.786292 33.115855 \r\nL 340.34397 34.167062 \r\nL 342.901647 34.944042 \r\nL 345.459325 33.618606 \r\nL 348.017002 32.201761 \r\nL 350.57468 32.38458 \r\nL 353.132358 32.521694 \r\nL 355.690035 32.475989 \r\nL 358.247713 33.527197 \r\nL 360.805391 32.933036 \r\nL 363.363068 32.613103 \r\n\" style=\"fill:none;stroke:#1f77b4;stroke-linecap:square;stroke-width:1.5;\"/>\r\n   </g>\r\n   <g id=\"line2d_14\">\r\n    <path clip-path=\"url(#p2030124e9e)\" d=\"M 58.999432 217.077179 \r\nL 61.557109 219.81946 \r\nL 64.114787 219.81946 \r\nL 66.672465 217.077179 \r\nL 69.230142 217.077179 \r\nL 71.78782 217.077179 \r\nL 74.345498 217.077179 \r\nL 76.903175 219.81946 \r\nL 79.460853 217.077179 \r\nL 82.01853 219.81946 \r\nL 84.576208 219.362413 \r\nL 87.133886 214.791945 \r\nL 89.691563 229.874489 \r\nL 92.249241 219.81946 \r\nL 94.806918 194.224841 \r\nL 97.364596 160.40338 \r\nL 99.922274 149.434257 \r\nL 102.479951 144.86379 \r\nL 105.037629 140.750369 \r\nL 107.595307 135.265808 \r\nL 110.152984 134.808761 \r\nL 112.710662 132.06648 \r\nL 115.268339 131.152387 \r\nL 117.826017 131.152387 \r\nL 120.383695 125.210779 \r\nL 122.941372 123.382592 \r\nL 125.49905 102.815487 \r\nL 128.056727 101.444347 \r\nL 130.614405 97.787973 \r\nL 133.172083 99.61616 \r\nL 135.72976 88.647037 \r\nL 138.287438 85.44771 \r\nL 140.845116 80.420195 \r\nL 143.402793 82.248382 \r\nL 145.960471 80.877242 \r\nL 148.518148 77.677915 \r\nL 151.075826 68.994026 \r\nL 153.633504 78.134962 \r\nL 156.191181 77.220868 \r\nL 158.748859 70.822213 \r\nL 161.306536 74.935634 \r\nL 163.864214 73.564494 \r\nL 166.421892 69.90812 \r\nL 168.979569 68.994026 \r\nL 171.537247 71.27926 \r\nL 174.094925 68.994026 \r\nL 176.652602 69.90812 \r\nL 179.21028 67.622886 \r\nL 181.767957 70.365167 \r\nL 184.325635 69.451073 \r\nL 186.883313 70.822213 \r\nL 189.44099 68.994026 \r\nL 191.998668 68.994026 \r\nL 194.556345 68.079933 \r\nL 197.114023 72.6504 \r\nL 199.671701 68.079933 \r\nL 202.229378 71.27926 \r\nL 204.787056 71.27926 \r\nL 207.344734 68.079933 \r\nL 209.902411 73.107447 \r\nL 212.460089 68.079933 \r\nL 215.017766 67.622886 \r\nL 217.575444 68.536979 \r\nL 220.133122 71.27926 \r\nL 222.690799 72.6504 \r\nL 225.248477 66.708792 \r\nL 227.806155 69.451073 \r\nL 230.363832 66.708792 \r\nL 232.92151 67.622886 \r\nL 235.479187 65.794699 \r\nL 238.036865 66.251746 \r\nL 240.594543 70.365167 \r\nL 243.15222 70.822213 \r\nL 245.709898 67.165839 \r\nL 248.267575 68.994026 \r\nL 250.825253 70.365167 \r\nL 253.382931 68.079933 \r\nL 255.940608 67.165839 \r\nL 258.498286 66.251746 \r\nL 261.055964 70.822213 \r\nL 263.613641 69.451073 \r\nL 266.171319 68.536979 \r\nL 268.728996 66.708792 \r\nL 271.286674 69.451073 \r\nL 273.844352 68.079933 \r\nL 276.402029 68.079933 \r\nL 278.959707 71.27926 \r\nL 281.517384 73.107447 \r\nL 284.075062 67.165839 \r\nL 286.63274 65.794699 \r\nL 289.190417 65.337652 \r\nL 291.748095 62.595371 \r\nL 294.305773 68.536979 \r\nL 296.86345 65.794699 \r\nL 299.421128 67.622886 \r\nL 301.978805 68.536979 \r\nL 304.536483 70.822213 \r\nL 307.094161 66.708792 \r\nL 309.651838 68.536979 \r\nL 312.209516 65.794699 \r\nL 314.767193 68.994026 \r\nL 317.324871 69.451073 \r\nL 319.882549 66.708792 \r\nL 322.440226 72.6504 \r\nL 324.997904 67.165839 \r\nL 327.555582 73.107447 \r\nL 330.113259 69.90812 \r\nL 332.670937 67.622886 \r\nL 335.228614 70.365167 \r\nL 337.786292 69.451073 \r\nL 340.34397 66.708792 \r\nL 342.901647 66.251746 \r\nL 345.459325 68.079933 \r\nL 348.017002 66.708792 \r\nL 350.57468 62.595371 \r\nL 353.132358 66.708792 \r\nL 355.690035 63.966512 \r\nL 358.247713 67.165839 \r\nL 360.805391 68.536979 \r\nL 363.363068 67.165839 \r\n\" style=\"fill:none;stroke:#ff7f0e;stroke-linecap:square;stroke-width:1.5;\"/>\r\n   </g>\r\n   <g id=\"patch_3\">\r\n    <path d=\"M 43.78125 239.758125 \r\nL 43.78125 22.318125 \r\n\" style=\"fill:none;stroke:#000000;stroke-linecap:square;stroke-linejoin:miter;stroke-width:0.8;\"/>\r\n   </g>\r\n   <g id=\"patch_4\">\r\n    <path d=\"M 378.58125 239.758125 \r\nL 378.58125 22.318125 \r\n\" style=\"fill:none;stroke:#000000;stroke-linecap:square;stroke-linejoin:miter;stroke-width:0.8;\"/>\r\n   </g>\r\n   <g id=\"patch_5\">\r\n    <path d=\"M 43.78125 239.758125 \r\nL 378.58125 239.758125 \r\n\" style=\"fill:none;stroke:#000000;stroke-linecap:square;stroke-linejoin:miter;stroke-width:0.8;\"/>\r\n   </g>\r\n   <g id=\"patch_6\">\r\n    <path d=\"M 43.78125 22.318125 \r\nL 378.58125 22.318125 \r\n\" style=\"fill:none;stroke:#000000;stroke-linecap:square;stroke-linejoin:miter;stroke-width:0.8;\"/>\r\n   </g>\r\n   <g id=\"text_15\">\r\n    <!-- model accuracy -->\r\n    <defs>\r\n     <path d=\"M 52 44.1875 \r\nQ 55.375 50.25 60.0625 53.125 \r\nQ 64.75 56 71.09375 56 \r\nQ 79.640625 56 84.28125 50.015625 \r\nQ 88.921875 44.046875 88.921875 33.015625 \r\nL 88.921875 0 \r\nL 79.890625 0 \r\nL 79.890625 32.71875 \r\nQ 79.890625 40.578125 77.09375 44.375 \r\nQ 74.3125 48.1875 68.609375 48.1875 \r\nQ 61.625 48.1875 57.5625 43.546875 \r\nQ 53.515625 38.921875 53.515625 30.90625 \r\nL 53.515625 0 \r\nL 44.484375 0 \r\nL 44.484375 32.71875 \r\nQ 44.484375 40.625 41.703125 44.40625 \r\nQ 38.921875 48.1875 33.109375 48.1875 \r\nQ 26.21875 48.1875 22.15625 43.53125 \r\nQ 18.109375 38.875 18.109375 30.90625 \r\nL 18.109375 0 \r\nL 9.078125 0 \r\nL 9.078125 54.6875 \r\nL 18.109375 54.6875 \r\nL 18.109375 46.1875 \r\nQ 21.1875 51.21875 25.484375 53.609375 \r\nQ 29.78125 56 35.6875 56 \r\nQ 41.65625 56 45.828125 52.96875 \r\nQ 50 49.953125 52 44.1875 \r\nz\r\n\" id=\"DejaVuSans-109\"/>\r\n     <path d=\"M 45.40625 46.390625 \r\nL 45.40625 75.984375 \r\nL 54.390625 75.984375 \r\nL 54.390625 0 \r\nL 45.40625 0 \r\nL 45.40625 8.203125 \r\nQ 42.578125 3.328125 38.25 0.953125 \r\nQ 33.9375 -1.421875 27.875 -1.421875 \r\nQ 17.96875 -1.421875 11.734375 6.484375 \r\nQ 5.515625 14.40625 5.515625 27.296875 \r\nQ 5.515625 40.1875 11.734375 48.09375 \r\nQ 17.96875 56 27.875 56 \r\nQ 33.9375 56 38.25 53.625 \r\nQ 42.578125 51.265625 45.40625 46.390625 \r\nz\r\nM 14.796875 27.296875 \r\nQ 14.796875 17.390625 18.875 11.75 \r\nQ 22.953125 6.109375 30.078125 6.109375 \r\nQ 37.203125 6.109375 41.296875 11.75 \r\nQ 45.40625 17.390625 45.40625 27.296875 \r\nQ 45.40625 37.203125 41.296875 42.84375 \r\nQ 37.203125 48.484375 30.078125 48.484375 \r\nQ 22.953125 48.484375 18.875 42.84375 \r\nQ 14.796875 37.203125 14.796875 27.296875 \r\nz\r\n\" id=\"DejaVuSans-100\"/>\r\n     <path d=\"M 9.421875 75.984375 \r\nL 18.40625 75.984375 \r\nL 18.40625 0 \r\nL 9.421875 0 \r\nz\r\n\" id=\"DejaVuSans-108\"/>\r\n     <path id=\"DejaVuSans-32\"/>\r\n    </defs>\r\n    <g transform=\"translate(163.519688 16.318125)scale(0.12 -0.12)\">\r\n     <use xlink:href=\"#DejaVuSans-109\"/>\r\n     <use x=\"97.412109\" xlink:href=\"#DejaVuSans-111\"/>\r\n     <use x=\"158.59375\" xlink:href=\"#DejaVuSans-100\"/>\r\n     <use x=\"222.070312\" xlink:href=\"#DejaVuSans-101\"/>\r\n     <use x=\"283.59375\" xlink:href=\"#DejaVuSans-108\"/>\r\n     <use x=\"311.376953\" xlink:href=\"#DejaVuSans-32\"/>\r\n     <use x=\"343.164062\" xlink:href=\"#DejaVuSans-97\"/>\r\n     <use x=\"404.443359\" xlink:href=\"#DejaVuSans-99\"/>\r\n     <use x=\"459.423828\" xlink:href=\"#DejaVuSans-99\"/>\r\n     <use x=\"514.404297\" xlink:href=\"#DejaVuSans-117\"/>\r\n     <use x=\"577.783203\" xlink:href=\"#DejaVuSans-114\"/>\r\n     <use x=\"618.896484\" xlink:href=\"#DejaVuSans-97\"/>\r\n     <use x=\"680.175781\" xlink:href=\"#DejaVuSans-99\"/>\r\n     <use x=\"735.15625\" xlink:href=\"#DejaVuSans-121\"/>\r\n    </g>\r\n   </g>\r\n   <g id=\"legend_1\">\r\n    <g id=\"patch_7\">\r\n     <path d=\"M 50.78125 59.674375 \r\nL 106.05625 59.674375 \r\nQ 108.05625 59.674375 108.05625 57.674375 \r\nL 108.05625 29.318125 \r\nQ 108.05625 27.318125 106.05625 27.318125 \r\nL 50.78125 27.318125 \r\nQ 48.78125 27.318125 48.78125 29.318125 \r\nL 48.78125 57.674375 \r\nQ 48.78125 59.674375 50.78125 59.674375 \r\nz\r\n\" style=\"fill:#ffffff;opacity:0.8;stroke:#cccccc;stroke-linejoin:miter;\"/>\r\n    </g>\r\n    <g id=\"line2d_15\">\r\n     <path d=\"M 52.78125 35.416562 \r\nL 72.78125 35.416562 \r\n\" style=\"fill:none;stroke:#1f77b4;stroke-linecap:square;stroke-width:1.5;\"/>\r\n    </g>\r\n    <g id=\"line2d_16\"/>\r\n    <g id=\"text_16\">\r\n     <!-- train -->\r\n     <defs>\r\n      <path d=\"M 18.3125 70.21875 \r\nL 18.3125 54.6875 \r\nL 36.8125 54.6875 \r\nL 36.8125 47.703125 \r\nL 18.3125 47.703125 \r\nL 18.3125 18.015625 \r\nQ 18.3125 11.328125 20.140625 9.421875 \r\nQ 21.96875 7.515625 27.59375 7.515625 \r\nL 36.8125 7.515625 \r\nL 36.8125 0 \r\nL 27.59375 0 \r\nQ 17.1875 0 13.234375 3.875 \r\nQ 9.28125 7.765625 9.28125 18.015625 \r\nL 9.28125 47.703125 \r\nL 2.6875 47.703125 \r\nL 2.6875 54.6875 \r\nL 9.28125 54.6875 \r\nL 9.28125 70.21875 \r\nz\r\n\" id=\"DejaVuSans-116\"/>\r\n      <path d=\"M 9.421875 54.6875 \r\nL 18.40625 54.6875 \r\nL 18.40625 0 \r\nL 9.421875 0 \r\nz\r\nM 9.421875 75.984375 \r\nL 18.40625 75.984375 \r\nL 18.40625 64.59375 \r\nL 9.421875 64.59375 \r\nz\r\n\" id=\"DejaVuSans-105\"/>\r\n      <path d=\"M 54.890625 33.015625 \r\nL 54.890625 0 \r\nL 45.90625 0 \r\nL 45.90625 32.71875 \r\nQ 45.90625 40.484375 42.875 44.328125 \r\nQ 39.84375 48.1875 33.796875 48.1875 \r\nQ 26.515625 48.1875 22.3125 43.546875 \r\nQ 18.109375 38.921875 18.109375 30.90625 \r\nL 18.109375 0 \r\nL 9.078125 0 \r\nL 9.078125 54.6875 \r\nL 18.109375 54.6875 \r\nL 18.109375 46.1875 \r\nQ 21.34375 51.125 25.703125 53.5625 \r\nQ 30.078125 56 35.796875 56 \r\nQ 45.21875 56 50.046875 50.171875 \r\nQ 54.890625 44.34375 54.890625 33.015625 \r\nz\r\n\" id=\"DejaVuSans-110\"/>\r\n     </defs>\r\n     <g transform=\"translate(80.78125 38.916562)scale(0.1 -0.1)\">\r\n      <use xlink:href=\"#DejaVuSans-116\"/>\r\n      <use x=\"39.208984\" xlink:href=\"#DejaVuSans-114\"/>\r\n      <use x=\"80.322266\" xlink:href=\"#DejaVuSans-97\"/>\r\n      <use x=\"141.601562\" xlink:href=\"#DejaVuSans-105\"/>\r\n      <use x=\"169.384766\" xlink:href=\"#DejaVuSans-110\"/>\r\n     </g>\r\n    </g>\r\n    <g id=\"line2d_17\">\r\n     <path d=\"M 52.78125 50.094687 \r\nL 72.78125 50.094687 \r\n\" style=\"fill:none;stroke:#ff7f0e;stroke-linecap:square;stroke-width:1.5;\"/>\r\n    </g>\r\n    <g id=\"line2d_18\"/>\r\n    <g id=\"text_17\">\r\n     <!-- test -->\r\n     <defs>\r\n      <path d=\"M 44.28125 53.078125 \r\nL 44.28125 44.578125 \r\nQ 40.484375 46.53125 36.375 47.5 \r\nQ 32.28125 48.484375 27.875 48.484375 \r\nQ 21.1875 48.484375 17.84375 46.4375 \r\nQ 14.5 44.390625 14.5 40.28125 \r\nQ 14.5 37.15625 16.890625 35.375 \r\nQ 19.28125 33.59375 26.515625 31.984375 \r\nL 29.59375 31.296875 \r\nQ 39.15625 29.25 43.1875 25.515625 \r\nQ 47.21875 21.78125 47.21875 15.09375 \r\nQ 47.21875 7.46875 41.1875 3.015625 \r\nQ 35.15625 -1.421875 24.609375 -1.421875 \r\nQ 20.21875 -1.421875 15.453125 -0.5625 \r\nQ 10.6875 0.296875 5.421875 2 \r\nL 5.421875 11.28125 \r\nQ 10.40625 8.6875 15.234375 7.390625 \r\nQ 20.0625 6.109375 24.8125 6.109375 \r\nQ 31.15625 6.109375 34.5625 8.28125 \r\nQ 37.984375 10.453125 37.984375 14.40625 \r\nQ 37.984375 18.0625 35.515625 20.015625 \r\nQ 33.0625 21.96875 24.703125 23.78125 \r\nL 21.578125 24.515625 \r\nQ 13.234375 26.265625 9.515625 29.90625 \r\nQ 5.8125 33.546875 5.8125 39.890625 \r\nQ 5.8125 47.609375 11.28125 51.796875 \r\nQ 16.75 56 26.8125 56 \r\nQ 31.78125 56 36.171875 55.265625 \r\nQ 40.578125 54.546875 44.28125 53.078125 \r\nz\r\n\" id=\"DejaVuSans-115\"/>\r\n     </defs>\r\n     <g transform=\"translate(80.78125 53.594687)scale(0.1 -0.1)\">\r\n      <use xlink:href=\"#DejaVuSans-116\"/>\r\n      <use x=\"39.208984\" xlink:href=\"#DejaVuSans-101\"/>\r\n      <use x=\"100.732422\" xlink:href=\"#DejaVuSans-115\"/>\r\n      <use x=\"152.832031\" xlink:href=\"#DejaVuSans-116\"/>\r\n     </g>\r\n    </g>\r\n   </g>\r\n  </g>\r\n </g>\r\n <defs>\r\n  <clipPath id=\"p2030124e9e\">\r\n   <rect height=\"217.44\" width=\"334.8\" x=\"43.78125\" y=\"22.318125\"/>\r\n  </clipPath>\r\n </defs>\r\n</svg>\r\n",
      "text/plain": "<Figure size 432x288 with 1 Axes>"
     },
     "metadata": {
      "needs_background": "light"
     },
     "output_type": "display_data"
    }
   ],
   "source": [
    "import matplotlib.pyplot as plt\n",
    "%matplotlib inline\n",
    "print(history.history.keys())\n",
    "\n",
    "plt.plot(history.history['acc'])\n",
    "plt.plot(history.history['val_acc'])\n",
    "plt.title('model accuracy')\n",
    "plt.ylabel('accuracy')\n",
    "plt.xlabel('epoch')\n",
    "plt.legend(['train', 'test'], loc='upper left')\n",
    "plt.show()"
   ]
  },
  {
   "cell_type": "code",
   "execution_count": 45,
   "metadata": {},
   "outputs": [],
   "source": [
    "pred_results = model.predict(([inputs_test,queries_test]))"
   ]
  },
  {
   "cell_type": "code",
   "execution_count": 56,
   "metadata": {},
   "outputs": [],
   "source": [
    "my_story = \"John left the kitchen . Sandra dropped the football in the bedroom .\"\n",
    "my_question = \"Is the football in the bedroom ?\""
   ]
  },
  {
   "cell_type": "code",
   "execution_count": 57,
   "metadata": {},
   "outputs": [],
   "source": [
    "def get_answer(story,question):\n",
    "    my_data = [(story.split(),question.split(),'no')]\n",
    "    story, question, my_answer = vectorize_stories(my_data)\n",
    "    pred_results = model.predict(([story, question]))\n",
    "    val_max = np.argmax(pred_results[0])\n",
    "    for key,val in tokenizer.word_index.items():\n",
    "        if val == val_max:\n",
    "            return key"
   ]
  },
  {
   "cell_type": "code",
   "execution_count": 58,
   "metadata": {},
   "outputs": [
    {
     "data": {
      "text/plain": "'yes'"
     },
     "execution_count": 58,
     "metadata": {},
     "output_type": "execute_result"
    }
   ],
   "source": [
    "get_answer(my_story,my_question)"
   ]
  },
  {
   "cell_type": "code",
   "execution_count": null,
   "metadata": {},
   "outputs": [],
   "source": []
  }
 ]
}